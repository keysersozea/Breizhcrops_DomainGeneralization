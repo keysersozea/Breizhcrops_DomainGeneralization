{
  "cells": [
    {
      "cell_type": "code",
      "execution_count": 1,
      "metadata": {
        "id": "VqdCsGnl0YSG"
      },
      "outputs": [],
      "source": [
        "import breizhcrops as bzh\n",
        "from breizhcrops import BreizhCrops\n",
        "import numpy as np\n",
        "import pandas as pd\n",
        "import matplotlib.pyplot as plt\n",
        "import tqdm\n",
        "from tqdm import tqdm\n",
        "import torch\n",
        "from torch.utils.data import Dataset, DataLoader\n",
        "from torch import nn\n",
        "from torch.optim import Adam\n",
        "import os\n",
        "from sklearn.metrics import accuracy_score, cohen_kappa_score, f1_score, recall_score, precision_score\n",
        "import sklearn"
      ]
    },
    {
      "cell_type": "code",
      "execution_count": 2,
      "metadata": {
        "colab": {
          "base_uri": "https://localhost:8080/"
        },
        "id": "xgrKtp930YSI",
        "outputId": "736ab50a-9efc-4561-d956-78123e33d6eb"
      },
      "outputs": [],
      "source": [
        "frh01 = BreizhCrops(\"frh01\")\n",
        "frh02 = BreizhCrops(\"frh02\")\n",
        "frh03 = BreizhCrops(\"frh03\")\n",
        "frh04 = BreizhCrops(\"frh04\")\n",
        "device = torch.device(\"cuda\" if torch.cuda.is_available() else \"cpu\")"
      ]
    },
    {
      "cell_type": "code",
      "execution_count": 3,
      "metadata": {},
      "outputs": [],
      "source": [
        "frh01.domain = 1\n",
        "frh02.domain = 2\n",
        "frh03.domain = 3\n",
        "frh04.domain = 4"
      ]
    },
    {
      "cell_type": "code",
      "execution_count": 4,
      "metadata": {
        "id": "CtqQtuuE0YSJ"
      },
      "outputs": [],
      "source": [
        "def split_dataset(dataset, X=0.8):\n",
        "\n",
        "    total_samples = len(dataset)\n",
        "\n",
        "    num_test_samples = int(X * total_samples)\n",
        "\n",
        "    np.random.seed(42)\n",
        "\n",
        "    test_indices = np.random.choice(total_samples, num_test_samples, replace=False)\n",
        "\n",
        "    # Find complementary indices\n",
        "    train_indices = np.setdiff1d(np.arange(total_samples), test_indices)\n",
        "\n",
        "    test = torch.utils.data.Subset(dataset, test_indices)\n",
        "    train = torch.utils.data.Subset(dataset, train_indices)\n",
        "    return train, test"
      ]
    },
    {
      "cell_type": "code",
      "execution_count": 5,
      "metadata": {
        "id": "JR0KiriS0YSJ"
      },
      "outputs": [],
      "source": [
        "def get_dataloader(mode, batchsize, X=0.8, num_workers=0, upperPerformance=False):\n",
        "\n",
        "\n",
        "    if mode == \"234\":\n",
        "        frh01_train, frh01_test = split_dataset(frh01, X=X)\n",
        "\n",
        "        if upperPerformance:\n",
        "            traindatasets = frh01_train\n",
        "        else:\n",
        "            traindatasets = torch.utils.data.ConcatDataset([frh02, frh03, frh04])\n",
        "\n",
        "        testdataset = frh01_test\n",
        "\n",
        "    elif mode =='123':\n",
        "        frh04_train, frh04_test = split_dataset(frh04, X=X)\n",
        "\n",
        "        if upperPerformance:\n",
        "            traindatasets = frh04_train\n",
        "        else:\n",
        "            traindatasets = torch.utils.data.ConcatDataset([frh01, frh02, frh03])\n",
        "\n",
        "        testdataset = frh04_test\n",
        "\n",
        "    elif mode == '124':\n",
        "        frh03_train, frh03_test = split_dataset(frh03, X=X)\n",
        "\n",
        "        if upperPerformance:\n",
        "            traindatasets = frh03_train\n",
        "        else:\n",
        "            traindatasets = torch.utils.data.ConcatDataset([frh01, frh02, frh04])\n",
        "\n",
        "        testdataset = frh03_test\n",
        "    elif mode == '134':\n",
        "        frh02_train, frh02_test = split_dataset(frh02, X=X)\n",
        "\n",
        "        if upperPerformance:\n",
        "            traindatasets = frh02_train\n",
        "        else:\n",
        "            traindatasets = torch.utils.data.ConcatDataset([frh01, frh03, frh04])\n",
        "\n",
        "        testdataset = frh02_test\n",
        "    else:\n",
        "        raise ValueError(\"Invalid mode\")\n",
        "\n",
        "\n",
        "    traindataloader = DataLoader(traindatasets, batch_size=batchsize, shuffle=True, num_workers=num_workers)\n",
        "    testdataloader = DataLoader(testdataset, batch_size=batchsize, shuffle=False, num_workers=num_workers)\n",
        "\n",
        "    meta = dict(\n",
        "        ndims=13,\n",
        "        num_classes=frh02.classes,\n",
        "        sequencelength=45\n",
        "    )\n",
        "\n",
        "    return traindataloader, testdataloader, meta"
      ]
    },
    {
      "cell_type": "code",
      "execution_count": 6,
      "metadata": {
        "id": "7vVVDnDB0YSJ"
      },
      "outputs": [],
      "source": [
        "class LSTM_Model(torch.nn.Module):\n",
        "    def __init__(self, input_size=13, hidden_size=128, num_layers=4, output_size=9, bidirectional=False, dropout=0.2, c_norm=True):\n",
        "        super(LSTM_Model, self).__init__()\n",
        "        self.input_size = input_size\n",
        "        self.hidden_size = hidden_size\n",
        "        self.num_layers = num_layers\n",
        "        self.output_size = output_size\n",
        "        self.c_norm = c_norm\n",
        "\n",
        "        if num_layers > 1 and dropout > 0:\n",
        "            self.dropout = dropout\n",
        "        else:\n",
        "            self.dropout = 0.0\n",
        "\n",
        "        self.clayernorm = nn.LayerNorm((hidden_size + hidden_size * bidirectional) * num_layers)\n",
        "\n",
        "        self.lstm = nn.LSTM(input_size=input_size, hidden_size=hidden_size, num_layers=num_layers,\n",
        "                            bias=False, batch_first=True, dropout=dropout, bidirectional=bidirectional)\n",
        "\n",
        "        if bidirectional:\n",
        "            hidden_size = hidden_size * 2\n",
        "\n",
        "        self.fc = nn.Linear(hidden_size * num_layers, output_size, bias=True)\n",
        "\n",
        "    def forward(self, x):\n",
        "\n",
        "        outputs, last_state_list = self.lstm.forward(x)\n",
        "\n",
        "        h, c = last_state_list\n",
        "\n",
        "        nlayers, batchsize, n_hidden = c.shape\n",
        "\n",
        "        if self.c_norm:\n",
        "            x = self.clayernorm(c.transpose(0, 1).contiguous().view(batchsize, nlayers * n_hidden))\n",
        "        else:\n",
        "            x = c.transpose(0, 1).contiguous().view(batchsize, nlayers * n_hidden)\n",
        "        x = self.fc.forward(x)\n",
        "        return x\n",
        "\n",
        "    def save(self, path=\"model.pth\", **kwargs):\n",
        "        print(\"\\nsaving model to \" + path)\n",
        "        model_state = self.state_dict()\n",
        "        os.makedirs(os.path.dirname(path), exist_ok=True)\n",
        "        torch.save(dict(model_state=model_state, **kwargs), path)\n",
        "\n",
        "model = LSTM_Model(input_size=13, hidden_size=128, num_layers=4, output_size=9, bidirectional=False, dropout=0.2, c_norm=True).to(device)\n"
      ]
    },
    {
      "cell_type": "code",
      "execution_count": 12,
      "metadata": {
        "id": "xuCsDphr0YSK"
      },
      "outputs": [],
      "source": [
        "def metrics(y_true, y_pred):\n",
        "    accuracy = accuracy_score(y_true, y_pred)\n",
        "    kappa = cohen_kappa_score(y_true, y_pred)\n",
        "    f1_micro = f1_score(y_true, y_pred, average=\"micro\")\n",
        "    f1_macro = f1_score(y_true, y_pred, average=\"macro\")\n",
        "    f1_weighted = f1_score(y_true, y_pred, average=\"weighted\")\n",
        "    recall_micro = recall_score(y_true, y_pred, average=\"micro\")\n",
        "    recall_macro = recall_score(y_true, y_pred, average=\"macro\")\n",
        "    recall_weighted = recall_score(y_true, y_pred, average=\"weighted\")\n",
        "    precision_micro = precision_score(y_true, y_pred, average=\"micro\")\n",
        "    precision_macro = precision_score(y_true, y_pred, average=\"macro\")\n",
        "    precision_weighted = precision_score(y_true, y_pred, average=\"weighted\")\n",
        "\n",
        "    return dict(\n",
        "        accuracy=accuracy,\n",
        "        kappa=kappa,\n",
        "        f1_micro=f1_micro,\n",
        "        f1_macro=f1_macro,\n",
        "        f1_weighted=f1_weighted,\n",
        "        recall_micro=recall_micro,\n",
        "        recall_macro=recall_macro,\n",
        "        recall_weighted=recall_weighted,\n",
        "        precision_micro=precision_micro,\n",
        "        precision_macro=precision_macro,\n",
        "        precision_weighted=precision_weighted,\n",
        "    )\n",
        "\n",
        "\n",
        "def train_epoch(model, optimizer, criterion, dataloader, device):\n",
        "    model.train()\n",
        "    losses = list()\n",
        "    with tqdm(enumerate(dataloader), total=len(dataloader), leave=True) as iterator:\n",
        "        for idx, batch in iterator:\n",
        "            optimizer.zero_grad()\n",
        "            x, y_true, _, _= batch\n",
        "            loss = criterion(model.forward(x.to(device)), y_true.to(device))\n",
        "            loss.backward()\n",
        "            optimizer.step()\n",
        "            iterator.set_description(f\"train loss={loss:.2f}\")\n",
        "            losses.append(loss)\n",
        "    return torch.stack(losses)\n",
        "\n",
        "\n",
        "def test_epoch(model, criterion, dataloader, device):\n",
        "    model.eval()\n",
        "    with torch.no_grad():\n",
        "        losses = list()\n",
        "        y_true_list = list()\n",
        "        y_pred_list = list()\n",
        "        field_ids_list = list()\n",
        "        with tqdm(enumerate(dataloader), total=len(dataloader), leave=True) as iterator:\n",
        "            for idx, batch in iterator:\n",
        "                x, y_true, field_id, _ = batch\n",
        "                logits = model.forward(x.to(device))\n",
        "                loss = criterion(logits, y_true.to(device))\n",
        "                iterator.set_description(f\"test loss={loss:.2f}\")\n",
        "                losses.append(loss)\n",
        "                y_true_list.append(y_true)\n",
        "                y_pred_list.append(logits.argmax(-1))\n",
        "                field_ids_list.append(field_id)\n",
        "        return torch.stack(losses), torch.cat(y_true_list), torch.cat(y_pred_list), torch.cat(field_ids_list)\n"
      ]
    },
    {
      "cell_type": "markdown",
      "metadata": {
        "id": "rADg0SNk0YSK"
      },
      "source": [
        "# Lower Baseline"
      ]
    },
    {
      "cell_type": "markdown",
      "metadata": {
        "id": "uWOpZ_9p0YSM"
      },
      "source": [
        "## 123"
      ]
    },
    {
      "cell_type": "code",
      "execution_count": 13,
      "metadata": {
        "colab": {
          "base_uri": "https://localhost:8080/"
        },
        "collapsed": true,
        "id": "J3AXjbrQ0YSM",
        "outputId": "8a4970c8-8adf-4a1a-915b-81cbff483926"
      },
      "outputs": [
        {
          "name": "stderr",
          "output_type": "stream",
          "text": [
            "  0%|          | 0/15177 [00:00<?, ?it/s]"
          ]
        },
        {
          "name": "stderr",
          "output_type": "stream",
          "text": [
            "train loss=0.54: 100%|██████████| 15177/15177 [21:18<00:00, 11.87it/s]\n",
            "test loss=1.90: 100%|██████████| 767/767 [00:35<00:00, 21.57it/s]\n",
            "/Users/aliyilmaz/anaconda3/envs/pytorch_env/lib/python3.12/site-packages/sklearn/metrics/_classification.py:1509: UndefinedMetricWarning: Precision is ill-defined and being set to 0.0 in labels with no predicted samples. Use `zero_division` parameter to control this behavior.\n",
            "  _warn_prf(average, modifier, f\"{metric.capitalize()} is\", len(result))\n",
            "/Users/aliyilmaz/anaconda3/envs/pytorch_env/lib/python3.12/site-packages/sklearn/metrics/_classification.py:1509: UndefinedMetricWarning: Precision is ill-defined and being set to 0.0 in labels with no predicted samples. Use `zero_division` parameter to control this behavior.\n",
            "  _warn_prf(average, modifier, f\"{metric.capitalize()} is\", len(result))\n"
          ]
        },
        {
          "name": "stdout",
          "output_type": "stream",
          "text": [
            "epoch 0: trainloss 2.39, testloss 0.75 accuracy=0.75, kappa=0.68, f1_micro=0.75, f1_macro=0.50, f1_weighted=0.72, recall_micro=0.75, recall_macro=0.52, recall_weighted=0.75, precision_micro=0.75, precision_macro=0.52, precision_weighted=0.75\n"
          ]
        },
        {
          "name": "stderr",
          "output_type": "stream",
          "text": [
            "train loss=0.44: 100%|██████████| 15177/15177 [21:25<00:00, 11.81it/s]\n",
            "test loss=1.71: 100%|██████████| 767/767 [00:35<00:00, 21.73it/s]\n",
            "/Users/aliyilmaz/anaconda3/envs/pytorch_env/lib/python3.12/site-packages/sklearn/metrics/_classification.py:1509: UndefinedMetricWarning: Precision is ill-defined and being set to 0.0 in labels with no predicted samples. Use `zero_division` parameter to control this behavior.\n",
            "  _warn_prf(average, modifier, f\"{metric.capitalize()} is\", len(result))\n",
            "/Users/aliyilmaz/anaconda3/envs/pytorch_env/lib/python3.12/site-packages/sklearn/metrics/_classification.py:1509: UndefinedMetricWarning: Precision is ill-defined and being set to 0.0 in labels with no predicted samples. Use `zero_division` parameter to control this behavior.\n",
            "  _warn_prf(average, modifier, f\"{metric.capitalize()} is\", len(result))\n"
          ]
        },
        {
          "name": "stdout",
          "output_type": "stream",
          "text": [
            "epoch 1: trainloss 0.35, testloss 0.82 accuracy=0.77, kappa=0.69, f1_micro=0.77, f1_macro=0.53, f1_weighted=0.75, recall_micro=0.77, recall_macro=0.53, recall_weighted=0.77, precision_micro=0.77, precision_macro=0.55, precision_weighted=0.76\n"
          ]
        },
        {
          "name": "stderr",
          "output_type": "stream",
          "text": [
            "train loss=0.26: 100%|██████████| 15177/15177 [17:56<00:00, 14.10it/s]\n",
            "test loss=0.82: 100%|██████████| 767/767 [00:30<00:00, 25.27it/s]\n",
            "/Users/aliyilmaz/anaconda3/envs/pytorch_env/lib/python3.12/site-packages/sklearn/metrics/_classification.py:1509: UndefinedMetricWarning: Precision is ill-defined and being set to 0.0 in labels with no predicted samples. Use `zero_division` parameter to control this behavior.\n",
            "  _warn_prf(average, modifier, f\"{metric.capitalize()} is\", len(result))\n",
            "/Users/aliyilmaz/anaconda3/envs/pytorch_env/lib/python3.12/site-packages/sklearn/metrics/_classification.py:1509: UndefinedMetricWarning: Precision is ill-defined and being set to 0.0 in labels with no predicted samples. Use `zero_division` parameter to control this behavior.\n",
            "  _warn_prf(average, modifier, f\"{metric.capitalize()} is\", len(result))\n"
          ]
        },
        {
          "name": "stdout",
          "output_type": "stream",
          "text": [
            "epoch 2: trainloss 0.35, testloss 0.74 accuracy=0.78, kappa=0.71, f1_micro=0.78, f1_macro=0.54, f1_weighted=0.76, recall_micro=0.78, recall_macro=0.55, recall_weighted=0.78, precision_micro=0.78, precision_macro=0.55, precision_weighted=0.78\n"
          ]
        },
        {
          "name": "stderr",
          "output_type": "stream",
          "text": [
            "train loss=0.67: 100%|██████████| 15177/15177 [16:50<00:00, 15.02it/s]\n",
            "test loss=1.23: 100%|██████████| 767/767 [00:31<00:00, 24.73it/s]\n",
            "/Users/aliyilmaz/anaconda3/envs/pytorch_env/lib/python3.12/site-packages/sklearn/metrics/_classification.py:1509: UndefinedMetricWarning: Precision is ill-defined and being set to 0.0 in labels with no predicted samples. Use `zero_division` parameter to control this behavior.\n",
            "  _warn_prf(average, modifier, f\"{metric.capitalize()} is\", len(result))\n",
            "/Users/aliyilmaz/anaconda3/envs/pytorch_env/lib/python3.12/site-packages/sklearn/metrics/_classification.py:1509: UndefinedMetricWarning: Precision is ill-defined and being set to 0.0 in labels with no predicted samples. Use `zero_division` parameter to control this behavior.\n",
            "  _warn_prf(average, modifier, f\"{metric.capitalize()} is\", len(result))\n"
          ]
        },
        {
          "name": "stdout",
          "output_type": "stream",
          "text": [
            "epoch 3: trainloss 0.33, testloss 0.79 accuracy=0.78, kappa=0.72, f1_micro=0.78, f1_macro=0.55, f1_weighted=0.78, recall_micro=0.78, recall_macro=0.56, recall_weighted=0.78, precision_micro=0.78, precision_macro=0.55, precision_weighted=0.77\n"
          ]
        },
        {
          "name": "stderr",
          "output_type": "stream",
          "text": [
            "train loss=0.41: 100%|██████████| 15177/15177 [17:12<00:00, 14.70it/s]\n",
            "test loss=0.83: 100%|██████████| 767/767 [00:31<00:00, 23.98it/s]\n",
            "/Users/aliyilmaz/anaconda3/envs/pytorch_env/lib/python3.12/site-packages/sklearn/metrics/_classification.py:1509: UndefinedMetricWarning: Precision is ill-defined and being set to 0.0 in labels with no predicted samples. Use `zero_division` parameter to control this behavior.\n",
            "  _warn_prf(average, modifier, f\"{metric.capitalize()} is\", len(result))\n",
            "/Users/aliyilmaz/anaconda3/envs/pytorch_env/lib/python3.12/site-packages/sklearn/metrics/_classification.py:1509: UndefinedMetricWarning: Precision is ill-defined and being set to 0.0 in labels with no predicted samples. Use `zero_division` parameter to control this behavior.\n",
            "  _warn_prf(average, modifier, f\"{metric.capitalize()} is\", len(result))\n"
          ]
        },
        {
          "name": "stdout",
          "output_type": "stream",
          "text": [
            "epoch 4: trainloss 0.30, testloss 0.74 accuracy=0.78, kappa=0.71, f1_micro=0.78, f1_macro=0.55, f1_weighted=0.77, recall_micro=0.78, recall_macro=0.55, recall_weighted=0.78, precision_micro=0.78, precision_macro=0.54, precision_weighted=0.77\n"
          ]
        },
        {
          "name": "stderr",
          "output_type": "stream",
          "text": [
            "train loss=0.38: 100%|██████████| 15177/15177 [17:17<00:00, 14.64it/s]\n",
            "test loss=0.78: 100%|██████████| 767/767 [00:30<00:00, 25.47it/s]\n",
            "/Users/aliyilmaz/anaconda3/envs/pytorch_env/lib/python3.12/site-packages/sklearn/metrics/_classification.py:1509: UndefinedMetricWarning: Precision is ill-defined and being set to 0.0 in labels with no predicted samples. Use `zero_division` parameter to control this behavior.\n",
            "  _warn_prf(average, modifier, f\"{metric.capitalize()} is\", len(result))\n",
            "/Users/aliyilmaz/anaconda3/envs/pytorch_env/lib/python3.12/site-packages/sklearn/metrics/_classification.py:1509: UndefinedMetricWarning: Precision is ill-defined and being set to 0.0 in labels with no predicted samples. Use `zero_division` parameter to control this behavior.\n",
            "  _warn_prf(average, modifier, f\"{metric.capitalize()} is\", len(result))\n"
          ]
        },
        {
          "name": "stdout",
          "output_type": "stream",
          "text": [
            "epoch 5: trainloss 0.47, testloss 0.81 accuracy=0.79, kappa=0.72, f1_micro=0.79, f1_macro=0.55, f1_weighted=0.78, recall_micro=0.79, recall_macro=0.56, recall_weighted=0.79, precision_micro=0.79, precision_macro=0.55, precision_weighted=0.78\n"
          ]
        },
        {
          "name": "stderr",
          "output_type": "stream",
          "text": [
            "train loss=0.52: 100%|██████████| 15177/15177 [17:39<00:00, 14.32it/s]\n",
            "test loss=0.93: 100%|██████████| 767/767 [00:31<00:00, 24.52it/s]\n",
            "/Users/aliyilmaz/anaconda3/envs/pytorch_env/lib/python3.12/site-packages/sklearn/metrics/_classification.py:1509: UndefinedMetricWarning: Precision is ill-defined and being set to 0.0 in labels with no predicted samples. Use `zero_division` parameter to control this behavior.\n",
            "  _warn_prf(average, modifier, f\"{metric.capitalize()} is\", len(result))\n",
            "/Users/aliyilmaz/anaconda3/envs/pytorch_env/lib/python3.12/site-packages/sklearn/metrics/_classification.py:1509: UndefinedMetricWarning: Precision is ill-defined and being set to 0.0 in labels with no predicted samples. Use `zero_division` parameter to control this behavior.\n",
            "  _warn_prf(average, modifier, f\"{metric.capitalize()} is\", len(result))\n"
          ]
        },
        {
          "name": "stdout",
          "output_type": "stream",
          "text": [
            "epoch 6: trainloss 0.38, testloss 0.73 accuracy=0.78, kappa=0.71, f1_micro=0.78, f1_macro=0.54, f1_weighted=0.77, recall_micro=0.78, recall_macro=0.55, recall_weighted=0.78, precision_micro=0.78, precision_macro=0.54, precision_weighted=0.77\n"
          ]
        },
        {
          "name": "stderr",
          "output_type": "stream",
          "text": [
            "train loss=0.41: 100%|██████████| 15177/15177 [17:40<00:00, 14.31it/s]\n",
            "test loss=0.63: 100%|██████████| 767/767 [00:29<00:00, 26.01it/s]\n",
            "/Users/aliyilmaz/anaconda3/envs/pytorch_env/lib/python3.12/site-packages/sklearn/metrics/_classification.py:1509: UndefinedMetricWarning: Precision is ill-defined and being set to 0.0 in labels with no predicted samples. Use `zero_division` parameter to control this behavior.\n",
            "  _warn_prf(average, modifier, f\"{metric.capitalize()} is\", len(result))\n",
            "/Users/aliyilmaz/anaconda3/envs/pytorch_env/lib/python3.12/site-packages/sklearn/metrics/_classification.py:1509: UndefinedMetricWarning: Precision is ill-defined and being set to 0.0 in labels with no predicted samples. Use `zero_division` parameter to control this behavior.\n",
            "  _warn_prf(average, modifier, f\"{metric.capitalize()} is\", len(result))\n"
          ]
        },
        {
          "name": "stdout",
          "output_type": "stream",
          "text": [
            "epoch 7: trainloss 0.54, testloss 0.75 accuracy=0.79, kappa=0.72, f1_micro=0.79, f1_macro=0.56, f1_weighted=0.79, recall_micro=0.79, recall_macro=0.56, recall_weighted=0.79, precision_micro=0.79, precision_macro=0.56, precision_weighted=0.78\n"
          ]
        },
        {
          "name": "stderr",
          "output_type": "stream",
          "text": [
            "train loss=0.72: 100%|██████████| 15177/15177 [17:50<00:00, 14.17it/s]\n",
            "test loss=0.72: 100%|██████████| 767/767 [00:31<00:00, 24.28it/s]\n",
            "/Users/aliyilmaz/anaconda3/envs/pytorch_env/lib/python3.12/site-packages/sklearn/metrics/_classification.py:1509: UndefinedMetricWarning: Precision is ill-defined and being set to 0.0 in labels with no predicted samples. Use `zero_division` parameter to control this behavior.\n",
            "  _warn_prf(average, modifier, f\"{metric.capitalize()} is\", len(result))\n",
            "/Users/aliyilmaz/anaconda3/envs/pytorch_env/lib/python3.12/site-packages/sklearn/metrics/_classification.py:1509: UndefinedMetricWarning: Precision is ill-defined and being set to 0.0 in labels with no predicted samples. Use `zero_division` parameter to control this behavior.\n",
            "  _warn_prf(average, modifier, f\"{metric.capitalize()} is\", len(result))\n"
          ]
        },
        {
          "name": "stdout",
          "output_type": "stream",
          "text": [
            "epoch 8: trainloss 0.28, testloss 0.83 accuracy=0.79, kappa=0.73, f1_micro=0.79, f1_macro=0.56, f1_weighted=0.78, recall_micro=0.79, recall_macro=0.56, recall_weighted=0.79, precision_micro=0.79, precision_macro=0.56, precision_weighted=0.79\n"
          ]
        },
        {
          "name": "stderr",
          "output_type": "stream",
          "text": [
            "train loss=0.38: 100%|██████████| 15177/15177 [17:40<00:00, 14.31it/s]\n",
            "test loss=1.30: 100%|██████████| 767/767 [00:29<00:00, 26.29it/s]\n",
            "/Users/aliyilmaz/anaconda3/envs/pytorch_env/lib/python3.12/site-packages/sklearn/metrics/_classification.py:1509: UndefinedMetricWarning: Precision is ill-defined and being set to 0.0 in labels with no predicted samples. Use `zero_division` parameter to control this behavior.\n",
            "  _warn_prf(average, modifier, f\"{metric.capitalize()} is\", len(result))\n",
            "/Users/aliyilmaz/anaconda3/envs/pytorch_env/lib/python3.12/site-packages/sklearn/metrics/_classification.py:1509: UndefinedMetricWarning: Precision is ill-defined and being set to 0.0 in labels with no predicted samples. Use `zero_division` parameter to control this behavior.\n",
            "  _warn_prf(average, modifier, f\"{metric.capitalize()} is\", len(result))\n"
          ]
        },
        {
          "name": "stdout",
          "output_type": "stream",
          "text": [
            "epoch 9: trainloss 0.39, testloss 0.75 accuracy=0.78, kappa=0.71, f1_micro=0.78, f1_macro=0.53, f1_weighted=0.76, recall_micro=0.78, recall_macro=0.55, recall_weighted=0.78, precision_micro=0.78, precision_macro=0.53, precision_weighted=0.77\n"
          ]
        }
      ],
      "source": [
        "device = \"mps\" if torch.backends.mps.is_available() else \"cpu\"\n",
        "model = LSTM_Model(input_size=13, hidden_size=64, num_layers=2, output_size=9, bidirectional=False, dropout=0.2, c_norm=True).to(device)\n",
        "train_dataloader, test_dataloader, meta = get_dataloader(mode=\"123\", batchsize=32, num_workers=0, X=0.2, upperPerformance=False)\n",
        "criterion = torch.nn.CrossEntropyLoss(reduction=\"mean\")\n",
        "optimizer = Adam(model.parameters(), 0.005, weight_decay=1e-6)\n",
        "log = list()\n",
        "for epoch in range(10):\n",
        "    train_loss = train_epoch(model, optimizer, criterion, train_dataloader, device)\n",
        "    test_loss, y_true, y_pred, *_ = test_epoch(model, criterion, test_dataloader, device)\n",
        "    scores1 = metrics(y_true.cpu(), y_pred.cpu())\n",
        "    scores_msg = \", \".join([f\"{k}={v:.2f}\" for (k, v) in scores1.items()])\n",
        "    test_loss = test_loss.cpu().detach().numpy()[0]\n",
        "    train_loss = train_loss.cpu().detach().numpy()[0]\n",
        "    print(f\"epoch {epoch}: trainloss {train_loss:.2f}, testloss {test_loss:.2f} \" + scores_msg)\n",
        "\n",
        "    scores1[\"epoch\"] = epoch\n",
        "    scores1[\"trainloss\"] = train_loss\n",
        "    scores1[\"testloss\"] = test_loss\n",
        "    log.append(scores1)\n",
        "\n",
        "    log_df = pd.DataFrame(log).set_index(\"epoch\")\n",
        "    log_df.to_csv(\"Lower123.csv\")"
      ]
    },
    {
      "cell_type": "code",
      "execution_count": 14,
      "metadata": {
        "id": "kVItXmm0_IUq"
      },
      "outputs": [
        {
          "name": "stderr",
          "output_type": "stream",
          "text": [
            "train loss=0.40: 100%|██████████| 13809/13809 [14:25<00:00, 15.96it/s]\n",
            "test loss=1.76: 100%|██████████| 1040/1040 [00:56<00:00, 18.39it/s]\n",
            "/Users/aliyilmaz/anaconda3/envs/pytorch_env/lib/python3.12/site-packages/sklearn/metrics/_classification.py:1509: UndefinedMetricWarning: Precision is ill-defined and being set to 0.0 in labels with no predicted samples. Use `zero_division` parameter to control this behavior.\n",
            "  _warn_prf(average, modifier, f\"{metric.capitalize()} is\", len(result))\n",
            "/Users/aliyilmaz/anaconda3/envs/pytorch_env/lib/python3.12/site-packages/sklearn/metrics/_classification.py:1509: UndefinedMetricWarning: Precision is ill-defined and being set to 0.0 in labels with no predicted samples. Use `zero_division` parameter to control this behavior.\n",
            "  _warn_prf(average, modifier, f\"{metric.capitalize()} is\", len(result))\n"
          ]
        },
        {
          "name": "stdout",
          "output_type": "stream",
          "text": [
            "epoch 0: trainloss 2.42, testloss 0.77 accuracy=0.75, kappa=0.67, f1_micro=0.75, f1_macro=0.51, f1_weighted=0.74, recall_micro=0.75, recall_macro=0.51, recall_weighted=0.75, precision_micro=0.75, precision_macro=0.51, precision_weighted=0.74\n"
          ]
        },
        {
          "name": "stderr",
          "output_type": "stream",
          "text": [
            "train loss=1.12: 100%|██████████| 13809/13809 [14:34<00:00, 15.79it/s]\n",
            "test loss=0.82: 100%|██████████| 1040/1040 [01:00<00:00, 17.32it/s]\n",
            "/Users/aliyilmaz/anaconda3/envs/pytorch_env/lib/python3.12/site-packages/sklearn/metrics/_classification.py:1509: UndefinedMetricWarning: Precision is ill-defined and being set to 0.0 in labels with no predicted samples. Use `zero_division` parameter to control this behavior.\n",
            "  _warn_prf(average, modifier, f\"{metric.capitalize()} is\", len(result))\n",
            "/Users/aliyilmaz/anaconda3/envs/pytorch_env/lib/python3.12/site-packages/sklearn/metrics/_classification.py:1509: UndefinedMetricWarning: Precision is ill-defined and being set to 0.0 in labels with no predicted samples. Use `zero_division` parameter to control this behavior.\n",
            "  _warn_prf(average, modifier, f\"{metric.capitalize()} is\", len(result))\n"
          ]
        },
        {
          "name": "stdout",
          "output_type": "stream",
          "text": [
            "epoch 1: trainloss 0.46, testloss 0.75 accuracy=0.74, kappa=0.66, f1_micro=0.74, f1_macro=0.49, f1_weighted=0.73, recall_micro=0.74, recall_macro=0.52, recall_weighted=0.74, precision_micro=0.74, precision_macro=0.49, precision_weighted=0.74\n"
          ]
        },
        {
          "name": "stderr",
          "output_type": "stream",
          "text": [
            "train loss=0.56: 100%|██████████| 13809/13809 [14:42<00:00, 15.66it/s]\n",
            "test loss=0.86: 100%|██████████| 1040/1040 [00:58<00:00, 17.66it/s]\n",
            "/Users/aliyilmaz/anaconda3/envs/pytorch_env/lib/python3.12/site-packages/sklearn/metrics/_classification.py:1509: UndefinedMetricWarning: Precision is ill-defined and being set to 0.0 in labels with no predicted samples. Use `zero_division` parameter to control this behavior.\n",
            "  _warn_prf(average, modifier, f\"{metric.capitalize()} is\", len(result))\n",
            "/Users/aliyilmaz/anaconda3/envs/pytorch_env/lib/python3.12/site-packages/sklearn/metrics/_classification.py:1509: UndefinedMetricWarning: Precision is ill-defined and being set to 0.0 in labels with no predicted samples. Use `zero_division` parameter to control this behavior.\n",
            "  _warn_prf(average, modifier, f\"{metric.capitalize()} is\", len(result))\n"
          ]
        },
        {
          "name": "stdout",
          "output_type": "stream",
          "text": [
            "epoch 2: trainloss 0.52, testloss 0.74 accuracy=0.74, kappa=0.67, f1_micro=0.74, f1_macro=0.51, f1_weighted=0.74, recall_micro=0.74, recall_macro=0.54, recall_weighted=0.74, precision_micro=0.74, precision_macro=0.49, precision_weighted=0.75\n"
          ]
        },
        {
          "name": "stderr",
          "output_type": "stream",
          "text": [
            "train loss=0.63: 100%|██████████| 13809/13809 [14:30<00:00, 15.87it/s]\n",
            "test loss=0.84: 100%|██████████| 1040/1040 [01:00<00:00, 17.31it/s]\n",
            "/Users/aliyilmaz/anaconda3/envs/pytorch_env/lib/python3.12/site-packages/sklearn/metrics/_classification.py:1509: UndefinedMetricWarning: Precision is ill-defined and being set to 0.0 in labels with no predicted samples. Use `zero_division` parameter to control this behavior.\n",
            "  _warn_prf(average, modifier, f\"{metric.capitalize()} is\", len(result))\n",
            "/Users/aliyilmaz/anaconda3/envs/pytorch_env/lib/python3.12/site-packages/sklearn/metrics/_classification.py:1509: UndefinedMetricWarning: Precision is ill-defined and being set to 0.0 in labels with no predicted samples. Use `zero_division` parameter to control this behavior.\n",
            "  _warn_prf(average, modifier, f\"{metric.capitalize()} is\", len(result))\n"
          ]
        },
        {
          "name": "stdout",
          "output_type": "stream",
          "text": [
            "epoch 3: trainloss 0.33, testloss 0.77 accuracy=0.76, kappa=0.69, f1_micro=0.76, f1_macro=0.53, f1_weighted=0.76, recall_micro=0.76, recall_macro=0.55, recall_weighted=0.76, precision_micro=0.76, precision_macro=0.52, precision_weighted=0.76\n"
          ]
        },
        {
          "name": "stderr",
          "output_type": "stream",
          "text": [
            "train loss=0.50: 100%|██████████| 13809/13809 [14:33<00:00, 15.81it/s]\n",
            "test loss=0.92: 100%|██████████| 1040/1040 [01:01<00:00, 16.83it/s]\n",
            "/Users/aliyilmaz/anaconda3/envs/pytorch_env/lib/python3.12/site-packages/sklearn/metrics/_classification.py:1509: UndefinedMetricWarning: Precision is ill-defined and being set to 0.0 in labels with no predicted samples. Use `zero_division` parameter to control this behavior.\n",
            "  _warn_prf(average, modifier, f\"{metric.capitalize()} is\", len(result))\n",
            "/Users/aliyilmaz/anaconda3/envs/pytorch_env/lib/python3.12/site-packages/sklearn/metrics/_classification.py:1509: UndefinedMetricWarning: Precision is ill-defined and being set to 0.0 in labels with no predicted samples. Use `zero_division` parameter to control this behavior.\n",
            "  _warn_prf(average, modifier, f\"{metric.capitalize()} is\", len(result))\n"
          ]
        },
        {
          "name": "stdout",
          "output_type": "stream",
          "text": [
            "epoch 4: trainloss 0.41, testloss 0.68 accuracy=0.76, kappa=0.68, f1_micro=0.76, f1_macro=0.51, f1_weighted=0.73, recall_micro=0.76, recall_macro=0.53, recall_weighted=0.76, precision_micro=0.76, precision_macro=0.52, precision_weighted=0.75\n"
          ]
        },
        {
          "name": "stderr",
          "output_type": "stream",
          "text": [
            "train loss=0.36: 100%|██████████| 13809/13809 [14:43<00:00, 15.64it/s]\n",
            "test loss=1.14: 100%|██████████| 1040/1040 [01:00<00:00, 17.09it/s]\n",
            "/Users/aliyilmaz/anaconda3/envs/pytorch_env/lib/python3.12/site-packages/sklearn/metrics/_classification.py:1509: UndefinedMetricWarning: Precision is ill-defined and being set to 0.0 in labels with no predicted samples. Use `zero_division` parameter to control this behavior.\n",
            "  _warn_prf(average, modifier, f\"{metric.capitalize()} is\", len(result))\n",
            "/Users/aliyilmaz/anaconda3/envs/pytorch_env/lib/python3.12/site-packages/sklearn/metrics/_classification.py:1509: UndefinedMetricWarning: Precision is ill-defined and being set to 0.0 in labels with no predicted samples. Use `zero_division` parameter to control this behavior.\n",
            "  _warn_prf(average, modifier, f\"{metric.capitalize()} is\", len(result))\n"
          ]
        },
        {
          "name": "stdout",
          "output_type": "stream",
          "text": [
            "epoch 5: trainloss 0.53, testloss 0.66 accuracy=0.76, kappa=0.69, f1_micro=0.76, f1_macro=0.51, f1_weighted=0.73, recall_micro=0.76, recall_macro=0.53, recall_weighted=0.76, precision_micro=0.76, precision_macro=0.52, precision_weighted=0.74\n"
          ]
        },
        {
          "name": "stderr",
          "output_type": "stream",
          "text": [
            "train loss=0.77: 100%|██████████| 13809/13809 [14:32<00:00, 15.82it/s]\n",
            "test loss=1.01: 100%|██████████| 1040/1040 [01:00<00:00, 17.33it/s]\n",
            "/Users/aliyilmaz/anaconda3/envs/pytorch_env/lib/python3.12/site-packages/sklearn/metrics/_classification.py:1509: UndefinedMetricWarning: Precision is ill-defined and being set to 0.0 in labels with no predicted samples. Use `zero_division` parameter to control this behavior.\n",
            "  _warn_prf(average, modifier, f\"{metric.capitalize()} is\", len(result))\n",
            "/Users/aliyilmaz/anaconda3/envs/pytorch_env/lib/python3.12/site-packages/sklearn/metrics/_classification.py:1509: UndefinedMetricWarning: Precision is ill-defined and being set to 0.0 in labels with no predicted samples. Use `zero_division` parameter to control this behavior.\n",
            "  _warn_prf(average, modifier, f\"{metric.capitalize()} is\", len(result))\n"
          ]
        },
        {
          "name": "stdout",
          "output_type": "stream",
          "text": [
            "epoch 6: trainloss 0.46, testloss 0.88 accuracy=0.75, kappa=0.68, f1_micro=0.75, f1_macro=0.52, f1_weighted=0.74, recall_micro=0.75, recall_macro=0.54, recall_weighted=0.75, precision_micro=0.75, precision_macro=0.51, precision_weighted=0.74\n"
          ]
        },
        {
          "name": "stderr",
          "output_type": "stream",
          "text": [
            "train loss=0.51: 100%|██████████| 13809/13809 [14:31<00:00, 15.85it/s]\n",
            "test loss=0.90: 100%|██████████| 1040/1040 [01:00<00:00, 17.32it/s]\n",
            "/Users/aliyilmaz/anaconda3/envs/pytorch_env/lib/python3.12/site-packages/sklearn/metrics/_classification.py:1509: UndefinedMetricWarning: Precision is ill-defined and being set to 0.0 in labels with no predicted samples. Use `zero_division` parameter to control this behavior.\n",
            "  _warn_prf(average, modifier, f\"{metric.capitalize()} is\", len(result))\n",
            "/Users/aliyilmaz/anaconda3/envs/pytorch_env/lib/python3.12/site-packages/sklearn/metrics/_classification.py:1509: UndefinedMetricWarning: Precision is ill-defined and being set to 0.0 in labels with no predicted samples. Use `zero_division` parameter to control this behavior.\n",
            "  _warn_prf(average, modifier, f\"{metric.capitalize()} is\", len(result))\n"
          ]
        },
        {
          "name": "stdout",
          "output_type": "stream",
          "text": [
            "epoch 7: trainloss 0.43, testloss 0.71 accuracy=0.76, kappa=0.68, f1_micro=0.76, f1_macro=0.50, f1_weighted=0.71, recall_micro=0.76, recall_macro=0.53, recall_weighted=0.76, precision_micro=0.76, precision_macro=0.52, precision_weighted=0.75\n"
          ]
        },
        {
          "name": "stderr",
          "output_type": "stream",
          "text": [
            "train loss=0.15: 100%|██████████| 13809/13809 [14:43<00:00, 15.63it/s]\n",
            "test loss=0.82: 100%|██████████| 1040/1040 [01:00<00:00, 17.20it/s]\n",
            "/Users/aliyilmaz/anaconda3/envs/pytorch_env/lib/python3.12/site-packages/sklearn/metrics/_classification.py:1509: UndefinedMetricWarning: Precision is ill-defined and being set to 0.0 in labels with no predicted samples. Use `zero_division` parameter to control this behavior.\n",
            "  _warn_prf(average, modifier, f\"{metric.capitalize()} is\", len(result))\n",
            "/Users/aliyilmaz/anaconda3/envs/pytorch_env/lib/python3.12/site-packages/sklearn/metrics/_classification.py:1509: UndefinedMetricWarning: Precision is ill-defined and being set to 0.0 in labels with no predicted samples. Use `zero_division` parameter to control this behavior.\n",
            "  _warn_prf(average, modifier, f\"{metric.capitalize()} is\", len(result))\n"
          ]
        },
        {
          "name": "stdout",
          "output_type": "stream",
          "text": [
            "epoch 8: trainloss 0.41, testloss 0.81 accuracy=0.77, kappa=0.70, f1_micro=0.77, f1_macro=0.53, f1_weighted=0.76, recall_micro=0.77, recall_macro=0.55, recall_weighted=0.77, precision_micro=0.77, precision_macro=0.52, precision_weighted=0.76\n"
          ]
        },
        {
          "name": "stderr",
          "output_type": "stream",
          "text": [
            "train loss=0.34: 100%|██████████| 13809/13809 [14:45<00:00, 15.59it/s]\n",
            "test loss=0.80: 100%|██████████| 1040/1040 [01:03<00:00, 16.49it/s]\n",
            "/Users/aliyilmaz/anaconda3/envs/pytorch_env/lib/python3.12/site-packages/sklearn/metrics/_classification.py:1509: UndefinedMetricWarning: Precision is ill-defined and being set to 0.0 in labels with no predicted samples. Use `zero_division` parameter to control this behavior.\n",
            "  _warn_prf(average, modifier, f\"{metric.capitalize()} is\", len(result))\n",
            "/Users/aliyilmaz/anaconda3/envs/pytorch_env/lib/python3.12/site-packages/sklearn/metrics/_classification.py:1509: UndefinedMetricWarning: Precision is ill-defined and being set to 0.0 in labels with no predicted samples. Use `zero_division` parameter to control this behavior.\n",
            "  _warn_prf(average, modifier, f\"{metric.capitalize()} is\", len(result))\n"
          ]
        },
        {
          "name": "stdout",
          "output_type": "stream",
          "text": [
            "epoch 9: trainloss 0.55, testloss 0.71 accuracy=0.78, kappa=0.71, f1_micro=0.78, f1_macro=0.55, f1_weighted=0.77, recall_micro=0.78, recall_macro=0.55, recall_weighted=0.78, precision_micro=0.78, precision_macro=0.55, precision_weighted=0.77\n"
          ]
        }
      ],
      "source": [
        "device = \"mps\" if torch.backends.mps.is_available() else \"cpu\"\n",
        "model = LSTM_Model(input_size=13, hidden_size=64, num_layers=2, output_size=9, bidirectional=False, dropout=0.2, c_norm=True).to(device)\n",
        "train_dataloader, test_dataloader, meta = get_dataloader(mode=\"124\", batchsize=32, num_workers=0, X=0.2, upperPerformance=False)\n",
        "criterion = torch.nn.CrossEntropyLoss(reduction=\"mean\")\n",
        "optimizer = Adam(model.parameters(), 0.005, weight_decay=1e-6)\n",
        "log = list()\n",
        "for epoch in range(10):\n",
        "    train_loss = train_epoch(model, optimizer, criterion, train_dataloader, device)\n",
        "    test_loss, y_true, y_pred, *_ = test_epoch(model, criterion, test_dataloader, device)\n",
        "    scores1 = metrics(y_true.cpu(), y_pred.cpu())\n",
        "    scores_msg = \", \".join([f\"{k}={v:.2f}\" for (k, v) in scores1.items()])\n",
        "    test_loss = test_loss.cpu().detach().numpy()[0]\n",
        "    train_loss = train_loss.cpu().detach().numpy()[0]\n",
        "    print(f\"epoch {epoch}: trainloss {train_loss:.2f}, testloss {test_loss:.2f} \" + scores_msg)\n",
        "\n",
        "    scores1[\"epoch\"] = epoch\n",
        "    scores1[\"trainloss\"] = train_loss\n",
        "    scores1[\"testloss\"] = test_loss\n",
        "    log.append(scores1)\n",
        "\n",
        "    log_df = pd.DataFrame(log).set_index(\"epoch\")\n",
        "    log_df.to_csv(\"Lower124.csv\")"
      ]
    },
    {
      "cell_type": "code",
      "execution_count": 15,
      "metadata": {
        "id": "p2_1fu2Y_dS8"
      },
      "outputs": [
        {
          "name": "stderr",
          "output_type": "stream",
          "text": [
            "train loss=0.23: 100%|██████████| 14614/14614 [15:37<00:00, 15.59it/s]\n",
            "test loss=0.69: 100%|██████████| 880/880 [00:53<00:00, 16.55it/s]\n",
            "/Users/aliyilmaz/anaconda3/envs/pytorch_env/lib/python3.12/site-packages/sklearn/metrics/_classification.py:1509: UndefinedMetricWarning: Precision is ill-defined and being set to 0.0 in labels with no predicted samples. Use `zero_division` parameter to control this behavior.\n",
            "  _warn_prf(average, modifier, f\"{metric.capitalize()} is\", len(result))\n",
            "/Users/aliyilmaz/anaconda3/envs/pytorch_env/lib/python3.12/site-packages/sklearn/metrics/_classification.py:1509: UndefinedMetricWarning: Precision is ill-defined and being set to 0.0 in labels with no predicted samples. Use `zero_division` parameter to control this behavior.\n",
            "  _warn_prf(average, modifier, f\"{metric.capitalize()} is\", len(result))\n"
          ]
        },
        {
          "name": "stdout",
          "output_type": "stream",
          "text": [
            "epoch 0: trainloss 2.15, testloss 0.58 accuracy=0.76, kappa=0.68, f1_micro=0.76, f1_macro=0.53, f1_weighted=0.75, recall_micro=0.76, recall_macro=0.53, recall_weighted=0.76, precision_micro=0.76, precision_macro=0.54, precision_weighted=0.76\n"
          ]
        },
        {
          "name": "stderr",
          "output_type": "stream",
          "text": [
            "train loss=0.15: 100%|██████████| 14614/14614 [15:21<00:00, 15.85it/s]\n",
            "test loss=0.55: 100%|██████████| 880/880 [00:50<00:00, 17.34it/s]\n",
            "/Users/aliyilmaz/anaconda3/envs/pytorch_env/lib/python3.12/site-packages/sklearn/metrics/_classification.py:1509: UndefinedMetricWarning: Precision is ill-defined and being set to 0.0 in labels with no predicted samples. Use `zero_division` parameter to control this behavior.\n",
            "  _warn_prf(average, modifier, f\"{metric.capitalize()} is\", len(result))\n",
            "/Users/aliyilmaz/anaconda3/envs/pytorch_env/lib/python3.12/site-packages/sklearn/metrics/_classification.py:1509: UndefinedMetricWarning: Precision is ill-defined and being set to 0.0 in labels with no predicted samples. Use `zero_division` parameter to control this behavior.\n",
            "  _warn_prf(average, modifier, f\"{metric.capitalize()} is\", len(result))\n"
          ]
        },
        {
          "name": "stdout",
          "output_type": "stream",
          "text": [
            "epoch 1: trainloss 0.52, testloss 0.46 accuracy=0.75, kappa=0.67, f1_micro=0.75, f1_macro=0.53, f1_weighted=0.73, recall_micro=0.75, recall_macro=0.54, recall_weighted=0.75, precision_micro=0.75, precision_macro=0.55, precision_weighted=0.78\n"
          ]
        },
        {
          "name": "stderr",
          "output_type": "stream",
          "text": [
            "train loss=0.08: 100%|██████████| 14614/14614 [15:24<00:00, 15.81it/s]\n",
            "test loss=0.57: 100%|██████████| 880/880 [00:49<00:00, 17.68it/s]\n",
            "/Users/aliyilmaz/anaconda3/envs/pytorch_env/lib/python3.12/site-packages/sklearn/metrics/_classification.py:1509: UndefinedMetricWarning: Precision is ill-defined and being set to 0.0 in labels with no predicted samples. Use `zero_division` parameter to control this behavior.\n",
            "  _warn_prf(average, modifier, f\"{metric.capitalize()} is\", len(result))\n",
            "/Users/aliyilmaz/anaconda3/envs/pytorch_env/lib/python3.12/site-packages/sklearn/metrics/_classification.py:1509: UndefinedMetricWarning: Precision is ill-defined and being set to 0.0 in labels with no predicted samples. Use `zero_division` parameter to control this behavior.\n",
            "  _warn_prf(average, modifier, f\"{metric.capitalize()} is\", len(result))\n"
          ]
        },
        {
          "name": "stdout",
          "output_type": "stream",
          "text": [
            "epoch 2: trainloss 0.87, testloss 0.51 accuracy=0.77, kappa=0.70, f1_micro=0.77, f1_macro=0.55, f1_weighted=0.76, recall_micro=0.77, recall_macro=0.55, recall_weighted=0.77, precision_micro=0.77, precision_macro=0.56, precision_weighted=0.78\n"
          ]
        },
        {
          "name": "stderr",
          "output_type": "stream",
          "text": [
            "train loss=0.18: 100%|██████████| 14614/14614 [15:12<00:00, 16.01it/s]\n",
            "test loss=0.44: 100%|██████████| 880/880 [00:49<00:00, 17.67it/s]\n",
            "/Users/aliyilmaz/anaconda3/envs/pytorch_env/lib/python3.12/site-packages/sklearn/metrics/_classification.py:1509: UndefinedMetricWarning: Precision is ill-defined and being set to 0.0 in labels with no predicted samples. Use `zero_division` parameter to control this behavior.\n",
            "  _warn_prf(average, modifier, f\"{metric.capitalize()} is\", len(result))\n",
            "/Users/aliyilmaz/anaconda3/envs/pytorch_env/lib/python3.12/site-packages/sklearn/metrics/_classification.py:1509: UndefinedMetricWarning: Precision is ill-defined and being set to 0.0 in labels with no predicted samples. Use `zero_division` parameter to control this behavior.\n",
            "  _warn_prf(average, modifier, f\"{metric.capitalize()} is\", len(result))\n"
          ]
        },
        {
          "name": "stdout",
          "output_type": "stream",
          "text": [
            "epoch 3: trainloss 0.51, testloss 0.57 accuracy=0.75, kappa=0.67, f1_micro=0.75, f1_macro=0.53, f1_weighted=0.73, recall_micro=0.75, recall_macro=0.53, recall_weighted=0.75, precision_micro=0.75, precision_macro=0.56, precision_weighted=0.78\n"
          ]
        },
        {
          "name": "stderr",
          "output_type": "stream",
          "text": [
            "train loss=0.46: 100%|██████████| 14614/14614 [15:13<00:00, 16.01it/s]\n",
            "test loss=0.54: 100%|██████████| 880/880 [00:51<00:00, 17.16it/s]\n",
            "/Users/aliyilmaz/anaconda3/envs/pytorch_env/lib/python3.12/site-packages/sklearn/metrics/_classification.py:1509: UndefinedMetricWarning: Precision is ill-defined and being set to 0.0 in labels with no predicted samples. Use `zero_division` parameter to control this behavior.\n",
            "  _warn_prf(average, modifier, f\"{metric.capitalize()} is\", len(result))\n",
            "/Users/aliyilmaz/anaconda3/envs/pytorch_env/lib/python3.12/site-packages/sklearn/metrics/_classification.py:1509: UndefinedMetricWarning: Precision is ill-defined and being set to 0.0 in labels with no predicted samples. Use `zero_division` parameter to control this behavior.\n",
            "  _warn_prf(average, modifier, f\"{metric.capitalize()} is\", len(result))\n"
          ]
        },
        {
          "name": "stdout",
          "output_type": "stream",
          "text": [
            "epoch 4: trainloss 0.41, testloss 0.50 accuracy=0.76, kappa=0.69, f1_micro=0.76, f1_macro=0.54, f1_weighted=0.75, recall_micro=0.76, recall_macro=0.55, recall_weighted=0.76, precision_micro=0.76, precision_macro=0.56, precision_weighted=0.78\n"
          ]
        },
        {
          "name": "stderr",
          "output_type": "stream",
          "text": [
            "train loss=0.38: 100%|██████████| 14614/14614 [15:18<00:00, 15.92it/s]\n",
            "test loss=0.68: 100%|██████████| 880/880 [00:52<00:00, 16.73it/s]\n",
            "/Users/aliyilmaz/anaconda3/envs/pytorch_env/lib/python3.12/site-packages/sklearn/metrics/_classification.py:1509: UndefinedMetricWarning: Precision is ill-defined and being set to 0.0 in labels with no predicted samples. Use `zero_division` parameter to control this behavior.\n",
            "  _warn_prf(average, modifier, f\"{metric.capitalize()} is\", len(result))\n",
            "/Users/aliyilmaz/anaconda3/envs/pytorch_env/lib/python3.12/site-packages/sklearn/metrics/_classification.py:1509: UndefinedMetricWarning: Precision is ill-defined and being set to 0.0 in labels with no predicted samples. Use `zero_division` parameter to control this behavior.\n",
            "  _warn_prf(average, modifier, f\"{metric.capitalize()} is\", len(result))\n"
          ]
        },
        {
          "name": "stdout",
          "output_type": "stream",
          "text": [
            "epoch 5: trainloss 0.56, testloss 0.54 accuracy=0.77, kappa=0.70, f1_micro=0.77, f1_macro=0.55, f1_weighted=0.77, recall_micro=0.77, recall_macro=0.55, recall_weighted=0.77, precision_micro=0.77, precision_macro=0.56, precision_weighted=0.79\n"
          ]
        },
        {
          "name": "stderr",
          "output_type": "stream",
          "text": [
            "train loss=0.77: 100%|██████████| 14614/14614 [15:15<00:00, 15.96it/s]\n",
            "test loss=0.51: 100%|██████████| 880/880 [00:51<00:00, 17.25it/s]\n",
            "/Users/aliyilmaz/anaconda3/envs/pytorch_env/lib/python3.12/site-packages/sklearn/metrics/_classification.py:1509: UndefinedMetricWarning: Precision is ill-defined and being set to 0.0 in labels with no predicted samples. Use `zero_division` parameter to control this behavior.\n",
            "  _warn_prf(average, modifier, f\"{metric.capitalize()} is\", len(result))\n",
            "/Users/aliyilmaz/anaconda3/envs/pytorch_env/lib/python3.12/site-packages/sklearn/metrics/_classification.py:1509: UndefinedMetricWarning: Precision is ill-defined and being set to 0.0 in labels with no predicted samples. Use `zero_division` parameter to control this behavior.\n",
            "  _warn_prf(average, modifier, f\"{metric.capitalize()} is\", len(result))\n"
          ]
        },
        {
          "name": "stdout",
          "output_type": "stream",
          "text": [
            "epoch 6: trainloss 0.35, testloss 0.43 accuracy=0.75, kappa=0.68, f1_micro=0.75, f1_macro=0.53, f1_weighted=0.74, recall_micro=0.75, recall_macro=0.53, recall_weighted=0.75, precision_micro=0.75, precision_macro=0.57, precision_weighted=0.79\n"
          ]
        },
        {
          "name": "stderr",
          "output_type": "stream",
          "text": [
            "train loss=0.71: 100%|██████████| 14614/14614 [15:20<00:00, 15.88it/s]\n",
            "test loss=0.61: 100%|██████████| 880/880 [00:49<00:00, 17.64it/s]\n",
            "/Users/aliyilmaz/anaconda3/envs/pytorch_env/lib/python3.12/site-packages/sklearn/metrics/_classification.py:1509: UndefinedMetricWarning: Precision is ill-defined and being set to 0.0 in labels with no predicted samples. Use `zero_division` parameter to control this behavior.\n",
            "  _warn_prf(average, modifier, f\"{metric.capitalize()} is\", len(result))\n",
            "/Users/aliyilmaz/anaconda3/envs/pytorch_env/lib/python3.12/site-packages/sklearn/metrics/_classification.py:1509: UndefinedMetricWarning: Precision is ill-defined and being set to 0.0 in labels with no predicted samples. Use `zero_division` parameter to control this behavior.\n",
            "  _warn_prf(average, modifier, f\"{metric.capitalize()} is\", len(result))\n"
          ]
        },
        {
          "name": "stdout",
          "output_type": "stream",
          "text": [
            "epoch 7: trainloss 0.60, testloss 0.40 accuracy=0.77, kappa=0.70, f1_micro=0.77, f1_macro=0.55, f1_weighted=0.77, recall_micro=0.77, recall_macro=0.54, recall_weighted=0.77, precision_micro=0.77, precision_macro=0.57, precision_weighted=0.79\n"
          ]
        },
        {
          "name": "stderr",
          "output_type": "stream",
          "text": [
            "train loss=0.07: 100%|██████████| 14614/14614 [15:15<00:00, 15.97it/s]\n",
            "test loss=0.46: 100%|██████████| 880/880 [00:50<00:00, 17.49it/s]\n",
            "/Users/aliyilmaz/anaconda3/envs/pytorch_env/lib/python3.12/site-packages/sklearn/metrics/_classification.py:1509: UndefinedMetricWarning: Precision is ill-defined and being set to 0.0 in labels with no predicted samples. Use `zero_division` parameter to control this behavior.\n",
            "  _warn_prf(average, modifier, f\"{metric.capitalize()} is\", len(result))\n",
            "/Users/aliyilmaz/anaconda3/envs/pytorch_env/lib/python3.12/site-packages/sklearn/metrics/_classification.py:1509: UndefinedMetricWarning: Precision is ill-defined and being set to 0.0 in labels with no predicted samples. Use `zero_division` parameter to control this behavior.\n",
            "  _warn_prf(average, modifier, f\"{metric.capitalize()} is\", len(result))\n"
          ]
        },
        {
          "name": "stdout",
          "output_type": "stream",
          "text": [
            "epoch 8: trainloss 0.71, testloss 0.47 accuracy=0.75, kappa=0.68, f1_micro=0.75, f1_macro=0.54, f1_weighted=0.73, recall_micro=0.75, recall_macro=0.54, recall_weighted=0.75, precision_micro=0.75, precision_macro=0.56, precision_weighted=0.79\n"
          ]
        },
        {
          "name": "stderr",
          "output_type": "stream",
          "text": [
            "train loss=1.54: 100%|██████████| 14614/14614 [15:18<00:00, 15.92it/s]\n",
            "test loss=0.71: 100%|██████████| 880/880 [00:50<00:00, 17.50it/s]\n",
            "/Users/aliyilmaz/anaconda3/envs/pytorch_env/lib/python3.12/site-packages/sklearn/metrics/_classification.py:1509: UndefinedMetricWarning: Precision is ill-defined and being set to 0.0 in labels with no predicted samples. Use `zero_division` parameter to control this behavior.\n",
            "  _warn_prf(average, modifier, f\"{metric.capitalize()} is\", len(result))\n",
            "/Users/aliyilmaz/anaconda3/envs/pytorch_env/lib/python3.12/site-packages/sklearn/metrics/_classification.py:1509: UndefinedMetricWarning: Precision is ill-defined and being set to 0.0 in labels with no predicted samples. Use `zero_division` parameter to control this behavior.\n",
            "  _warn_prf(average, modifier, f\"{metric.capitalize()} is\", len(result))\n"
          ]
        },
        {
          "name": "stdout",
          "output_type": "stream",
          "text": [
            "epoch 9: trainloss 0.38, testloss 0.40 accuracy=0.77, kappa=0.71, f1_micro=0.77, f1_macro=0.55, f1_weighted=0.77, recall_micro=0.77, recall_macro=0.54, recall_weighted=0.77, precision_micro=0.77, precision_macro=0.56, precision_weighted=0.78\n"
          ]
        }
      ],
      "source": [
        "device = \"mps\" if torch.backends.mps.is_available() else \"cpu\"\n",
        "model = LSTM_Model(input_size=13, hidden_size=64, num_layers=2, output_size=9, bidirectional=False, dropout=0.2, c_norm=True).to(device)\n",
        "train_dataloader, test_dataloader, meta = get_dataloader(mode=\"134\", batchsize=32, num_workers=0, X=0.2, upperPerformance=False)\n",
        "criterion = torch.nn.CrossEntropyLoss(reduction=\"mean\")\n",
        "optimizer = Adam(model.parameters(), 0.005, weight_decay=1e-6)\n",
        "log = list()\n",
        "for epoch in range(10):\n",
        "    train_loss = train_epoch(model, optimizer, criterion, train_dataloader, device)\n",
        "    test_loss, y_true, y_pred, *_ = test_epoch(model, criterion, test_dataloader, device)\n",
        "    scores1 = metrics(y_true.cpu(), y_pred.cpu())\n",
        "    scores_msg = \", \".join([f\"{k}={v:.2f}\" for (k, v) in scores1.items()])\n",
        "    test_loss = test_loss.cpu().detach().numpy()[0]\n",
        "    train_loss = train_loss.cpu().detach().numpy()[0]\n",
        "    print(f\"epoch {epoch}: trainloss {train_loss:.2f}, testloss {test_loss:.2f} \" + scores_msg)\n",
        "\n",
        "    scores1[\"epoch\"] = epoch\n",
        "    scores1[\"trainloss\"] = train_loss\n",
        "    scores1[\"testloss\"] = test_loss\n",
        "    log.append(scores1)\n",
        "\n",
        "    log_df = pd.DataFrame(log).set_index(\"epoch\")\n",
        "    log_df.to_csv(\"Lower134.csv\")"
      ]
    },
    {
      "cell_type": "markdown",
      "metadata": {
        "id": "nH-bAO3J0YSM"
      },
      "source": [
        "# Upper Baseline"
      ]
    },
    {
      "cell_type": "code",
      "execution_count": null,
      "metadata": {
        "id": "kLGgISFd_kyr"
      },
      "outputs": [],
      "source": [
        "device = torch.device(\"cuda\" if torch.cuda.is_available() else \"cpu\")\n",
        "model = LSTM_Model(input_size=13, hidden_size=64, num_layers=2, output_size=9, bidirectional=False, dropout=0.2, c_norm=True).to(device)\n",
        "train_dataloader, test_dataloader, meta = get_dataloader(mode=\"123\", batchsize=32, num_workers=0, X=0.2, upperPerformance=True)\n",
        "criterion = torch.nn.CrossEntropyLoss(reduction=\"mean\")\n",
        "optimizer = Adam(model.parameters(), 0.005, weight_decay=1e-6)\n",
        "log = list()\n",
        "for epoch in range(10):\n",
        "    train_loss = train_epoch(model, optimizer, criterion, train_dataloader, device)\n",
        "    test_loss, y_true, y_pred, *_ = test_epoch(model, criterion, test_dataloader, device)\n",
        "    scores1 = metrics(y_true.cpu(), y_pred.cpu())\n",
        "    scores_msg = \", \".join([f\"{k}={v:.2f}\" for (k, v) in scores1.items()])\n",
        "    test_loss = test_loss.cpu().detach().numpy()[0]\n",
        "    train_loss = train_loss.cpu().detach().numpy()[0]\n",
        "    print(f\"epoch {epoch}: trainloss {train_loss:.2f}, testloss {test_loss:.2f} \" + scores_msg)\n",
        "\n",
        "    scores1[\"epoch\"] = epoch\n",
        "    scores1[\"trainloss\"] = train_loss\n",
        "    scores1[\"testloss\"] = test_loss\n",
        "    log.append(scores1)\n",
        "\n",
        "    log_df = pd.DataFrame(log).set_index(\"epoch\")\n",
        "    log_df.to_csv(\"Upper123.csv\")"
      ]
    },
    {
      "cell_type": "code",
      "execution_count": 16,
      "metadata": {
        "id": "zBcgDr7z_qNR"
      },
      "outputs": [
        {
          "name": "stderr",
          "output_type": "stream",
          "text": [
            "train loss=0.64: 100%|██████████| 4160/4160 [04:59<00:00, 13.87it/s]\n",
            "test loss=0.69: 100%|██████████| 1040/1040 [01:07<00:00, 15.38it/s]\n",
            "/Users/aliyilmaz/anaconda3/envs/pytorch_env/lib/python3.12/site-packages/sklearn/metrics/_classification.py:1509: UndefinedMetricWarning: Precision is ill-defined and being set to 0.0 in labels with no predicted samples. Use `zero_division` parameter to control this behavior.\n",
            "  _warn_prf(average, modifier, f\"{metric.capitalize()} is\", len(result))\n",
            "/Users/aliyilmaz/anaconda3/envs/pytorch_env/lib/python3.12/site-packages/sklearn/metrics/_classification.py:1509: UndefinedMetricWarning: Precision is ill-defined and being set to 0.0 in labels with no predicted samples. Use `zero_division` parameter to control this behavior.\n",
            "  _warn_prf(average, modifier, f\"{metric.capitalize()} is\", len(result))\n"
          ]
        },
        {
          "name": "stdout",
          "output_type": "stream",
          "text": [
            "epoch 0: trainloss 2.01, testloss 0.84 accuracy=0.67, kappa=0.57, f1_micro=0.67, f1_macro=0.37, f1_weighted=0.64, recall_micro=0.67, recall_macro=0.37, recall_weighted=0.67, precision_micro=0.67, precision_macro=0.38, precision_weighted=0.65\n"
          ]
        },
        {
          "name": "stderr",
          "output_type": "stream",
          "text": [
            "train loss=0.59: 100%|██████████| 4160/4160 [04:55<00:00, 14.07it/s]\n",
            "test loss=0.97: 100%|██████████| 1040/1040 [01:03<00:00, 16.30it/s]\n",
            "/Users/aliyilmaz/anaconda3/envs/pytorch_env/lib/python3.12/site-packages/sklearn/metrics/_classification.py:1509: UndefinedMetricWarning: Precision is ill-defined and being set to 0.0 in labels with no predicted samples. Use `zero_division` parameter to control this behavior.\n",
            "  _warn_prf(average, modifier, f\"{metric.capitalize()} is\", len(result))\n",
            "/Users/aliyilmaz/anaconda3/envs/pytorch_env/lib/python3.12/site-packages/sklearn/metrics/_classification.py:1509: UndefinedMetricWarning: Precision is ill-defined and being set to 0.0 in labels with no predicted samples. Use `zero_division` parameter to control this behavior.\n",
            "  _warn_prf(average, modifier, f\"{metric.capitalize()} is\", len(result))\n"
          ]
        },
        {
          "name": "stdout",
          "output_type": "stream",
          "text": [
            "epoch 1: trainloss 0.72, testloss 0.74 accuracy=0.75, kappa=0.67, f1_micro=0.75, f1_macro=0.50, f1_weighted=0.74, recall_micro=0.75, recall_macro=0.50, recall_weighted=0.75, precision_micro=0.75, precision_macro=0.51, precision_weighted=0.74\n"
          ]
        },
        {
          "name": "stderr",
          "output_type": "stream",
          "text": [
            "train loss=0.56: 100%|██████████| 4160/4160 [04:57<00:00, 13.99it/s]\n",
            "test loss=0.90: 100%|██████████| 1040/1040 [01:06<00:00, 15.53it/s]\n",
            "/Users/aliyilmaz/anaconda3/envs/pytorch_env/lib/python3.12/site-packages/sklearn/metrics/_classification.py:1509: UndefinedMetricWarning: Precision is ill-defined and being set to 0.0 in labels with no predicted samples. Use `zero_division` parameter to control this behavior.\n",
            "  _warn_prf(average, modifier, f\"{metric.capitalize()} is\", len(result))\n",
            "/Users/aliyilmaz/anaconda3/envs/pytorch_env/lib/python3.12/site-packages/sklearn/metrics/_classification.py:1509: UndefinedMetricWarning: Precision is ill-defined and being set to 0.0 in labels with no predicted samples. Use `zero_division` parameter to control this behavior.\n",
            "  _warn_prf(average, modifier, f\"{metric.capitalize()} is\", len(result))\n"
          ]
        },
        {
          "name": "stdout",
          "output_type": "stream",
          "text": [
            "epoch 2: trainloss 0.50, testloss 0.84 accuracy=0.76, kappa=0.68, f1_micro=0.76, f1_macro=0.51, f1_weighted=0.74, recall_micro=0.76, recall_macro=0.52, recall_weighted=0.76, precision_micro=0.76, precision_macro=0.51, precision_weighted=0.75\n"
          ]
        },
        {
          "name": "stderr",
          "output_type": "stream",
          "text": [
            "train loss=0.38: 100%|██████████| 4160/4160 [04:58<00:00, 13.92it/s]\n",
            "test loss=0.59: 100%|██████████| 1040/1040 [01:08<00:00, 15.22it/s]\n",
            "/Users/aliyilmaz/anaconda3/envs/pytorch_env/lib/python3.12/site-packages/sklearn/metrics/_classification.py:1509: UndefinedMetricWarning: Precision is ill-defined and being set to 0.0 in labels with no predicted samples. Use `zero_division` parameter to control this behavior.\n",
            "  _warn_prf(average, modifier, f\"{metric.capitalize()} is\", len(result))\n",
            "/Users/aliyilmaz/anaconda3/envs/pytorch_env/lib/python3.12/site-packages/sklearn/metrics/_classification.py:1509: UndefinedMetricWarning: Precision is ill-defined and being set to 0.0 in labels with no predicted samples. Use `zero_division` parameter to control this behavior.\n",
            "  _warn_prf(average, modifier, f\"{metric.capitalize()} is\", len(result))\n"
          ]
        },
        {
          "name": "stdout",
          "output_type": "stream",
          "text": [
            "epoch 3: trainloss 0.91, testloss 0.77 accuracy=0.76, kappa=0.69, f1_micro=0.76, f1_macro=0.52, f1_weighted=0.75, recall_micro=0.76, recall_macro=0.53, recall_weighted=0.76, precision_micro=0.76, precision_macro=0.51, precision_weighted=0.75\n"
          ]
        },
        {
          "name": "stderr",
          "output_type": "stream",
          "text": [
            "train loss=0.41: 100%|██████████| 4160/4160 [05:07<00:00, 13.52it/s]\n",
            "test loss=0.71: 100%|██████████| 1040/1040 [01:08<00:00, 15.19it/s]\n",
            "/Users/aliyilmaz/anaconda3/envs/pytorch_env/lib/python3.12/site-packages/sklearn/metrics/_classification.py:1509: UndefinedMetricWarning: Precision is ill-defined and being set to 0.0 in labels with no predicted samples. Use `zero_division` parameter to control this behavior.\n",
            "  _warn_prf(average, modifier, f\"{metric.capitalize()} is\", len(result))\n",
            "/Users/aliyilmaz/anaconda3/envs/pytorch_env/lib/python3.12/site-packages/sklearn/metrics/_classification.py:1509: UndefinedMetricWarning: Precision is ill-defined and being set to 0.0 in labels with no predicted samples. Use `zero_division` parameter to control this behavior.\n",
            "  _warn_prf(average, modifier, f\"{metric.capitalize()} is\", len(result))\n"
          ]
        },
        {
          "name": "stdout",
          "output_type": "stream",
          "text": [
            "epoch 4: trainloss 0.49, testloss 0.72 accuracy=0.76, kappa=0.68, f1_micro=0.76, f1_macro=0.50, f1_weighted=0.72, recall_micro=0.76, recall_macro=0.51, recall_weighted=0.76, precision_micro=0.76, precision_macro=0.53, precision_weighted=0.76\n"
          ]
        },
        {
          "name": "stderr",
          "output_type": "stream",
          "text": [
            "train loss=0.43: 100%|██████████| 4160/4160 [05:09<00:00, 13.44it/s]\n",
            "test loss=0.84: 100%|██████████| 1040/1040 [01:09<00:00, 14.94it/s]\n",
            "/Users/aliyilmaz/anaconda3/envs/pytorch_env/lib/python3.12/site-packages/sklearn/metrics/_classification.py:1509: UndefinedMetricWarning: Precision is ill-defined and being set to 0.0 in labels with no predicted samples. Use `zero_division` parameter to control this behavior.\n",
            "  _warn_prf(average, modifier, f\"{metric.capitalize()} is\", len(result))\n",
            "/Users/aliyilmaz/anaconda3/envs/pytorch_env/lib/python3.12/site-packages/sklearn/metrics/_classification.py:1509: UndefinedMetricWarning: Precision is ill-defined and being set to 0.0 in labels with no predicted samples. Use `zero_division` parameter to control this behavior.\n",
            "  _warn_prf(average, modifier, f\"{metric.capitalize()} is\", len(result))\n"
          ]
        },
        {
          "name": "stdout",
          "output_type": "stream",
          "text": [
            "epoch 5: trainloss 0.66, testloss 0.67 accuracy=0.76, kappa=0.69, f1_micro=0.76, f1_macro=0.51, f1_weighted=0.74, recall_micro=0.76, recall_macro=0.53, recall_weighted=0.76, precision_micro=0.76, precision_macro=0.52, precision_weighted=0.76\n"
          ]
        },
        {
          "name": "stderr",
          "output_type": "stream",
          "text": [
            "train loss=0.67: 100%|██████████| 4160/4160 [05:10<00:00, 13.41it/s]\n",
            "test loss=0.74: 100%|██████████| 1040/1040 [01:10<00:00, 14.74it/s]\n",
            "/Users/aliyilmaz/anaconda3/envs/pytorch_env/lib/python3.12/site-packages/sklearn/metrics/_classification.py:1509: UndefinedMetricWarning: Precision is ill-defined and being set to 0.0 in labels with no predicted samples. Use `zero_division` parameter to control this behavior.\n",
            "  _warn_prf(average, modifier, f\"{metric.capitalize()} is\", len(result))\n",
            "/Users/aliyilmaz/anaconda3/envs/pytorch_env/lib/python3.12/site-packages/sklearn/metrics/_classification.py:1509: UndefinedMetricWarning: Precision is ill-defined and being set to 0.0 in labels with no predicted samples. Use `zero_division` parameter to control this behavior.\n",
            "  _warn_prf(average, modifier, f\"{metric.capitalize()} is\", len(result))\n"
          ]
        },
        {
          "name": "stdout",
          "output_type": "stream",
          "text": [
            "epoch 6: trainloss 0.42, testloss 0.66 accuracy=0.77, kappa=0.70, f1_micro=0.77, f1_macro=0.53, f1_weighted=0.76, recall_micro=0.77, recall_macro=0.52, recall_weighted=0.77, precision_micro=0.77, precision_macro=0.55, precision_weighted=0.76\n"
          ]
        },
        {
          "name": "stderr",
          "output_type": "stream",
          "text": [
            "train loss=0.65: 100%|██████████| 4160/4160 [04:11<00:00, 16.53it/s]\n",
            "test loss=0.72: 100%|██████████| 1040/1040 [00:54<00:00, 19.03it/s]\n",
            "/Users/aliyilmaz/anaconda3/envs/pytorch_env/lib/python3.12/site-packages/sklearn/metrics/_classification.py:1509: UndefinedMetricWarning: Precision is ill-defined and being set to 0.0 in labels with no predicted samples. Use `zero_division` parameter to control this behavior.\n",
            "  _warn_prf(average, modifier, f\"{metric.capitalize()} is\", len(result))\n",
            "/Users/aliyilmaz/anaconda3/envs/pytorch_env/lib/python3.12/site-packages/sklearn/metrics/_classification.py:1509: UndefinedMetricWarning: Precision is ill-defined and being set to 0.0 in labels with no predicted samples. Use `zero_division` parameter to control this behavior.\n",
            "  _warn_prf(average, modifier, f\"{metric.capitalize()} is\", len(result))\n"
          ]
        },
        {
          "name": "stdout",
          "output_type": "stream",
          "text": [
            "epoch 7: trainloss 0.53, testloss 0.78 accuracy=0.77, kappa=0.69, f1_micro=0.77, f1_macro=0.50, f1_weighted=0.75, recall_micro=0.77, recall_macro=0.52, recall_weighted=0.77, precision_micro=0.77, precision_macro=0.51, precision_weighted=0.76\n"
          ]
        },
        {
          "name": "stderr",
          "output_type": "stream",
          "text": [
            "train loss=0.35: 100%|██████████| 4160/4160 [04:00<00:00, 17.30it/s]\n",
            "test loss=0.78: 100%|██████████| 1040/1040 [00:53<00:00, 19.33it/s]\n",
            "/Users/aliyilmaz/anaconda3/envs/pytorch_env/lib/python3.12/site-packages/sklearn/metrics/_classification.py:1509: UndefinedMetricWarning: Precision is ill-defined and being set to 0.0 in labels with no predicted samples. Use `zero_division` parameter to control this behavior.\n",
            "  _warn_prf(average, modifier, f\"{metric.capitalize()} is\", len(result))\n",
            "/Users/aliyilmaz/anaconda3/envs/pytorch_env/lib/python3.12/site-packages/sklearn/metrics/_classification.py:1509: UndefinedMetricWarning: Precision is ill-defined and being set to 0.0 in labels with no predicted samples. Use `zero_division` parameter to control this behavior.\n",
            "  _warn_prf(average, modifier, f\"{metric.capitalize()} is\", len(result))\n"
          ]
        },
        {
          "name": "stdout",
          "output_type": "stream",
          "text": [
            "epoch 8: trainloss 0.51, testloss 0.75 accuracy=0.78, kappa=0.72, f1_micro=0.78, f1_macro=0.54, f1_weighted=0.78, recall_micro=0.78, recall_macro=0.54, recall_weighted=0.78, precision_micro=0.78, precision_macro=0.55, precision_weighted=0.77\n"
          ]
        },
        {
          "name": "stderr",
          "output_type": "stream",
          "text": [
            "train loss=0.88: 100%|██████████| 4160/4160 [04:02<00:00, 17.13it/s]\n",
            "test loss=0.70: 100%|██████████| 1040/1040 [01:05<00:00, 15.90it/s]\n",
            "/Users/aliyilmaz/anaconda3/envs/pytorch_env/lib/python3.12/site-packages/sklearn/metrics/_classification.py:1509: UndefinedMetricWarning: Precision is ill-defined and being set to 0.0 in labels with no predicted samples. Use `zero_division` parameter to control this behavior.\n",
            "  _warn_prf(average, modifier, f\"{metric.capitalize()} is\", len(result))\n",
            "/Users/aliyilmaz/anaconda3/envs/pytorch_env/lib/python3.12/site-packages/sklearn/metrics/_classification.py:1509: UndefinedMetricWarning: Precision is ill-defined and being set to 0.0 in labels with no predicted samples. Use `zero_division` parameter to control this behavior.\n",
            "  _warn_prf(average, modifier, f\"{metric.capitalize()} is\", len(result))\n"
          ]
        },
        {
          "name": "stdout",
          "output_type": "stream",
          "text": [
            "epoch 9: trainloss 0.54, testloss 0.77 accuracy=0.77, kappa=0.70, f1_micro=0.77, f1_macro=0.53, f1_weighted=0.76, recall_micro=0.77, recall_macro=0.52, recall_weighted=0.77, precision_micro=0.77, precision_macro=0.56, precision_weighted=0.77\n"
          ]
        }
      ],
      "source": [
        "device = torch.device(\"cuda\" if torch.cuda.is_available() else \"cpu\")\n",
        "model = LSTM_Model(input_size=13, hidden_size=64, num_layers=2, output_size=9, bidirectional=False, dropout=0.2, c_norm=True).to(device)\n",
        "train_dataloader, test_dataloader, meta = get_dataloader(mode=\"124\", batchsize=32, num_workers=0, X=0.2, upperPerformance=True)\n",
        "criterion = torch.nn.CrossEntropyLoss(reduction=\"mean\")\n",
        "optimizer = Adam(model.parameters(), 0.005, weight_decay=1e-6)\n",
        "log = list()\n",
        "for epoch in range(10):\n",
        "    train_loss = train_epoch(model, optimizer, criterion, train_dataloader, device)\n",
        "    test_loss, y_true, y_pred, *_ = test_epoch(model, criterion, test_dataloader, device)\n",
        "    scores1 = metrics(y_true.cpu(), y_pred.cpu())\n",
        "    scores_msg = \", \".join([f\"{k}={v:.2f}\" for (k, v) in scores1.items()])\n",
        "    test_loss = test_loss.cpu().detach().numpy()[0]\n",
        "    train_loss = train_loss.cpu().detach().numpy()[0]\n",
        "    print(f\"epoch {epoch}: trainloss {train_loss:.2f}, testloss {test_loss:.2f} \" + scores_msg)\n",
        "\n",
        "    scores1[\"epoch\"] = epoch\n",
        "    scores1[\"trainloss\"] = train_loss\n",
        "    scores1[\"testloss\"] = test_loss\n",
        "    log.append(scores1)\n",
        "\n",
        "    log_df = pd.DataFrame(log).set_index(\"epoch\")\n",
        "    log_df.to_csv(\"Upper124.csv\")"
      ]
    },
    {
      "cell_type": "code",
      "execution_count": 17,
      "metadata": {
        "id": "HhvKjAWl_s8z"
      },
      "outputs": [
        {
          "name": "stderr",
          "output_type": "stream",
          "text": [
            "train loss=0.71: 100%|██████████| 3517/3517 [04:19<00:00, 13.58it/s]\n",
            "test loss=0.57: 100%|██████████| 880/880 [01:00<00:00, 14.59it/s]\n",
            "/Users/aliyilmaz/anaconda3/envs/pytorch_env/lib/python3.12/site-packages/sklearn/metrics/_classification.py:1509: UndefinedMetricWarning: Precision is ill-defined and being set to 0.0 in labels with no predicted samples. Use `zero_division` parameter to control this behavior.\n",
            "  _warn_prf(average, modifier, f\"{metric.capitalize()} is\", len(result))\n",
            "/Users/aliyilmaz/anaconda3/envs/pytorch_env/lib/python3.12/site-packages/sklearn/metrics/_classification.py:1509: UndefinedMetricWarning: Precision is ill-defined and being set to 0.0 in labels with no predicted samples. Use `zero_division` parameter to control this behavior.\n",
            "  _warn_prf(average, modifier, f\"{metric.capitalize()} is\", len(result))\n"
          ]
        },
        {
          "name": "stdout",
          "output_type": "stream",
          "text": [
            "epoch 0: trainloss 2.45, testloss 0.51 accuracy=0.67, kappa=0.57, f1_micro=0.67, f1_macro=0.42, f1_weighted=0.67, recall_micro=0.67, recall_macro=0.41, recall_weighted=0.67, precision_micro=0.67, precision_macro=0.45, precision_weighted=0.67\n"
          ]
        },
        {
          "name": "stderr",
          "output_type": "stream",
          "text": [
            "train loss=0.48: 100%|██████████| 3517/3517 [04:21<00:00, 13.47it/s]\n",
            "test loss=0.57: 100%|██████████| 880/880 [00:56<00:00, 15.64it/s]\n",
            "/Users/aliyilmaz/anaconda3/envs/pytorch_env/lib/python3.12/site-packages/sklearn/metrics/_classification.py:1509: UndefinedMetricWarning: Precision is ill-defined and being set to 0.0 in labels with no predicted samples. Use `zero_division` parameter to control this behavior.\n",
            "  _warn_prf(average, modifier, f\"{metric.capitalize()} is\", len(result))\n",
            "/Users/aliyilmaz/anaconda3/envs/pytorch_env/lib/python3.12/site-packages/sklearn/metrics/_classification.py:1509: UndefinedMetricWarning: Precision is ill-defined and being set to 0.0 in labels with no predicted samples. Use `zero_division` parameter to control this behavior.\n",
            "  _warn_prf(average, modifier, f\"{metric.capitalize()} is\", len(result))\n"
          ]
        },
        {
          "name": "stdout",
          "output_type": "stream",
          "text": [
            "epoch 1: trainloss 0.67, testloss 0.58 accuracy=0.72, kappa=0.64, f1_micro=0.72, f1_macro=0.48, f1_weighted=0.72, recall_micro=0.72, recall_macro=0.49, recall_weighted=0.72, precision_micro=0.72, precision_macro=0.48, precision_weighted=0.72\n"
          ]
        },
        {
          "name": "stderr",
          "output_type": "stream",
          "text": [
            "train loss=0.57: 100%|██████████| 3517/3517 [04:28<00:00, 13.08it/s]\n",
            "test loss=0.44: 100%|██████████| 880/880 [00:59<00:00, 14.85it/s]\n",
            "/Users/aliyilmaz/anaconda3/envs/pytorch_env/lib/python3.12/site-packages/sklearn/metrics/_classification.py:1509: UndefinedMetricWarning: Precision is ill-defined and being set to 0.0 in labels with no predicted samples. Use `zero_division` parameter to control this behavior.\n",
            "  _warn_prf(average, modifier, f\"{metric.capitalize()} is\", len(result))\n",
            "/Users/aliyilmaz/anaconda3/envs/pytorch_env/lib/python3.12/site-packages/sklearn/metrics/_classification.py:1509: UndefinedMetricWarning: Precision is ill-defined and being set to 0.0 in labels with no predicted samples. Use `zero_division` parameter to control this behavior.\n",
            "  _warn_prf(average, modifier, f\"{metric.capitalize()} is\", len(result))\n"
          ]
        },
        {
          "name": "stdout",
          "output_type": "stream",
          "text": [
            "epoch 2: trainloss 0.42, testloss 0.56 accuracy=0.75, kappa=0.67, f1_micro=0.75, f1_macro=0.52, f1_weighted=0.74, recall_micro=0.75, recall_macro=0.52, recall_weighted=0.75, precision_micro=0.75, precision_macro=0.52, precision_weighted=0.74\n"
          ]
        },
        {
          "name": "stderr",
          "output_type": "stream",
          "text": [
            "train loss=0.74: 100%|██████████| 3517/3517 [04:27<00:00, 13.13it/s]\n",
            "test loss=0.49: 100%|██████████| 880/880 [00:59<00:00, 14.90it/s]\n",
            "/Users/aliyilmaz/anaconda3/envs/pytorch_env/lib/python3.12/site-packages/sklearn/metrics/_classification.py:1509: UndefinedMetricWarning: Precision is ill-defined and being set to 0.0 in labels with no predicted samples. Use `zero_division` parameter to control this behavior.\n",
            "  _warn_prf(average, modifier, f\"{metric.capitalize()} is\", len(result))\n",
            "/Users/aliyilmaz/anaconda3/envs/pytorch_env/lib/python3.12/site-packages/sklearn/metrics/_classification.py:1509: UndefinedMetricWarning: Precision is ill-defined and being set to 0.0 in labels with no predicted samples. Use `zero_division` parameter to control this behavior.\n",
            "  _warn_prf(average, modifier, f\"{metric.capitalize()} is\", len(result))\n"
          ]
        },
        {
          "name": "stdout",
          "output_type": "stream",
          "text": [
            "epoch 3: trainloss 0.48, testloss 0.53 accuracy=0.75, kappa=0.68, f1_micro=0.75, f1_macro=0.53, f1_weighted=0.75, recall_micro=0.75, recall_macro=0.53, recall_weighted=0.75, precision_micro=0.75, precision_macro=0.53, precision_weighted=0.76\n"
          ]
        },
        {
          "name": "stderr",
          "output_type": "stream",
          "text": [
            "train loss=0.97: 100%|██████████| 3517/3517 [04:23<00:00, 13.34it/s]\n",
            "test loss=0.35: 100%|██████████| 880/880 [00:59<00:00, 14.82it/s]\n",
            "/Users/aliyilmaz/anaconda3/envs/pytorch_env/lib/python3.12/site-packages/sklearn/metrics/_classification.py:1509: UndefinedMetricWarning: Precision is ill-defined and being set to 0.0 in labels with no predicted samples. Use `zero_division` parameter to control this behavior.\n",
            "  _warn_prf(average, modifier, f\"{metric.capitalize()} is\", len(result))\n",
            "/Users/aliyilmaz/anaconda3/envs/pytorch_env/lib/python3.12/site-packages/sklearn/metrics/_classification.py:1509: UndefinedMetricWarning: Precision is ill-defined and being set to 0.0 in labels with no predicted samples. Use `zero_division` parameter to control this behavior.\n",
            "  _warn_prf(average, modifier, f\"{metric.capitalize()} is\", len(result))\n"
          ]
        },
        {
          "name": "stdout",
          "output_type": "stream",
          "text": [
            "epoch 4: trainloss 0.54, testloss 0.51 accuracy=0.76, kappa=0.69, f1_micro=0.76, f1_macro=0.54, f1_weighted=0.76, recall_micro=0.76, recall_macro=0.53, recall_weighted=0.76, precision_micro=0.76, precision_macro=0.55, precision_weighted=0.77\n"
          ]
        },
        {
          "name": "stderr",
          "output_type": "stream",
          "text": [
            "train loss=0.25: 100%|██████████| 3517/3517 [04:20<00:00, 13.50it/s]\n",
            "test loss=0.27: 100%|██████████| 880/880 [00:57<00:00, 15.31it/s]\n",
            "/Users/aliyilmaz/anaconda3/envs/pytorch_env/lib/python3.12/site-packages/sklearn/metrics/_classification.py:1509: UndefinedMetricWarning: Precision is ill-defined and being set to 0.0 in labels with no predicted samples. Use `zero_division` parameter to control this behavior.\n",
            "  _warn_prf(average, modifier, f\"{metric.capitalize()} is\", len(result))\n",
            "/Users/aliyilmaz/anaconda3/envs/pytorch_env/lib/python3.12/site-packages/sklearn/metrics/_classification.py:1509: UndefinedMetricWarning: Precision is ill-defined and being set to 0.0 in labels with no predicted samples. Use `zero_division` parameter to control this behavior.\n",
            "  _warn_prf(average, modifier, f\"{metric.capitalize()} is\", len(result))\n"
          ]
        },
        {
          "name": "stdout",
          "output_type": "stream",
          "text": [
            "epoch 5: trainloss 0.73, testloss 0.41 accuracy=0.76, kappa=0.69, f1_micro=0.76, f1_macro=0.54, f1_weighted=0.76, recall_micro=0.76, recall_macro=0.54, recall_weighted=0.76, precision_micro=0.76, precision_macro=0.55, precision_weighted=0.76\n"
          ]
        },
        {
          "name": "stderr",
          "output_type": "stream",
          "text": [
            "train loss=0.80: 100%|██████████| 3517/3517 [04:15<00:00, 13.77it/s]\n",
            "test loss=0.51: 100%|██████████| 880/880 [00:57<00:00, 15.34it/s]\n",
            "/Users/aliyilmaz/anaconda3/envs/pytorch_env/lib/python3.12/site-packages/sklearn/metrics/_classification.py:1509: UndefinedMetricWarning: Precision is ill-defined and being set to 0.0 in labels with no predicted samples. Use `zero_division` parameter to control this behavior.\n",
            "  _warn_prf(average, modifier, f\"{metric.capitalize()} is\", len(result))\n",
            "/Users/aliyilmaz/anaconda3/envs/pytorch_env/lib/python3.12/site-packages/sklearn/metrics/_classification.py:1509: UndefinedMetricWarning: Precision is ill-defined and being set to 0.0 in labels with no predicted samples. Use `zero_division` parameter to control this behavior.\n",
            "  _warn_prf(average, modifier, f\"{metric.capitalize()} is\", len(result))\n"
          ]
        },
        {
          "name": "stdout",
          "output_type": "stream",
          "text": [
            "epoch 6: trainloss 0.59, testloss 0.57 accuracy=0.77, kappa=0.70, f1_micro=0.77, f1_macro=0.55, f1_weighted=0.76, recall_micro=0.77, recall_macro=0.55, recall_weighted=0.77, precision_micro=0.77, precision_macro=0.55, precision_weighted=0.77\n"
          ]
        },
        {
          "name": "stderr",
          "output_type": "stream",
          "text": [
            "train loss=0.39: 100%|██████████| 3517/3517 [04:24<00:00, 13.32it/s]\n",
            "test loss=0.31: 100%|██████████| 880/880 [00:59<00:00, 14.80it/s]\n",
            "/Users/aliyilmaz/anaconda3/envs/pytorch_env/lib/python3.12/site-packages/sklearn/metrics/_classification.py:1509: UndefinedMetricWarning: Precision is ill-defined and being set to 0.0 in labels with no predicted samples. Use `zero_division` parameter to control this behavior.\n",
            "  _warn_prf(average, modifier, f\"{metric.capitalize()} is\", len(result))\n",
            "/Users/aliyilmaz/anaconda3/envs/pytorch_env/lib/python3.12/site-packages/sklearn/metrics/_classification.py:1509: UndefinedMetricWarning: Precision is ill-defined and being set to 0.0 in labels with no predicted samples. Use `zero_division` parameter to control this behavior.\n",
            "  _warn_prf(average, modifier, f\"{metric.capitalize()} is\", len(result))\n"
          ]
        },
        {
          "name": "stdout",
          "output_type": "stream",
          "text": [
            "epoch 7: trainloss 0.52, testloss 0.51 accuracy=0.78, kappa=0.71, f1_micro=0.78, f1_macro=0.55, f1_weighted=0.77, recall_micro=0.78, recall_macro=0.55, recall_weighted=0.78, precision_micro=0.78, precision_macro=0.55, precision_weighted=0.77\n"
          ]
        },
        {
          "name": "stderr",
          "output_type": "stream",
          "text": [
            "train loss=0.25: 100%|██████████| 3517/3517 [04:20<00:00, 13.48it/s]\n",
            "test loss=0.34: 100%|██████████| 880/880 [00:58<00:00, 15.05it/s]\n",
            "/Users/aliyilmaz/anaconda3/envs/pytorch_env/lib/python3.12/site-packages/sklearn/metrics/_classification.py:1509: UndefinedMetricWarning: Precision is ill-defined and being set to 0.0 in labels with no predicted samples. Use `zero_division` parameter to control this behavior.\n",
            "  _warn_prf(average, modifier, f\"{metric.capitalize()} is\", len(result))\n",
            "/Users/aliyilmaz/anaconda3/envs/pytorch_env/lib/python3.12/site-packages/sklearn/metrics/_classification.py:1509: UndefinedMetricWarning: Precision is ill-defined and being set to 0.0 in labels with no predicted samples. Use `zero_division` parameter to control this behavior.\n",
            "  _warn_prf(average, modifier, f\"{metric.capitalize()} is\", len(result))\n"
          ]
        },
        {
          "name": "stdout",
          "output_type": "stream",
          "text": [
            "epoch 8: trainloss 0.58, testloss 0.40 accuracy=0.77, kappa=0.71, f1_micro=0.77, f1_macro=0.55, f1_weighted=0.77, recall_micro=0.77, recall_macro=0.55, recall_weighted=0.77, precision_micro=0.77, precision_macro=0.54, precision_weighted=0.77\n"
          ]
        },
        {
          "name": "stderr",
          "output_type": "stream",
          "text": [
            "train loss=0.65: 100%|██████████| 3517/3517 [04:19<00:00, 13.55it/s]\n",
            "test loss=0.29: 100%|██████████| 880/880 [00:57<00:00, 15.21it/s]\n",
            "/Users/aliyilmaz/anaconda3/envs/pytorch_env/lib/python3.12/site-packages/sklearn/metrics/_classification.py:1509: UndefinedMetricWarning: Precision is ill-defined and being set to 0.0 in labels with no predicted samples. Use `zero_division` parameter to control this behavior.\n",
            "  _warn_prf(average, modifier, f\"{metric.capitalize()} is\", len(result))\n",
            "/Users/aliyilmaz/anaconda3/envs/pytorch_env/lib/python3.12/site-packages/sklearn/metrics/_classification.py:1509: UndefinedMetricWarning: Precision is ill-defined and being set to 0.0 in labels with no predicted samples. Use `zero_division` parameter to control this behavior.\n",
            "  _warn_prf(average, modifier, f\"{metric.capitalize()} is\", len(result))\n"
          ]
        },
        {
          "name": "stdout",
          "output_type": "stream",
          "text": [
            "epoch 9: trainloss 0.42, testloss 0.49 accuracy=0.77, kappa=0.70, f1_micro=0.77, f1_macro=0.55, f1_weighted=0.77, recall_micro=0.77, recall_macro=0.55, recall_weighted=0.77, precision_micro=0.77, precision_macro=0.55, precision_weighted=0.78\n"
          ]
        }
      ],
      "source": [
        "device = torch.device(\"cuda\" if torch.cuda.is_available() else \"cpu\")\n",
        "model = LSTM_Model(input_size=13, hidden_size=64, num_layers=2, output_size=9, bidirectional=False, dropout=0.2, c_norm=True).to(device)\n",
        "train_dataloader, test_dataloader, meta = get_dataloader(mode=\"134\", batchsize=32, num_workers=0, X=0.2, upperPerformance=True)\n",
        "criterion = torch.nn.CrossEntropyLoss(reduction=\"mean\")\n",
        "optimizer = Adam(model.parameters(), 0.005, weight_decay=1e-6)\n",
        "log = list()\n",
        "for epoch in range(10):\n",
        "    train_loss = train_epoch(model, optimizer, criterion, train_dataloader, device)\n",
        "    test_loss, y_true, y_pred, *_ = test_epoch(model, criterion, test_dataloader, device)\n",
        "    scores1 = metrics(y_true.cpu(), y_pred.cpu())\n",
        "    scores_msg = \", \".join([f\"{k}={v:.2f}\" for (k, v) in scores1.items()])\n",
        "    test_loss = test_loss.cpu().detach().numpy()[0]\n",
        "    train_loss = train_loss.cpu().detach().numpy()[0]\n",
        "    print(f\"epoch {epoch}: trainloss {train_loss:.2f}, testloss {test_loss:.2f} \" + scores_msg)\n",
        "\n",
        "    scores1[\"epoch\"] = epoch\n",
        "    scores1[\"trainloss\"] = train_loss\n",
        "    scores1[\"testloss\"] = test_loss\n",
        "    log.append(scores1)\n",
        "\n",
        "    log_df = pd.DataFrame(log).set_index(\"epoch\")\n",
        "    log_df.to_csv(\"Upper134.csv\")"
      ]
    },
    {
      "cell_type": "code",
      "execution_count": null,
      "metadata": {},
      "outputs": [],
      "source": []
    }
  ],
  "metadata": {
    "accelerator": "GPU",
    "colab": {
      "gpuType": "A100",
      "machine_shape": "hm",
      "provenance": []
    },
    "kernelspec": {
      "display_name": "Python 3",
      "name": "python3"
    },
    "language_info": {
      "codemirror_mode": {
        "name": "ipython",
        "version": 3
      },
      "file_extension": ".py",
      "mimetype": "text/x-python",
      "name": "python",
      "nbconvert_exporter": "python",
      "pygments_lexer": "ipython3",
      "version": "3.12.1"
    }
  },
  "nbformat": 4,
  "nbformat_minor": 0
}
