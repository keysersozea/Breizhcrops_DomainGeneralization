{
 "cells": [
  {
   "cell_type": "code",
   "execution_count": 2,
   "metadata": {},
   "outputs": [],
   "source": [
    "import breizhcrops as bzh\n",
    "from breizhcrops import BreizhCrops\n",
    "import numpy as np\n",
    "import pandas as pd\n",
    "import matplotlib.pyplot as plt\n",
    "import tqdm\n",
    "from tqdm import tqdm\n",
    "import torch\n",
    "from torch.utils.data import Dataset, DataLoader\n",
    "from torch import nn\n",
    "from torch.optim import Adam\n",
    "from sklearn.metrics import accuracy_score, cohen_kappa_score, f1_score, recall_score, precision_score\n",
    "import os"
   ]
  },
  {
   "cell_type": "code",
   "execution_count": 3,
   "metadata": {},
   "outputs": [],
   "source": [
    "frh01 = BreizhCrops(\"frh01\")\n",
    "frh02 = BreizhCrops(\"frh02\")\n",
    "frh03 = BreizhCrops(\"frh03\")\n",
    "frh04 = BreizhCrops(\"frh04\")\n",
    "device = torch.device(\"mps\" if torch.backends.mps.is_available() else \"cpu\")"
   ]
  },
  {
   "cell_type": "code",
   "execution_count": 90,
   "metadata": {},
   "outputs": [],
   "source": [
    "frh01.domain = 1\n",
    "frh02.domain = 2\n",
    "frh03.domain = 3\n",
    "frh04.domain = 4"
   ]
  },
  {
   "cell_type": "markdown",
   "metadata": {},
   "source": [
    "## Dummy part\n",
    "\n",
    "I was using this code but it become useless at the end. However, I dont want to delete it(I may require it)"
   ]
  },
  {
   "cell_type": "code",
   "execution_count": null,
   "metadata": {},
   "outputs": [],
   "source": [
    "import torch\n",
    "from torch.utils.data import Dataset\n",
    "\n",
    "class DatasetWrapper(Dataset):\n",
    "    def __init__(self, original_dataset, domain):\n",
    "        self.original_dataset = original_dataset\n",
    "        self.domain = domain\n",
    "    def __len__(self):\n",
    "        return len(self.original_dataset)\n",
    "\n",
    "    def __getitem__(self, index):\n",
    "        # Get the original tuple from the dataset\n",
    "        data, label, id = self.original_dataset[index]\n",
    "\n",
    "        # Return a new tuple that includes the domain\n",
    "        return (data, label, id, self.domain)\n",
    "\n",
    "frh01 = DatasetWrapper(frh01, 1)\n",
    "frh02 = DatasetWrapper(frh02, 2)\n",
    "frh03 = DatasetWrapper(frh03, 3)\n",
    "frh04 = DatasetWrapper(frh04, 4)\n"
   ]
  },
  {
   "cell_type": "code",
   "execution_count": 4,
   "metadata": {},
   "outputs": [],
   "source": [
    "def split_dataset(dataset, X=0.8):\n",
    "    \n",
    "    total_samples = len(dataset)\n",
    "\n",
    "    num_test_samples = int(X * total_samples)\n",
    "\n",
    "    np.random.seed(42)\n",
    "\n",
    "    test_indices = np.random.choice(total_samples, num_test_samples, replace=False)\n",
    "\n",
    "    # Find complementary indices\n",
    "    train_indices = np.setdiff1d(np.arange(total_samples), test_indices)\n",
    "\n",
    "    test = torch.utils.data.Subset(dataset, test_indices)\n",
    "    train = torch.utils.data.Subset(dataset, train_indices)\n",
    "    return train, test"
   ]
  },
  {
   "cell_type": "markdown",
   "metadata": {},
   "source": [
    "## Different get_loader functions to perform training and tests upon different combinastions of datasets\n",
    "\n",
    "I write a more modular one function to handle all dataset combinations but I face many errors at different stages of codes in implementation step. Therefore, I turn to more 'manuel' way."
   ]
  },
  {
   "cell_type": "markdown",
   "metadata": {},
   "source": [
    "### 234"
   ]
  },
  {
   "cell_type": "code",
   "execution_count": 5,
   "metadata": {},
   "outputs": [],
   "source": [
    "def get_dataloader(batchsize, X=0.8, num_workers=0, upperPerformance=False):\n",
    "\n",
    "    frh01.domain = 3\n",
    "    frh01_train, frh01_test = split_dataset(frh01, X=X)\n",
    "\n",
    "    if upperPerformance:\n",
    "        traindatasets = frh01_train\n",
    "    else:\n",
    "        frh02.domain = 0\n",
    "        frh03.domain = 1\n",
    "        frh04.domain = 2\n",
    "        traindatasets = torch.utils.data.ConcatDataset([frh02, frh03, frh04])\n",
    "\n",
    "    testdataset = frh01_test\n",
    "    \n",
    "\n",
    "    traindataloader = DataLoader(traindatasets, batch_size=batchsize, shuffle=True, num_workers=num_workers)\n",
    "    testdataloader = DataLoader(testdataset, batch_size=batchsize, shuffle=False, num_workers=num_workers)\n",
    "\n",
    "    meta = dict(\n",
    "        ndims=13,\n",
    "        num_classes=9,\n",
    "        sequencelength=45\n",
    "    )\n",
    "\n",
    "    return traindataloader, testdataloader, meta"
   ]
  },
  {
   "cell_type": "markdown",
   "metadata": {},
   "source": [
    "### 123"
   ]
  },
  {
   "cell_type": "code",
   "execution_count": 6,
   "metadata": {},
   "outputs": [],
   "source": [
    "def get_dataloader123(batchsize, X=0.8, num_workers=0, upperPerformance=False):\n",
    "\n",
    "    frh04.domain = 3\n",
    "    frh04_train, frh04_test = split_dataset(frh04, X=X)\n",
    "\n",
    "    if upperPerformance:\n",
    "        traindatasets = frh04_train\n",
    "    else:\n",
    "        frh01.domain = 0\n",
    "        frh02.domain = 1\n",
    "        frh03.domain = 2\n",
    "        traindatasets = torch.utils.data.ConcatDataset([frh01, frh02, frh03])\n",
    "\n",
    "    testdataset = frh04_test\n",
    "    \n",
    "\n",
    "    traindataloader = DataLoader(traindatasets, batch_size=batchsize, shuffle=True, num_workers=num_workers)\n",
    "    testdataloader = DataLoader(testdataset, batch_size=batchsize, shuffle=False, num_workers=num_workers)\n",
    "\n",
    "    meta = dict(\n",
    "        ndims=13,\n",
    "        num_classes=9,\n",
    "        sequencelength=45\n",
    "    )\n",
    "\n",
    "    return traindataloader, testdataloader, meta"
   ]
  },
  {
   "cell_type": "markdown",
   "metadata": {},
   "source": [
    "### 124"
   ]
  },
  {
   "cell_type": "code",
   "execution_count": 7,
   "metadata": {},
   "outputs": [],
   "source": [
    "def get_dataloader124(batchsize, X=0.8, num_workers=0, upperPerformance=False):\n",
    "\n",
    "    frh03.domain = 3\n",
    "    frh03_train, frh03_test = split_dataset(frh03, X=X)\n",
    "\n",
    "    if upperPerformance:\n",
    "        traindatasets = frh03_train\n",
    "    else:\n",
    "        frh01.domain = 0\n",
    "        frh02.domain = 1\n",
    "        frh04.domain = 2\n",
    "        traindatasets = torch.utils.data.ConcatDataset([frh01, frh02, frh04])\n",
    "\n",
    "    testdataset = frh03_test\n",
    "    \n",
    "\n",
    "    traindataloader = DataLoader(traindatasets, batch_size=batchsize, shuffle=True, num_workers=num_workers)\n",
    "    testdataloader = DataLoader(testdataset, batch_size=batchsize, shuffle=False, num_workers=num_workers)\n",
    "\n",
    "    meta = dict(\n",
    "        ndims=13,\n",
    "        num_classes=9,\n",
    "        sequencelength=45\n",
    "    )\n",
    "\n",
    "    return traindataloader, testdataloader, meta"
   ]
  },
  {
   "cell_type": "code",
   "execution_count": 8,
   "metadata": {},
   "outputs": [],
   "source": [
    "frh01.domain = 0\n",
    "frh02.domain = 1\n",
    "frh04.domain = 2\n",
    "traindatasets = torch.utils.data.ConcatDataset([frh01, frh02, frh04])"
   ]
  },
  {
   "cell_type": "markdown",
   "metadata": {},
   "source": [
    "### 134"
   ]
  },
  {
   "cell_type": "code",
   "execution_count": 9,
   "metadata": {},
   "outputs": [],
   "source": [
    "def get_dataloader134(batchsize, X=0.8, num_workers=0, upperPerformance=False):\n",
    "\n",
    "    frh02.domain = 3\n",
    "    frh02_train, frh02_test = split_dataset(frh02, X=X)\n",
    "\n",
    "    if upperPerformance:\n",
    "        traindatasets = frh02_train\n",
    "    else:\n",
    "        frh01.domain = 0\n",
    "        frh03.domain = 1\n",
    "        frh04.domain = 2\n",
    "        traindatasets = torch.utils.data.ConcatDataset([frh01, frh03, frh04])\n",
    "\n",
    "    testdataset = frh02_test\n",
    "    \n",
    "\n",
    "    traindataloader = DataLoader(traindatasets, batch_size=batchsize, shuffle=True, num_workers=num_workers)\n",
    "    testdataloader = DataLoader(testdataset, batch_size=batchsize, shuffle=False, num_workers=num_workers)\n",
    "\n",
    "    meta = dict(\n",
    "        ndims=13,\n",
    "        num_classes=9,\n",
    "        sequencelength=45\n",
    "    )\n",
    "\n",
    "    return traindataloader, testdataloader, meta"
   ]
  },
  {
   "cell_type": "markdown",
   "metadata": {},
   "source": [
    "## Class definitions, train-test loops and etc"
   ]
  },
  {
   "cell_type": "code",
   "execution_count": 10,
   "metadata": {},
   "outputs": [],
   "source": [
    "from torch.autograd import Function\n",
    "\n",
    "class GradientReversalFunction(Function):\n",
    "    @staticmethod\n",
    "    def forward(ctx, x, lambda_):\n",
    "        ctx.lambda_ = lambda_\n",
    "        return x.view_as(x)\n",
    "\n",
    "    @staticmethod\n",
    "    def backward(ctx, grad_output):\n",
    "        return (grad_output.neg() * ctx.lambda_, None)\n",
    "\n",
    "class GradientReversalLayer(nn.Module):\n",
    "    def __init__(self, lambda_=1.0):\n",
    "        super(GradientReversalLayer, self).__init__()\n",
    "        self.lambda_ = lambda_\n",
    "\n",
    "    def set_lambda(self, lambda_):\n",
    "        self.lambda_ = lambda_\n",
    "        \n",
    "    def forward(self, x):\n",
    "        return GradientReversalFunction.apply(x, self.lambda_)\n",
    "    \n",
    "    \n",
    "\n",
    "class LSTM_DANN(torch.nn.Module):\n",
    "    def __init__(self, input_size=13, hidden_size=128, num_layers=4, output_size=9, bidirectional=False, dropout=0.2, c_norm=True, num_domains=3):\n",
    "        super(LSTM_DANN, self).__init__()\n",
    "        self.input_size = input_size\n",
    "        self.hidden_size = hidden_size\n",
    "        self.num_layers = num_layers\n",
    "        self.output_size = output_size\n",
    "        self.c_norm = c_norm\n",
    "        \n",
    "        if num_layers > 1 and dropout > 0:\n",
    "            self.dropout = dropout\n",
    "        else:\n",
    "            self.dropout = 0.0 \n",
    "            \n",
    "        self.clayernorm = nn.LayerNorm((hidden_size + hidden_size * bidirectional) * num_layers)\n",
    "        \n",
    "        self.lstm = nn.LSTM(input_size=input_size, hidden_size=hidden_size, num_layers=num_layers,\n",
    "                            bias=False, batch_first=True, dropout=dropout, bidirectional=bidirectional)   \n",
    "        \n",
    "        \n",
    "        if bidirectional:\n",
    "            hidden_size = hidden_size * 2\n",
    "            \n",
    "        self.gradient_reversal = GradientReversalLayer(lambda_=1.0)\n",
    "        self.label_classifyer = nn.Linear(hidden_size * num_layers, output_size, bias=True)\n",
    "        self.domain_classifyer = nn.Linear(hidden_size * num_layers, num_domains, bias=True)\n",
    "        \n",
    "    def forward(self, x, lambda_=1.0):\n",
    "        \n",
    "        outputs, last_state_list = self.lstm.forward(x)\n",
    "\n",
    "        h, c = last_state_list\n",
    "\n",
    "        nlayers, batchsize, n_hidden = c.shape\n",
    "        \n",
    "        if self.c_norm:\n",
    "            features = self.clayernorm(c.transpose(0, 1).contiguous().view(batchsize, nlayers * n_hidden))\n",
    "        else:\n",
    "            features = c.transpose(0, 1).contiguous().view(batchsize, nlayers * n_hidden)\n",
    "            \n",
    "        self.gradient_reversal.set_lambda(lambda_) \n",
    "        \n",
    "        reverse_features = self.gradient_reversal(features)\n",
    "\n",
    "        label_prediction = self.label_classifyer(features)\n",
    "        domain_prediction = self.domain_classifyer(reverse_features)\n",
    "        \n",
    "        return label_prediction, domain_prediction\n",
    "        \n",
    "    def save(self, path=\"model.pth\", **kwargs):\n",
    "        print(\"\\nsaving model to \" + path)\n",
    "        model_state = self.state_dict()\n",
    "        os.makedirs(os.path.dirname(path), exist_ok=True)\n",
    "        torch.save(dict(model_state=model_state, **kwargs), path)\n",
    "        "
   ]
  },
  {
   "cell_type": "code",
   "execution_count": 12,
   "metadata": {},
   "outputs": [],
   "source": [
    "def metrics(y_true, y_pred):\n",
    "    accuracy = accuracy_score(y_true, y_pred)\n",
    "    kappa = cohen_kappa_score(y_true, y_pred)\n",
    "    f1_micro = f1_score(y_true, y_pred, average=\"micro\")\n",
    "    f1_macro = f1_score(y_true, y_pred, average=\"macro\")\n",
    "    f1_weighted = f1_score(y_true, y_pred, average=\"weighted\")\n",
    "    recall_micro = recall_score(y_true, y_pred, average=\"micro\")\n",
    "    recall_macro = recall_score(y_true, y_pred, average=\"macro\")\n",
    "    recall_weighted = recall_score(y_true, y_pred, average=\"weighted\")\n",
    "    precision_micro = precision_score(y_true, y_pred, average=\"micro\")\n",
    "    precision_macro = precision_score(y_true, y_pred, average=\"macro\")\n",
    "    precision_weighted = precision_score(y_true, y_pred, average=\"weighted\")\n",
    "\n",
    "    return dict(\n",
    "        accuracy=accuracy,\n",
    "        kappa=kappa,\n",
    "        f1_micro=f1_micro,\n",
    "        f1_macro=f1_macro,\n",
    "        f1_weighted=f1_weighted,\n",
    "        recall_micro=recall_micro,\n",
    "        recall_macro=recall_macro,\n",
    "        recall_weighted=recall_weighted,\n",
    "        precision_micro=precision_micro,\n",
    "        precision_macro=precision_macro,\n",
    "        precision_weighted=precision_weighted,\n",
    "    )\n",
    "\n",
    "\n",
    "def train_epoch(model, optimizer, criterion_label, criterion_domain, dataloader, device, alpha=1.0):\n",
    "    model.train()\n",
    "    losses = list()\n",
    "    label_losses = list()\n",
    "    domain_losses = list()\n",
    "    with tqdm(enumerate(dataloader), total=len(dataloader), leave=True) as iterator:\n",
    "        for idx, batch in iterator:\n",
    "            optimizer.zero_grad()\n",
    "            x, y_true, _ , y_domain= batch\n",
    "            prediction_label, prediction_domain = model.forward(x.to(device), lambda_=alpha)\n",
    "            loss_label = criterion_label(prediction_label, y_true.to(device))\n",
    "            loss_domain = criterion_domain(prediction_domain, y_domain.to(device))\n",
    "            if alpha == 0:\n",
    "                loss = loss_label\n",
    "            else:\n",
    "                #loss = loss_label + alpha * loss_domain\n",
    "                loss = loss_label + loss_domain\n",
    "\n",
    "            loss.backward()\n",
    "            optimizer.step()\n",
    "            iterator.set_description(f\"train loss={loss_label:.2f}\")\n",
    "            losses.append(loss)\n",
    "            label_losses.append(loss_label)\n",
    "            domain_losses.append(loss_domain)\n",
    "    return torch.stack(losses), torch.stack(label_losses), torch.stack(domain_losses)\n",
    "\n",
    "\n",
    "def test_epoch(model, criterion, dataloader, device):\n",
    "    model.eval()\n",
    "    with torch.no_grad():\n",
    "        losses = list()\n",
    "        y_true_list = list()\n",
    "        y_pred_list = list()\n",
    "        field_ids_list = list()\n",
    "        with tqdm(enumerate(dataloader), total=len(dataloader), leave=True) as iterator:\n",
    "            for idx, batch in iterator:\n",
    "                x, y_true, field_id, _ = batch\n",
    "                logits = model.forward(x.to(device))[0]\n",
    "                loss = criterion(logits, y_true.to(device))\n",
    "                iterator.set_description(f\"test loss={loss:.2f}\")\n",
    "                losses.append(loss)\n",
    "                y_true_list.append(y_true)\n",
    "                y_pred_list.append(logits.argmax(-1))\n",
    "                field_ids_list.append(field_id)\n",
    "        return torch.stack(losses), torch.cat(y_true_list), torch.cat(y_pred_list), torch.cat(field_ids_list)\n"
   ]
  },
  {
   "cell_type": "markdown",
   "metadata": {},
   "source": [
    "# TESTS"
   ]
  },
  {
   "cell_type": "code",
   "execution_count": null,
   "metadata": {},
   "outputs": [],
   "source": [
    "device = \"mps\" if torch.backends.mps.is_available() else \"cpu\"\n",
    "model = LSTM_DANN(input_size=13, hidden_size=64, num_layers=2, output_size=9, bidirectional=False, dropout=0.2, c_norm=True, num_domains=3).to(device)\n",
    "train_dataloader, test_dataloader, meta = get_dataloader(batchsize=32, num_workers=0, X=0.8, upperPerformance=False)\n",
    "criterion_label = torch.nn.CrossEntropyLoss(reduction=\"mean\")\n",
    "criterion_domain = torch.nn.CrossEntropyLoss(reduction=\"mean\")\n",
    "optimizer = Adam(model.parameters(), 0.001, weight_decay=1e-6)\n",
    "log = list()\n",
    "n_epoch = 10\n",
    "for epoch in range(n_epoch):\n",
    "    p = float(epoch) / n_epoch \n",
    "    alpha = (2. / (1. + np.exp(-10 * p)) - 1)\n",
    "    train_loss, label_loss, domain_loss = train_epoch(model, optimizer, criterion_label, criterion_domain, train_dataloader, device, alpha=0.05)\n",
    "    test_loss, y_true, y_pred, *_ = test_epoch(model, criterion_label, test_dataloader, device)\n",
    "    scores1 = metrics(y_true.cpu(), y_pred.cpu())\n",
    "    scores_msg = \", \".join([f\"{k}={v:.2f}\" for (k, v) in scores1.items()])\n",
    "    test_loss = test_loss.cpu().detach().numpy().mean()\n",
    "    train_loss = train_loss.cpu().detach().numpy().mean()\n",
    "    print(f\"epoch {epoch}: trainloss {train_loss:.2f}, testloss {test_loss:.2f} \" + scores_msg)\n",
    "\n",
    "    scores1[\"epoch\"] = epoch\n",
    "    scores1[\"trainloss\"] = train_loss\n",
    "    scores1[\"testloss\"] = test_loss\n",
    "    scores1[\"labelloss\"] = label_loss.cpu().detach().numpy().mean()\n",
    "    scores1[\"domainloss\"] = domain_loss.cpu().detach().numpy().mean()\n",
    "    log.append(scores1)\n",
    "    \n",
    "    log_df = pd.DataFrame(log).set_index(\"epoch\")\n",
    "    log_df.to_csv(\"DANN234.csv\")"
   ]
  },
  {
   "cell_type": "code",
   "execution_count": 14,
   "metadata": {},
   "outputs": [
    {
     "name": "stderr",
     "output_type": "stream",
     "text": [
      "train loss=0.46: 100%|██████████| 15177/15177 [18:04<00:00, 14.00it/s]\n",
      "test loss=0.71: 100%|██████████| 3066/3066 [02:17<00:00, 22.25it/s]\n",
      "/Users/aliyilmaz/anaconda3/envs/pytorch_env/lib/python3.12/site-packages/sklearn/metrics/_classification.py:1509: UndefinedMetricWarning: Precision is ill-defined and being set to 0.0 in labels with no predicted samples. Use `zero_division` parameter to control this behavior.\n",
      "  _warn_prf(average, modifier, f\"{metric.capitalize()} is\", len(result))\n",
      "/Users/aliyilmaz/anaconda3/envs/pytorch_env/lib/python3.12/site-packages/sklearn/metrics/_classification.py:1509: UndefinedMetricWarning: Precision is ill-defined and being set to 0.0 in labels with no predicted samples. Use `zero_division` parameter to control this behavior.\n",
      "  _warn_prf(average, modifier, f\"{metric.capitalize()} is\", len(result))\n"
     ]
    },
    {
     "name": "stdout",
     "output_type": "stream",
     "text": [
      "epoch 0: trainloss 0.71, testloss 0.62 accuracy=0.74, kappa=0.65, f1_micro=0.74, f1_macro=0.48, f1_weighted=0.71, recall_micro=0.74, recall_macro=0.51, recall_weighted=0.74, precision_micro=0.74, precision_macro=0.49, precision_weighted=0.73\n"
     ]
    },
    {
     "name": "stderr",
     "output_type": "stream",
     "text": [
      "train loss=0.43: 100%|██████████| 15177/15177 [19:25<00:00, 13.03it/s]\n",
      "test loss=1.00: 100%|██████████| 3066/3066 [02:21<00:00, 21.67it/s]\n",
      "/Users/aliyilmaz/anaconda3/envs/pytorch_env/lib/python3.12/site-packages/sklearn/metrics/_classification.py:1509: UndefinedMetricWarning: Precision is ill-defined and being set to 0.0 in labels with no predicted samples. Use `zero_division` parameter to control this behavior.\n",
      "  _warn_prf(average, modifier, f\"{metric.capitalize()} is\", len(result))\n",
      "/Users/aliyilmaz/anaconda3/envs/pytorch_env/lib/python3.12/site-packages/sklearn/metrics/_classification.py:1509: UndefinedMetricWarning: Precision is ill-defined and being set to 0.0 in labels with no predicted samples. Use `zero_division` parameter to control this behavior.\n",
      "  _warn_prf(average, modifier, f\"{metric.capitalize()} is\", len(result))\n"
     ]
    },
    {
     "name": "stdout",
     "output_type": "stream",
     "text": [
      "epoch 1: trainloss 1.65, testloss 0.53 accuracy=0.76, kappa=0.69, f1_micro=0.76, f1_macro=0.52, f1_weighted=0.74, recall_micro=0.76, recall_macro=0.51, recall_weighted=0.76, precision_micro=0.76, precision_macro=0.54, precision_weighted=0.76\n"
     ]
    },
    {
     "name": "stderr",
     "output_type": "stream",
     "text": [
      "train loss=0.89: 100%|██████████| 15177/15177 [19:37<00:00, 12.88it/s]\n",
      "test loss=1.30: 100%|██████████| 3066/3066 [02:18<00:00, 22.17it/s]\n",
      "/Users/aliyilmaz/anaconda3/envs/pytorch_env/lib/python3.12/site-packages/sklearn/metrics/_classification.py:1509: UndefinedMetricWarning: Precision is ill-defined and being set to 0.0 in labels with no predicted samples. Use `zero_division` parameter to control this behavior.\n",
      "  _warn_prf(average, modifier, f\"{metric.capitalize()} is\", len(result))\n",
      "/Users/aliyilmaz/anaconda3/envs/pytorch_env/lib/python3.12/site-packages/sklearn/metrics/_classification.py:1509: UndefinedMetricWarning: Precision is ill-defined and being set to 0.0 in labels with no predicted samples. Use `zero_division` parameter to control this behavior.\n",
      "  _warn_prf(average, modifier, f\"{metric.capitalize()} is\", len(result))\n"
     ]
    },
    {
     "name": "stdout",
     "output_type": "stream",
     "text": [
      "epoch 2: trainloss 1.80, testloss 0.82 accuracy=0.67, kappa=0.57, f1_micro=0.67, f1_macro=0.41, f1_weighted=0.65, recall_micro=0.67, recall_macro=0.42, recall_weighted=0.67, precision_micro=0.67, precision_macro=0.42, precision_weighted=0.67\n"
     ]
    },
    {
     "name": "stderr",
     "output_type": "stream",
     "text": [
      "train loss=0.49: 100%|██████████| 15177/15177 [17:24<00:00, 14.54it/s]\n",
      "test loss=1.18: 100%|██████████| 3066/3066 [01:59<00:00, 25.68it/s]\n",
      "/Users/aliyilmaz/anaconda3/envs/pytorch_env/lib/python3.12/site-packages/sklearn/metrics/_classification.py:1509: UndefinedMetricWarning: Precision is ill-defined and being set to 0.0 in labels with no predicted samples. Use `zero_division` parameter to control this behavior.\n",
      "  _warn_prf(average, modifier, f\"{metric.capitalize()} is\", len(result))\n",
      "/Users/aliyilmaz/anaconda3/envs/pytorch_env/lib/python3.12/site-packages/sklearn/metrics/_classification.py:1509: UndefinedMetricWarning: Precision is ill-defined and being set to 0.0 in labels with no predicted samples. Use `zero_division` parameter to control this behavior.\n",
      "  _warn_prf(average, modifier, f\"{metric.capitalize()} is\", len(result))\n"
     ]
    },
    {
     "name": "stdout",
     "output_type": "stream",
     "text": [
      "epoch 3: trainloss 1.72, testloss 0.61 accuracy=0.74, kappa=0.66, f1_micro=0.74, f1_macro=0.50, f1_weighted=0.73, recall_micro=0.74, recall_macro=0.52, recall_weighted=0.74, precision_micro=0.74, precision_macro=0.50, precision_weighted=0.74\n"
     ]
    },
    {
     "name": "stderr",
     "output_type": "stream",
     "text": [
      "train loss=0.34: 100%|██████████| 15177/15177 [20:06<00:00, 12.58it/s]  \n",
      "test loss=1.04: 100%|██████████| 3066/3066 [01:45<00:00, 29.06it/s]\n",
      "/Users/aliyilmaz/anaconda3/envs/pytorch_env/lib/python3.12/site-packages/sklearn/metrics/_classification.py:1509: UndefinedMetricWarning: Precision is ill-defined and being set to 0.0 in labels with no predicted samples. Use `zero_division` parameter to control this behavior.\n",
      "  _warn_prf(average, modifier, f\"{metric.capitalize()} is\", len(result))\n",
      "/Users/aliyilmaz/anaconda3/envs/pytorch_env/lib/python3.12/site-packages/sklearn/metrics/_classification.py:1509: UndefinedMetricWarning: Precision is ill-defined and being set to 0.0 in labels with no predicted samples. Use `zero_division` parameter to control this behavior.\n",
      "  _warn_prf(average, modifier, f\"{metric.capitalize()} is\", len(result))\n"
     ]
    },
    {
     "name": "stdout",
     "output_type": "stream",
     "text": [
      "epoch 4: trainloss 1.63, testloss 0.54 accuracy=0.75, kappa=0.67, f1_micro=0.75, f1_macro=0.51, f1_weighted=0.71, recall_micro=0.75, recall_macro=0.53, recall_weighted=0.75, precision_micro=0.75, precision_macro=0.54, precision_weighted=0.77\n"
     ]
    },
    {
     "name": "stderr",
     "output_type": "stream",
     "text": [
      "train loss=0.46: 100%|██████████| 15177/15177 [16:27<00:00, 15.36it/s]\n",
      "test loss=1.10: 100%|██████████| 3066/3066 [01:44<00:00, 29.37it/s]\n",
      "/Users/aliyilmaz/anaconda3/envs/pytorch_env/lib/python3.12/site-packages/sklearn/metrics/_classification.py:1509: UndefinedMetricWarning: Precision is ill-defined and being set to 0.0 in labels with no predicted samples. Use `zero_division` parameter to control this behavior.\n",
      "  _warn_prf(average, modifier, f\"{metric.capitalize()} is\", len(result))\n",
      "/Users/aliyilmaz/anaconda3/envs/pytorch_env/lib/python3.12/site-packages/sklearn/metrics/_classification.py:1509: UndefinedMetricWarning: Precision is ill-defined and being set to 0.0 in labels with no predicted samples. Use `zero_division` parameter to control this behavior.\n",
      "  _warn_prf(average, modifier, f\"{metric.capitalize()} is\", len(result))\n"
     ]
    },
    {
     "name": "stdout",
     "output_type": "stream",
     "text": [
      "epoch 5: trainloss 1.62, testloss 0.50 accuracy=0.77, kappa=0.70, f1_micro=0.77, f1_macro=0.54, f1_weighted=0.76, recall_micro=0.77, recall_macro=0.54, recall_weighted=0.77, precision_micro=0.77, precision_macro=0.55, precision_weighted=0.77\n"
     ]
    },
    {
     "name": "stderr",
     "output_type": "stream",
     "text": [
      "train loss=0.40: 100%|██████████| 15177/15177 [16:29<00:00, 15.34it/s]\n",
      "test loss=1.11: 100%|██████████| 3066/3066 [01:43<00:00, 29.72it/s]\n",
      "/Users/aliyilmaz/anaconda3/envs/pytorch_env/lib/python3.12/site-packages/sklearn/metrics/_classification.py:1509: UndefinedMetricWarning: Precision is ill-defined and being set to 0.0 in labels with no predicted samples. Use `zero_division` parameter to control this behavior.\n",
      "  _warn_prf(average, modifier, f\"{metric.capitalize()} is\", len(result))\n",
      "/Users/aliyilmaz/anaconda3/envs/pytorch_env/lib/python3.12/site-packages/sklearn/metrics/_classification.py:1509: UndefinedMetricWarning: Precision is ill-defined and being set to 0.0 in labels with no predicted samples. Use `zero_division` parameter to control this behavior.\n",
      "  _warn_prf(average, modifier, f\"{metric.capitalize()} is\", len(result))\n"
     ]
    },
    {
     "name": "stdout",
     "output_type": "stream",
     "text": [
      "epoch 6: trainloss 1.61, testloss 0.53 accuracy=0.77, kappa=0.69, f1_micro=0.77, f1_macro=0.53, f1_weighted=0.76, recall_micro=0.77, recall_macro=0.53, recall_weighted=0.77, precision_micro=0.77, precision_macro=0.54, precision_weighted=0.76\n"
     ]
    },
    {
     "name": "stderr",
     "output_type": "stream",
     "text": [
      "train loss=0.81: 100%|██████████| 15177/15177 [17:04<00:00, 14.81it/s]\n",
      "test loss=0.88: 100%|██████████| 3066/3066 [01:58<00:00, 25.90it/s]\n",
      "/Users/aliyilmaz/anaconda3/envs/pytorch_env/lib/python3.12/site-packages/sklearn/metrics/_classification.py:1509: UndefinedMetricWarning: Precision is ill-defined and being set to 0.0 in labels with no predicted samples. Use `zero_division` parameter to control this behavior.\n",
      "  _warn_prf(average, modifier, f\"{metric.capitalize()} is\", len(result))\n",
      "/Users/aliyilmaz/anaconda3/envs/pytorch_env/lib/python3.12/site-packages/sklearn/metrics/_classification.py:1509: UndefinedMetricWarning: Precision is ill-defined and being set to 0.0 in labels with no predicted samples. Use `zero_division` parameter to control this behavior.\n",
      "  _warn_prf(average, modifier, f\"{metric.capitalize()} is\", len(result))\n"
     ]
    },
    {
     "name": "stdout",
     "output_type": "stream",
     "text": [
      "epoch 7: trainloss 1.63, testloss 0.52 accuracy=0.77, kappa=0.70, f1_micro=0.77, f1_macro=0.53, f1_weighted=0.76, recall_micro=0.77, recall_macro=0.54, recall_weighted=0.77, precision_micro=0.77, precision_macro=0.53, precision_weighted=0.76\n"
     ]
    },
    {
     "name": "stderr",
     "output_type": "stream",
     "text": [
      "train loss=0.50: 100%|██████████| 15177/15177 [17:09<00:00, 14.74it/s]\n",
      "test loss=0.88: 100%|██████████| 3066/3066 [01:55<00:00, 26.55it/s]\n",
      "/Users/aliyilmaz/anaconda3/envs/pytorch_env/lib/python3.12/site-packages/sklearn/metrics/_classification.py:1509: UndefinedMetricWarning: Precision is ill-defined and being set to 0.0 in labels with no predicted samples. Use `zero_division` parameter to control this behavior.\n",
      "  _warn_prf(average, modifier, f\"{metric.capitalize()} is\", len(result))\n",
      "/Users/aliyilmaz/anaconda3/envs/pytorch_env/lib/python3.12/site-packages/sklearn/metrics/_classification.py:1509: UndefinedMetricWarning: Precision is ill-defined and being set to 0.0 in labels with no predicted samples. Use `zero_division` parameter to control this behavior.\n",
      "  _warn_prf(average, modifier, f\"{metric.capitalize()} is\", len(result))\n"
     ]
    },
    {
     "name": "stdout",
     "output_type": "stream",
     "text": [
      "epoch 8: trainloss 1.60, testloss 0.50 accuracy=0.77, kappa=0.70, f1_micro=0.77, f1_macro=0.53, f1_weighted=0.75, recall_micro=0.77, recall_macro=0.53, recall_weighted=0.77, precision_micro=0.77, precision_macro=0.56, precision_weighted=0.77\n"
     ]
    },
    {
     "name": "stderr",
     "output_type": "stream",
     "text": [
      "train loss=0.45: 100%|██████████| 15177/15177 [16:29<00:00, 15.33it/s]\n",
      "test loss=1.15: 100%|██████████| 3066/3066 [01:38<00:00, 31.22it/s]\n",
      "/Users/aliyilmaz/anaconda3/envs/pytorch_env/lib/python3.12/site-packages/sklearn/metrics/_classification.py:1509: UndefinedMetricWarning: Precision is ill-defined and being set to 0.0 in labels with no predicted samples. Use `zero_division` parameter to control this behavior.\n",
      "  _warn_prf(average, modifier, f\"{metric.capitalize()} is\", len(result))\n",
      "/Users/aliyilmaz/anaconda3/envs/pytorch_env/lib/python3.12/site-packages/sklearn/metrics/_classification.py:1509: UndefinedMetricWarning: Precision is ill-defined and being set to 0.0 in labels with no predicted samples. Use `zero_division` parameter to control this behavior.\n",
      "  _warn_prf(average, modifier, f\"{metric.capitalize()} is\", len(result))\n"
     ]
    },
    {
     "name": "stdout",
     "output_type": "stream",
     "text": [
      "epoch 9: trainloss 1.60, testloss 0.53 accuracy=0.77, kappa=0.70, f1_micro=0.77, f1_macro=0.54, f1_weighted=0.76, recall_micro=0.77, recall_macro=0.54, recall_weighted=0.77, precision_micro=0.77, precision_macro=0.53, precision_weighted=0.76\n"
     ]
    },
    {
     "name": "stderr",
     "output_type": "stream",
     "text": [
      "train loss=0.33: 100%|██████████| 15177/15177 [16:30<00:00, 15.32it/s]\n",
      "test loss=0.92: 100%|██████████| 3066/3066 [01:44<00:00, 29.35it/s]\n",
      "/Users/aliyilmaz/anaconda3/envs/pytorch_env/lib/python3.12/site-packages/sklearn/metrics/_classification.py:1509: UndefinedMetricWarning: Precision is ill-defined and being set to 0.0 in labels with no predicted samples. Use `zero_division` parameter to control this behavior.\n",
      "  _warn_prf(average, modifier, f\"{metric.capitalize()} is\", len(result))\n",
      "/Users/aliyilmaz/anaconda3/envs/pytorch_env/lib/python3.12/site-packages/sklearn/metrics/_classification.py:1509: UndefinedMetricWarning: Precision is ill-defined and being set to 0.0 in labels with no predicted samples. Use `zero_division` parameter to control this behavior.\n",
      "  _warn_prf(average, modifier, f\"{metric.capitalize()} is\", len(result))\n"
     ]
    },
    {
     "name": "stdout",
     "output_type": "stream",
     "text": [
      "epoch 10: trainloss 1.67, testloss 0.49 accuracy=0.77, kappa=0.71, f1_micro=0.77, f1_macro=0.54, f1_weighted=0.77, recall_micro=0.77, recall_macro=0.55, recall_weighted=0.77, precision_micro=0.77, precision_macro=0.54, precision_weighted=0.77\n"
     ]
    },
    {
     "name": "stderr",
     "output_type": "stream",
     "text": [
      "train loss=0.44: 100%|██████████| 15177/15177 [16:09<00:00, 15.65it/s]\n",
      "test loss=1.43: 100%|██████████| 3066/3066 [01:43<00:00, 29.71it/s]\n",
      "/Users/aliyilmaz/anaconda3/envs/pytorch_env/lib/python3.12/site-packages/sklearn/metrics/_classification.py:1509: UndefinedMetricWarning: Precision is ill-defined and being set to 0.0 in labels with no predicted samples. Use `zero_division` parameter to control this behavior.\n",
      "  _warn_prf(average, modifier, f\"{metric.capitalize()} is\", len(result))\n",
      "/Users/aliyilmaz/anaconda3/envs/pytorch_env/lib/python3.12/site-packages/sklearn/metrics/_classification.py:1509: UndefinedMetricWarning: Precision is ill-defined and being set to 0.0 in labels with no predicted samples. Use `zero_division` parameter to control this behavior.\n",
      "  _warn_prf(average, modifier, f\"{metric.capitalize()} is\", len(result))\n"
     ]
    },
    {
     "name": "stdout",
     "output_type": "stream",
     "text": [
      "epoch 11: trainloss 1.60, testloss 0.51 accuracy=0.77, kappa=0.70, f1_micro=0.77, f1_macro=0.54, f1_weighted=0.77, recall_micro=0.77, recall_macro=0.54, recall_weighted=0.77, precision_micro=0.77, precision_macro=0.55, precision_weighted=0.77\n"
     ]
    },
    {
     "name": "stderr",
     "output_type": "stream",
     "text": [
      "train loss=0.18: 100%|██████████| 15177/15177 [29:15<00:00,  8.65it/s]   \n",
      "test loss=1.66: 100%|██████████| 3066/3066 [01:43<00:00, 29.72it/s]\n",
      "/Users/aliyilmaz/anaconda3/envs/pytorch_env/lib/python3.12/site-packages/sklearn/metrics/_classification.py:1509: UndefinedMetricWarning: Precision is ill-defined and being set to 0.0 in labels with no predicted samples. Use `zero_division` parameter to control this behavior.\n",
      "  _warn_prf(average, modifier, f\"{metric.capitalize()} is\", len(result))\n",
      "/Users/aliyilmaz/anaconda3/envs/pytorch_env/lib/python3.12/site-packages/sklearn/metrics/_classification.py:1509: UndefinedMetricWarning: Precision is ill-defined and being set to 0.0 in labels with no predicted samples. Use `zero_division` parameter to control this behavior.\n",
      "  _warn_prf(average, modifier, f\"{metric.capitalize()} is\", len(result))\n"
     ]
    },
    {
     "name": "stdout",
     "output_type": "stream",
     "text": [
      "epoch 12: trainloss 1.59, testloss 0.50 accuracy=0.78, kappa=0.71, f1_micro=0.78, f1_macro=0.54, f1_weighted=0.77, recall_micro=0.78, recall_macro=0.54, recall_weighted=0.78, precision_micro=0.78, precision_macro=0.55, precision_weighted=0.77\n"
     ]
    },
    {
     "name": "stderr",
     "output_type": "stream",
     "text": [
      "train loss=1.34: 100%|██████████| 15177/15177 [16:20<00:00, 15.48it/s]\n",
      "test loss=1.69: 100%|██████████| 3066/3066 [01:42<00:00, 29.84it/s]\n",
      "/Users/aliyilmaz/anaconda3/envs/pytorch_env/lib/python3.12/site-packages/sklearn/metrics/_classification.py:1509: UndefinedMetricWarning: Precision is ill-defined and being set to 0.0 in labels with no predicted samples. Use `zero_division` parameter to control this behavior.\n",
      "  _warn_prf(average, modifier, f\"{metric.capitalize()} is\", len(result))\n",
      "/Users/aliyilmaz/anaconda3/envs/pytorch_env/lib/python3.12/site-packages/sklearn/metrics/_classification.py:1509: UndefinedMetricWarning: Precision is ill-defined and being set to 0.0 in labels with no predicted samples. Use `zero_division` parameter to control this behavior.\n",
      "  _warn_prf(average, modifier, f\"{metric.capitalize()} is\", len(result))\n"
     ]
    },
    {
     "name": "stdout",
     "output_type": "stream",
     "text": [
      "epoch 13: trainloss 1.73, testloss 0.82 accuracy=0.66, kappa=0.56, f1_micro=0.66, f1_macro=0.40, f1_weighted=0.65, recall_micro=0.66, recall_macro=0.39, recall_weighted=0.66, precision_micro=0.66, precision_macro=0.45, precision_weighted=0.67\n"
     ]
    },
    {
     "name": "stderr",
     "output_type": "stream",
     "text": [
      "train loss=0.33: 100%|██████████| 15177/15177 [16:48<00:00, 15.05it/s]\n",
      "test loss=1.75: 100%|██████████| 3066/3066 [01:53<00:00, 27.06it/s]\n"
     ]
    },
    {
     "name": "stdout",
     "output_type": "stream",
     "text": [
      "epoch 14: trainloss 1.67, testloss 0.57 accuracy=0.75, kappa=0.67, f1_micro=0.75, f1_macro=0.51, f1_weighted=0.72, recall_micro=0.75, recall_macro=0.52, recall_weighted=0.75, precision_micro=0.75, precision_macro=0.52, precision_weighted=0.74\n"
     ]
    },
    {
     "name": "stderr",
     "output_type": "stream",
     "text": [
      "/Users/aliyilmaz/anaconda3/envs/pytorch_env/lib/python3.12/site-packages/sklearn/metrics/_classification.py:1509: UndefinedMetricWarning: Precision is ill-defined and being set to 0.0 in labels with no predicted samples. Use `zero_division` parameter to control this behavior.\n",
      "  _warn_prf(average, modifier, f\"{metric.capitalize()} is\", len(result))\n",
      "/Users/aliyilmaz/anaconda3/envs/pytorch_env/lib/python3.12/site-packages/sklearn/metrics/_classification.py:1509: UndefinedMetricWarning: Precision is ill-defined and being set to 0.0 in labels with no predicted samples. Use `zero_division` parameter to control this behavior.\n",
      "  _warn_prf(average, modifier, f\"{metric.capitalize()} is\", len(result))\n"
     ]
    }
   ],
   "source": [
    "device = \"mps\" if torch.backends.mps.is_available() else \"cpu\"\n",
    "model = LSTM_DANN(input_size=13, hidden_size=64, num_layers=2, output_size=9, bidirectional=False, dropout=0.2, c_norm=True, num_domains=3).to(device)\n",
    "train_dataloader, test_dataloader, meta = get_dataloader123(batchsize=32, num_workers=0, X=0.8, upperPerformance=False)\n",
    "criterion_label = torch.nn.CrossEntropyLoss(reduction=\"mean\")\n",
    "criterion_domain = torch.nn.CrossEntropyLoss(reduction=\"mean\")\n",
    "optimizer = Adam(model.parameters(), 0.001, weight_decay=1e-6)\n",
    "log = list()\n",
    "n_epoch = 15\n",
    "for epoch in range(n_epoch):\n",
    "    \"\"\"if epoch < 2:\n",
    "    alpha = 0.0\n",
    "else:\n",
    "    p = float(epoch-2) / (n_epoch-2) \n",
    "    #alpha = (2. / (1. + np.exp(-5 * p)) - 1) * 0.4 + 0.1\n",
    "    alpha = 0.1 + 0.4 * p\"\"\"\n",
    "    p = float(epoch) / n_epoch\n",
    "    alpha = (2. / (1. + np.exp(-10 * p)) - 1)\n",
    "    train_loss, label_loss, domain_loss = train_epoch(model, optimizer, criterion_label, criterion_domain, train_dataloader, device, alpha=alpha)\n",
    "    test_loss, y_true, y_pred, *_ = test_epoch(model, criterion_label, test_dataloader, device)\n",
    "    scores1 = metrics(y_true.cpu(), y_pred.cpu())\n",
    "    scores_msg = \", \".join([f\"{k}={v:.2f}\" for (k, v) in scores1.items()])\n",
    "    test_loss = test_loss.cpu().detach().numpy().mean()\n",
    "    train_loss = train_loss.cpu().detach().numpy().mean()\n",
    "    print(f\"epoch {epoch}: trainloss {train_loss:.2f}, testloss {test_loss:.2f} \" + scores_msg)\n",
    "\n",
    "    scores1[\"epoch\"] = epoch\n",
    "    scores1[\"trainloss\"] = train_loss\n",
    "    scores1[\"testloss\"] = test_loss\n",
    "    scores1[\"labelloss\"] = label_loss.cpu().detach().numpy().mean()\n",
    "    scores1[\"domainloss\"] = domain_loss.cpu().detach().numpy().mean()\n",
    "    log.append(scores1)\n",
    "\n",
    "    log_df = pd.DataFrame(log).set_index(\"epoch\")\n",
    "    log_df.to_csv(\"DANN123.csv\")"
   ]
  },
  {
   "cell_type": "code",
   "execution_count": 16,
   "metadata": {},
   "outputs": [
    {
     "name": "stderr",
     "output_type": "stream",
     "text": [
      "train loss=0.32: 100%|██████████| 13809/13809 [14:03<00:00, 16.37it/s]\n",
      "test loss=1.19: 100%|██████████| 4160/4160 [03:35<00:00, 19.35it/s]\n",
      "/Users/aliyilmaz/anaconda3/envs/pytorch_env/lib/python3.12/site-packages/sklearn/metrics/_classification.py:1509: UndefinedMetricWarning: Precision is ill-defined and being set to 0.0 in labels with no predicted samples. Use `zero_division` parameter to control this behavior.\n",
      "  _warn_prf(average, modifier, f\"{metric.capitalize()} is\", len(result))\n",
      "/Users/aliyilmaz/anaconda3/envs/pytorch_env/lib/python3.12/site-packages/sklearn/metrics/_classification.py:1509: UndefinedMetricWarning: Precision is ill-defined and being set to 0.0 in labels with no predicted samples. Use `zero_division` parameter to control this behavior.\n",
      "  _warn_prf(average, modifier, f\"{metric.capitalize()} is\", len(result))\n"
     ]
    },
    {
     "name": "stdout",
     "output_type": "stream",
     "text": [
      "epoch 0: trainloss 0.72, testloss 0.60 accuracy=0.74, kappa=0.66, f1_micro=0.74, f1_macro=0.49, f1_weighted=0.73, recall_micro=0.74, recall_macro=0.49, recall_weighted=0.74, precision_micro=0.74, precision_macro=0.50, precision_weighted=0.73\n"
     ]
    },
    {
     "name": "stderr",
     "output_type": "stream",
     "text": [
      "train loss=0.62: 100%|██████████| 13809/13809 [14:08<00:00, 16.28it/s]\n",
      "test loss=1.99: 100%|██████████| 4160/4160 [03:34<00:00, 19.39it/s]\n",
      "/Users/aliyilmaz/anaconda3/envs/pytorch_env/lib/python3.12/site-packages/sklearn/metrics/_classification.py:1509: UndefinedMetricWarning: Precision is ill-defined and being set to 0.0 in labels with no predicted samples. Use `zero_division` parameter to control this behavior.\n",
      "  _warn_prf(average, modifier, f\"{metric.capitalize()} is\", len(result))\n",
      "/Users/aliyilmaz/anaconda3/envs/pytorch_env/lib/python3.12/site-packages/sklearn/metrics/_classification.py:1509: UndefinedMetricWarning: Precision is ill-defined and being set to 0.0 in labels with no predicted samples. Use `zero_division` parameter to control this behavior.\n",
      "  _warn_prf(average, modifier, f\"{metric.capitalize()} is\", len(result))\n"
     ]
    },
    {
     "name": "stdout",
     "output_type": "stream",
     "text": [
      "epoch 1: trainloss 1.63, testloss 0.62 accuracy=0.74, kappa=0.66, f1_micro=0.74, f1_macro=0.48, f1_weighted=0.71, recall_micro=0.74, recall_macro=0.52, recall_weighted=0.74, precision_micro=0.74, precision_macro=0.48, precision_weighted=0.73\n"
     ]
    },
    {
     "name": "stderr",
     "output_type": "stream",
     "text": [
      "train loss=0.39: 100%|██████████| 13809/13809 [14:11<00:00, 16.22it/s]\n",
      "test loss=0.89: 100%|██████████| 4160/4160 [03:37<00:00, 19.14it/s]\n",
      "/Users/aliyilmaz/anaconda3/envs/pytorch_env/lib/python3.12/site-packages/sklearn/metrics/_classification.py:1509: UndefinedMetricWarning: Precision is ill-defined and being set to 0.0 in labels with no predicted samples. Use `zero_division` parameter to control this behavior.\n",
      "  _warn_prf(average, modifier, f\"{metric.capitalize()} is\", len(result))\n",
      "/Users/aliyilmaz/anaconda3/envs/pytorch_env/lib/python3.12/site-packages/sklearn/metrics/_classification.py:1509: UndefinedMetricWarning: Precision is ill-defined and being set to 0.0 in labels with no predicted samples. Use `zero_division` parameter to control this behavior.\n",
      "  _warn_prf(average, modifier, f\"{metric.capitalize()} is\", len(result))\n"
     ]
    },
    {
     "name": "stdout",
     "output_type": "stream",
     "text": [
      "epoch 2: trainloss 1.61, testloss 0.57 accuracy=0.75, kappa=0.68, f1_micro=0.75, f1_macro=0.52, f1_weighted=0.75, recall_micro=0.75, recall_macro=0.53, recall_weighted=0.75, precision_micro=0.75, precision_macro=0.51, precision_weighted=0.75\n"
     ]
    },
    {
     "name": "stderr",
     "output_type": "stream",
     "text": [
      "train loss=0.87: 100%|██████████| 13809/13809 [14:09<00:00, 16.26it/s]\n",
      "test loss=1.07: 100%|██████████| 4160/4160 [03:38<00:00, 19.01it/s]\n",
      "/Users/aliyilmaz/anaconda3/envs/pytorch_env/lib/python3.12/site-packages/sklearn/metrics/_classification.py:1509: UndefinedMetricWarning: Precision is ill-defined and being set to 0.0 in labels with no predicted samples. Use `zero_division` parameter to control this behavior.\n",
      "  _warn_prf(average, modifier, f\"{metric.capitalize()} is\", len(result))\n",
      "/Users/aliyilmaz/anaconda3/envs/pytorch_env/lib/python3.12/site-packages/sklearn/metrics/_classification.py:1509: UndefinedMetricWarning: Precision is ill-defined and being set to 0.0 in labels with no predicted samples. Use `zero_division` parameter to control this behavior.\n",
      "  _warn_prf(average, modifier, f\"{metric.capitalize()} is\", len(result))\n"
     ]
    },
    {
     "name": "stdout",
     "output_type": "stream",
     "text": [
      "epoch 3: trainloss 1.63, testloss 0.60 accuracy=0.73, kappa=0.65, f1_micro=0.73, f1_macro=0.51, f1_weighted=0.73, recall_micro=0.73, recall_macro=0.52, recall_weighted=0.73, precision_micro=0.73, precision_macro=0.50, precision_weighted=0.74\n"
     ]
    },
    {
     "name": "stderr",
     "output_type": "stream",
     "text": [
      "train loss=0.35: 100%|██████████| 13809/13809 [14:08<00:00, 16.28it/s]\n",
      "test loss=0.99: 100%|██████████| 4160/4160 [03:35<00:00, 19.27it/s]\n",
      "/Users/aliyilmaz/anaconda3/envs/pytorch_env/lib/python3.12/site-packages/sklearn/metrics/_classification.py:1509: UndefinedMetricWarning: Precision is ill-defined and being set to 0.0 in labels with no predicted samples. Use `zero_division` parameter to control this behavior.\n",
      "  _warn_prf(average, modifier, f\"{metric.capitalize()} is\", len(result))\n",
      "/Users/aliyilmaz/anaconda3/envs/pytorch_env/lib/python3.12/site-packages/sklearn/metrics/_classification.py:1509: UndefinedMetricWarning: Precision is ill-defined and being set to 0.0 in labels with no predicted samples. Use `zero_division` parameter to control this behavior.\n",
      "  _warn_prf(average, modifier, f\"{metric.capitalize()} is\", len(result))\n"
     ]
    },
    {
     "name": "stdout",
     "output_type": "stream",
     "text": [
      "epoch 4: trainloss 1.61, testloss 0.57 accuracy=0.75, kappa=0.68, f1_micro=0.75, f1_macro=0.51, f1_weighted=0.74, recall_micro=0.75, recall_macro=0.53, recall_weighted=0.75, precision_micro=0.75, precision_macro=0.51, precision_weighted=0.74\n"
     ]
    },
    {
     "name": "stderr",
     "output_type": "stream",
     "text": [
      "train loss=0.30: 100%|██████████| 13809/13809 [14:06<00:00, 16.31it/s]\n",
      "test loss=1.12: 100%|██████████| 4160/4160 [03:37<00:00, 19.11it/s]\n",
      "/Users/aliyilmaz/anaconda3/envs/pytorch_env/lib/python3.12/site-packages/sklearn/metrics/_classification.py:1509: UndefinedMetricWarning: Precision is ill-defined and being set to 0.0 in labels with no predicted samples. Use `zero_division` parameter to control this behavior.\n",
      "  _warn_prf(average, modifier, f\"{metric.capitalize()} is\", len(result))\n",
      "/Users/aliyilmaz/anaconda3/envs/pytorch_env/lib/python3.12/site-packages/sklearn/metrics/_classification.py:1509: UndefinedMetricWarning: Precision is ill-defined and being set to 0.0 in labels with no predicted samples. Use `zero_division` parameter to control this behavior.\n",
      "  _warn_prf(average, modifier, f\"{metric.capitalize()} is\", len(result))\n"
     ]
    },
    {
     "name": "stdout",
     "output_type": "stream",
     "text": [
      "epoch 5: trainloss 1.59, testloss 0.56 accuracy=0.76, kappa=0.68, f1_micro=0.76, f1_macro=0.52, f1_weighted=0.75, recall_micro=0.76, recall_macro=0.54, recall_weighted=0.76, precision_micro=0.76, precision_macro=0.51, precision_weighted=0.75\n"
     ]
    },
    {
     "name": "stderr",
     "output_type": "stream",
     "text": [
      "train loss=0.39: 100%|██████████| 13809/13809 [14:11<00:00, 16.22it/s]\n",
      "test loss=1.16: 100%|██████████| 4160/4160 [03:37<00:00, 19.12it/s]\n",
      "/Users/aliyilmaz/anaconda3/envs/pytorch_env/lib/python3.12/site-packages/sklearn/metrics/_classification.py:1509: UndefinedMetricWarning: Precision is ill-defined and being set to 0.0 in labels with no predicted samples. Use `zero_division` parameter to control this behavior.\n",
      "  _warn_prf(average, modifier, f\"{metric.capitalize()} is\", len(result))\n",
      "/Users/aliyilmaz/anaconda3/envs/pytorch_env/lib/python3.12/site-packages/sklearn/metrics/_classification.py:1509: UndefinedMetricWarning: Precision is ill-defined and being set to 0.0 in labels with no predicted samples. Use `zero_division` parameter to control this behavior.\n",
      "  _warn_prf(average, modifier, f\"{metric.capitalize()} is\", len(result))\n"
     ]
    },
    {
     "name": "stdout",
     "output_type": "stream",
     "text": [
      "epoch 6: trainloss 1.59, testloss 0.53 accuracy=0.76, kappa=0.69, f1_micro=0.76, f1_macro=0.53, f1_weighted=0.76, recall_micro=0.76, recall_macro=0.54, recall_weighted=0.76, precision_micro=0.76, precision_macro=0.53, precision_weighted=0.76\n"
     ]
    },
    {
     "name": "stderr",
     "output_type": "stream",
     "text": [
      "train loss=0.49: 100%|██████████| 13809/13809 [14:08<00:00, 16.27it/s]\n",
      "test loss=1.29: 100%|██████████| 4160/4160 [03:42<00:00, 18.68it/s]\n",
      "/Users/aliyilmaz/anaconda3/envs/pytorch_env/lib/python3.12/site-packages/sklearn/metrics/_classification.py:1509: UndefinedMetricWarning: Precision is ill-defined and being set to 0.0 in labels with no predicted samples. Use `zero_division` parameter to control this behavior.\n",
      "  _warn_prf(average, modifier, f\"{metric.capitalize()} is\", len(result))\n",
      "/Users/aliyilmaz/anaconda3/envs/pytorch_env/lib/python3.12/site-packages/sklearn/metrics/_classification.py:1509: UndefinedMetricWarning: Precision is ill-defined and being set to 0.0 in labels with no predicted samples. Use `zero_division` parameter to control this behavior.\n",
      "  _warn_prf(average, modifier, f\"{metric.capitalize()} is\", len(result))\n"
     ]
    },
    {
     "name": "stdout",
     "output_type": "stream",
     "text": [
      "epoch 7: trainloss 1.79, testloss 0.64 accuracy=0.71, kappa=0.64, f1_micro=0.71, f1_macro=0.50, f1_weighted=0.72, recall_micro=0.71, recall_macro=0.52, recall_weighted=0.71, precision_micro=0.71, precision_macro=0.49, precision_weighted=0.74\n"
     ]
    },
    {
     "name": "stderr",
     "output_type": "stream",
     "text": [
      "train loss=0.39: 100%|██████████| 13809/13809 [14:07<00:00, 16.29it/s]\n",
      "test loss=0.98: 100%|██████████| 4160/4160 [03:36<00:00, 19.24it/s]\n",
      "/Users/aliyilmaz/anaconda3/envs/pytorch_env/lib/python3.12/site-packages/sklearn/metrics/_classification.py:1509: UndefinedMetricWarning: Precision is ill-defined and being set to 0.0 in labels with no predicted samples. Use `zero_division` parameter to control this behavior.\n",
      "  _warn_prf(average, modifier, f\"{metric.capitalize()} is\", len(result))\n",
      "/Users/aliyilmaz/anaconda3/envs/pytorch_env/lib/python3.12/site-packages/sklearn/metrics/_classification.py:1509: UndefinedMetricWarning: Precision is ill-defined and being set to 0.0 in labels with no predicted samples. Use `zero_division` parameter to control this behavior.\n",
      "  _warn_prf(average, modifier, f\"{metric.capitalize()} is\", len(result))\n"
     ]
    },
    {
     "name": "stdout",
     "output_type": "stream",
     "text": [
      "epoch 8: trainloss 1.65, testloss 0.60 accuracy=0.75, kappa=0.67, f1_micro=0.75, f1_macro=0.50, f1_weighted=0.73, recall_micro=0.75, recall_macro=0.53, recall_weighted=0.75, precision_micro=0.75, precision_macro=0.51, precision_weighted=0.74\n"
     ]
    },
    {
     "name": "stderr",
     "output_type": "stream",
     "text": [
      "train loss=0.31: 100%|██████████| 13809/13809 [14:11<00:00, 16.21it/s]\n",
      "test loss=1.09: 100%|██████████| 4160/4160 [03:36<00:00, 19.24it/s]\n",
      "/Users/aliyilmaz/anaconda3/envs/pytorch_env/lib/python3.12/site-packages/sklearn/metrics/_classification.py:1509: UndefinedMetricWarning: Precision is ill-defined and being set to 0.0 in labels with no predicted samples. Use `zero_division` parameter to control this behavior.\n",
      "  _warn_prf(average, modifier, f\"{metric.capitalize()} is\", len(result))\n",
      "/Users/aliyilmaz/anaconda3/envs/pytorch_env/lib/python3.12/site-packages/sklearn/metrics/_classification.py:1509: UndefinedMetricWarning: Precision is ill-defined and being set to 0.0 in labels with no predicted samples. Use `zero_division` parameter to control this behavior.\n",
      "  _warn_prf(average, modifier, f\"{metric.capitalize()} is\", len(result))\n"
     ]
    },
    {
     "name": "stdout",
     "output_type": "stream",
     "text": [
      "epoch 9: trainloss 1.58, testloss 0.54 accuracy=0.77, kappa=0.69, f1_micro=0.77, f1_macro=0.52, f1_weighted=0.75, recall_micro=0.77, recall_macro=0.53, recall_weighted=0.77, precision_micro=0.77, precision_macro=0.52, precision_weighted=0.75\n"
     ]
    },
    {
     "name": "stderr",
     "output_type": "stream",
     "text": [
      "train loss=0.34: 100%|██████████| 13809/13809 [14:10<00:00, 16.23it/s]\n",
      "test loss=1.26: 100%|██████████| 4160/4160 [03:38<00:00, 19.02it/s]\n",
      "/Users/aliyilmaz/anaconda3/envs/pytorch_env/lib/python3.12/site-packages/sklearn/metrics/_classification.py:1509: UndefinedMetricWarning: Precision is ill-defined and being set to 0.0 in labels with no predicted samples. Use `zero_division` parameter to control this behavior.\n",
      "  _warn_prf(average, modifier, f\"{metric.capitalize()} is\", len(result))\n",
      "/Users/aliyilmaz/anaconda3/envs/pytorch_env/lib/python3.12/site-packages/sklearn/metrics/_classification.py:1509: UndefinedMetricWarning: Precision is ill-defined and being set to 0.0 in labels with no predicted samples. Use `zero_division` parameter to control this behavior.\n",
      "  _warn_prf(average, modifier, f\"{metric.capitalize()} is\", len(result))\n"
     ]
    },
    {
     "name": "stdout",
     "output_type": "stream",
     "text": [
      "epoch 10: trainloss 1.58, testloss 0.58 accuracy=0.75, kappa=0.68, f1_micro=0.75, f1_macro=0.51, f1_weighted=0.73, recall_micro=0.75, recall_macro=0.52, recall_weighted=0.75, precision_micro=0.75, precision_macro=0.52, precision_weighted=0.73\n"
     ]
    },
    {
     "name": "stderr",
     "output_type": "stream",
     "text": [
      "train loss=0.24: 100%|██████████| 13809/13809 [14:13<00:00, 16.18it/s]\n",
      "test loss=1.02: 100%|██████████| 4160/4160 [03:37<00:00, 19.12it/s]\n",
      "/Users/aliyilmaz/anaconda3/envs/pytorch_env/lib/python3.12/site-packages/sklearn/metrics/_classification.py:1509: UndefinedMetricWarning: Precision is ill-defined and being set to 0.0 in labels with no predicted samples. Use `zero_division` parameter to control this behavior.\n",
      "  _warn_prf(average, modifier, f\"{metric.capitalize()} is\", len(result))\n",
      "/Users/aliyilmaz/anaconda3/envs/pytorch_env/lib/python3.12/site-packages/sklearn/metrics/_classification.py:1509: UndefinedMetricWarning: Precision is ill-defined and being set to 0.0 in labels with no predicted samples. Use `zero_division` parameter to control this behavior.\n",
      "  _warn_prf(average, modifier, f\"{metric.capitalize()} is\", len(result))\n"
     ]
    },
    {
     "name": "stdout",
     "output_type": "stream",
     "text": [
      "epoch 11: trainloss 1.88, testloss 0.67 accuracy=0.70, kappa=0.62, f1_micro=0.70, f1_macro=0.48, f1_weighted=0.70, recall_micro=0.70, recall_macro=0.50, recall_weighted=0.70, precision_micro=0.70, precision_macro=0.49, precision_weighted=0.73\n"
     ]
    },
    {
     "name": "stderr",
     "output_type": "stream",
     "text": [
      "train loss=0.47: 100%|██████████| 13809/13809 [14:09<00:00, 16.25it/s]\n",
      "test loss=1.13: 100%|██████████| 4160/4160 [03:36<00:00, 19.19it/s]\n",
      "/Users/aliyilmaz/anaconda3/envs/pytorch_env/lib/python3.12/site-packages/sklearn/metrics/_classification.py:1509: UndefinedMetricWarning: Precision is ill-defined and being set to 0.0 in labels with no predicted samples. Use `zero_division` parameter to control this behavior.\n",
      "  _warn_prf(average, modifier, f\"{metric.capitalize()} is\", len(result))\n",
      "/Users/aliyilmaz/anaconda3/envs/pytorch_env/lib/python3.12/site-packages/sklearn/metrics/_classification.py:1509: UndefinedMetricWarning: Precision is ill-defined and being set to 0.0 in labels with no predicted samples. Use `zero_division` parameter to control this behavior.\n",
      "  _warn_prf(average, modifier, f\"{metric.capitalize()} is\", len(result))\n"
     ]
    },
    {
     "name": "stdout",
     "output_type": "stream",
     "text": [
      "epoch 12: trainloss 1.64, testloss 0.60 accuracy=0.75, kappa=0.66, f1_micro=0.75, f1_macro=0.49, f1_weighted=0.72, recall_micro=0.75, recall_macro=0.52, recall_weighted=0.75, precision_micro=0.75, precision_macro=0.49, precision_weighted=0.74\n"
     ]
    },
    {
     "name": "stderr",
     "output_type": "stream",
     "text": [
      "train loss=0.93: 100%|██████████| 13809/13809 [14:11<00:00, 16.22it/s]\n",
      "test loss=1.50: 100%|██████████| 4160/4160 [03:35<00:00, 19.26it/s]\n",
      "/Users/aliyilmaz/anaconda3/envs/pytorch_env/lib/python3.12/site-packages/sklearn/metrics/_classification.py:1509: UndefinedMetricWarning: Precision is ill-defined and being set to 0.0 in labels with no predicted samples. Use `zero_division` parameter to control this behavior.\n",
      "  _warn_prf(average, modifier, f\"{metric.capitalize()} is\", len(result))\n",
      "/Users/aliyilmaz/anaconda3/envs/pytorch_env/lib/python3.12/site-packages/sklearn/metrics/_classification.py:1509: UndefinedMetricWarning: Precision is ill-defined and being set to 0.0 in labels with no predicted samples. Use `zero_division` parameter to control this behavior.\n",
      "  _warn_prf(average, modifier, f\"{metric.capitalize()} is\", len(result))\n"
     ]
    },
    {
     "name": "stdout",
     "output_type": "stream",
     "text": [
      "epoch 13: trainloss 1.78, testloss 0.87 accuracy=0.67, kappa=0.56, f1_micro=0.67, f1_macro=0.42, f1_weighted=0.65, recall_micro=0.67, recall_macro=0.44, recall_weighted=0.67, precision_micro=0.67, precision_macro=0.42, precision_weighted=0.65\n"
     ]
    },
    {
     "name": "stderr",
     "output_type": "stream",
     "text": [
      "train loss=0.44: 100%|██████████| 13809/13809 [14:14<00:00, 16.16it/s]\n",
      "test loss=1.05: 100%|██████████| 4160/4160 [03:40<00:00, 18.89it/s]\n"
     ]
    },
    {
     "name": "stdout",
     "output_type": "stream",
     "text": [
      "epoch 14: trainloss 1.74, testloss 0.65 accuracy=0.73, kappa=0.63, f1_micro=0.73, f1_macro=0.48, f1_weighted=0.69, recall_micro=0.73, recall_macro=0.48, recall_weighted=0.73, precision_micro=0.73, precision_macro=0.49, precision_weighted=0.71\n"
     ]
    },
    {
     "name": "stderr",
     "output_type": "stream",
     "text": [
      "/Users/aliyilmaz/anaconda3/envs/pytorch_env/lib/python3.12/site-packages/sklearn/metrics/_classification.py:1509: UndefinedMetricWarning: Precision is ill-defined and being set to 0.0 in labels with no predicted samples. Use `zero_division` parameter to control this behavior.\n",
      "  _warn_prf(average, modifier, f\"{metric.capitalize()} is\", len(result))\n",
      "/Users/aliyilmaz/anaconda3/envs/pytorch_env/lib/python3.12/site-packages/sklearn/metrics/_classification.py:1509: UndefinedMetricWarning: Precision is ill-defined and being set to 0.0 in labels with no predicted samples. Use `zero_division` parameter to control this behavior.\n",
      "  _warn_prf(average, modifier, f\"{metric.capitalize()} is\", len(result))\n"
     ]
    }
   ],
   "source": [
    "device = \"mps\" if torch.backends.mps.is_available() else \"cpu\"\n",
    "model = LSTM_DANN(input_size=13, hidden_size=64, num_layers=2, output_size=9, bidirectional=False, dropout=0.2, c_norm=True, num_domains=3).to(device)\n",
    "train_dataloader, test_dataloader, meta = get_dataloader124(batchsize=32, num_workers=0, X=0.8, upperPerformance=False)\n",
    "criterion_label = torch.nn.CrossEntropyLoss(reduction=\"mean\")\n",
    "criterion_domain = torch.nn.CrossEntropyLoss(reduction=\"mean\")\n",
    "optimizer = Adam(model.parameters(), 0.001, weight_decay=1e-6)\n",
    "log = list()\n",
    "n_epoch = 10\n",
    "for epoch in range(n_epoch):\n",
    "    \"\"\"if epoch < 2:\n",
    "        alpha = 0.0\n",
    "    else:\n",
    "        p = float(epoch-2) / (n_epoch-2) \n",
    "        #alpha = (2. / (1. + np.exp(-5 * p)) - 1) * 0.4 + 0.1\n",
    "        alpha = 0.1 + 0.4 * p\"\"\"\n",
    "    p = float(epoch) / n_epoch\n",
    "    alpha = (2. / (1. + np.exp(-10 * p)) - 1)\n",
    "    train_loss, label_loss, domain_loss = train_epoch(model, optimizer, criterion_label, criterion_domain, train_dataloader, device, alpha=alpha)\n",
    "    test_loss, y_true, y_pred, *_ = test_epoch(model, criterion_label, test_dataloader, device)\n",
    "    scores1 = metrics(y_true.cpu(), y_pred.cpu())\n",
    "    scores_msg = \", \".join([f\"{k}={v:.2f}\" for (k, v) in scores1.items()])\n",
    "    test_loss = test_loss.cpu().detach().numpy().mean()\n",
    "    train_loss = train_loss.cpu().detach().numpy().mean()\n",
    "    print(f\"epoch {epoch}: trainloss {train_loss:.2f}, testloss {test_loss:.2f} \" + scores_msg)\n",
    "\n",
    "    scores1[\"epoch\"] = epoch\n",
    "    scores1[\"trainloss\"] = train_loss\n",
    "    scores1[\"testloss\"] = test_loss\n",
    "    scores1[\"labelloss\"] = label_loss.cpu().detach().numpy().mean()\n",
    "    scores1[\"domainloss\"] = domain_loss.cpu().detach().numpy().mean()\n",
    "    log.append(scores1)\n",
    "\n",
    "    log_df = pd.DataFrame(log).set_index(\"epoch\")\n",
    "    log_df.to_csv(\"DANN124.csv\")"
   ]
  },
  {
   "cell_type": "code",
   "execution_count": 17,
   "metadata": {},
   "outputs": [
    {
     "name": "stderr",
     "output_type": "stream",
     "text": [
      "  0%|          | 0/14614 [00:00<?, ?it/s]"
     ]
    },
    {
     "name": "stderr",
     "output_type": "stream",
     "text": [
      "train loss=0.83: 100%|██████████| 14614/14614 [15:00<00:00, 16.22it/s]\n",
      "test loss=0.83: 100%|██████████| 3517/3517 [03:03<00:00, 19.14it/s]\n",
      "/Users/aliyilmaz/anaconda3/envs/pytorch_env/lib/python3.12/site-packages/sklearn/metrics/_classification.py:1509: UndefinedMetricWarning: Precision is ill-defined and being set to 0.0 in labels with no predicted samples. Use `zero_division` parameter to control this behavior.\n",
      "  _warn_prf(average, modifier, f\"{metric.capitalize()} is\", len(result))\n",
      "/Users/aliyilmaz/anaconda3/envs/pytorch_env/lib/python3.12/site-packages/sklearn/metrics/_classification.py:1509: UndefinedMetricWarning: Precision is ill-defined and being set to 0.0 in labels with no predicted samples. Use `zero_division` parameter to control this behavior.\n",
      "  _warn_prf(average, modifier, f\"{metric.capitalize()} is\", len(result))\n"
     ]
    },
    {
     "name": "stdout",
     "output_type": "stream",
     "text": [
      "epoch 0: trainloss 2.43, testloss 0.72 accuracy=0.67, kappa=0.56, f1_micro=0.67, f1_macro=0.44, f1_weighted=0.63, recall_micro=0.67, recall_macro=0.44, recall_weighted=0.67, precision_micro=0.67, precision_macro=0.50, precision_weighted=0.72\n"
     ]
    },
    {
     "name": "stderr",
     "output_type": "stream",
     "text": [
      "train loss=0.56: 100%|██████████| 14614/14614 [14:59<00:00, 16.24it/s]\n",
      "test loss=0.50: 100%|██████████| 3517/3517 [03:05<00:00, 18.96it/s]\n",
      "/Users/aliyilmaz/anaconda3/envs/pytorch_env/lib/python3.12/site-packages/sklearn/metrics/_classification.py:1509: UndefinedMetricWarning: Precision is ill-defined and being set to 0.0 in labels with no predicted samples. Use `zero_division` parameter to control this behavior.\n",
      "  _warn_prf(average, modifier, f\"{metric.capitalize()} is\", len(result))\n",
      "/Users/aliyilmaz/anaconda3/envs/pytorch_env/lib/python3.12/site-packages/sklearn/metrics/_classification.py:1509: UndefinedMetricWarning: Precision is ill-defined and being set to 0.0 in labels with no predicted samples. Use `zero_division` parameter to control this behavior.\n",
      "  _warn_prf(average, modifier, f\"{metric.capitalize()} is\", len(result))\n"
     ]
    },
    {
     "name": "stdout",
     "output_type": "stream",
     "text": [
      "epoch 1: trainloss 1.71, testloss 0.63 accuracy=0.72, kappa=0.63, f1_micro=0.72, f1_macro=0.50, f1_weighted=0.71, recall_micro=0.72, recall_macro=0.49, recall_weighted=0.72, precision_micro=0.72, precision_macro=0.55, precision_weighted=0.76\n"
     ]
    },
    {
     "name": "stderr",
     "output_type": "stream",
     "text": [
      "train loss=0.00: 100%|██████████| 14614/14614 [14:50<00:00, 16.41it/s]\n",
      "test loss=0.51: 100%|██████████| 3517/3517 [03:06<00:00, 18.88it/s]\n",
      "/Users/aliyilmaz/anaconda3/envs/pytorch_env/lib/python3.12/site-packages/sklearn/metrics/_classification.py:1509: UndefinedMetricWarning: Precision is ill-defined and being set to 0.0 in labels with no predicted samples. Use `zero_division` parameter to control this behavior.\n",
      "  _warn_prf(average, modifier, f\"{metric.capitalize()} is\", len(result))\n",
      "/Users/aliyilmaz/anaconda3/envs/pytorch_env/lib/python3.12/site-packages/sklearn/metrics/_classification.py:1509: UndefinedMetricWarning: Precision is ill-defined and being set to 0.0 in labels with no predicted samples. Use `zero_division` parameter to control this behavior.\n",
      "  _warn_prf(average, modifier, f\"{metric.capitalize()} is\", len(result))\n"
     ]
    },
    {
     "name": "stdout",
     "output_type": "stream",
     "text": [
      "epoch 2: trainloss 1.54, testloss 0.58 accuracy=0.75, kappa=0.67, f1_micro=0.75, f1_macro=0.51, f1_weighted=0.74, recall_micro=0.75, recall_macro=0.50, recall_weighted=0.75, precision_micro=0.75, precision_macro=0.55, precision_weighted=0.75\n"
     ]
    },
    {
     "name": "stderr",
     "output_type": "stream",
     "text": [
      "train loss=0.05: 100%|██████████| 14614/14614 [14:59<00:00, 16.25it/s]\n",
      "test loss=0.59: 100%|██████████| 3517/3517 [03:06<00:00, 18.90it/s]\n",
      "/Users/aliyilmaz/anaconda3/envs/pytorch_env/lib/python3.12/site-packages/sklearn/metrics/_classification.py:1509: UndefinedMetricWarning: Precision is ill-defined and being set to 0.0 in labels with no predicted samples. Use `zero_division` parameter to control this behavior.\n",
      "  _warn_prf(average, modifier, f\"{metric.capitalize()} is\", len(result))\n",
      "/Users/aliyilmaz/anaconda3/envs/pytorch_env/lib/python3.12/site-packages/sklearn/metrics/_classification.py:1509: UndefinedMetricWarning: Precision is ill-defined and being set to 0.0 in labels with no predicted samples. Use `zero_division` parameter to control this behavior.\n",
      "  _warn_prf(average, modifier, f\"{metric.capitalize()} is\", len(result))\n"
     ]
    },
    {
     "name": "stdout",
     "output_type": "stream",
     "text": [
      "epoch 3: trainloss 1.71, testloss 0.52 accuracy=0.76, kappa=0.68, f1_micro=0.76, f1_macro=0.53, f1_weighted=0.74, recall_micro=0.76, recall_macro=0.53, recall_weighted=0.76, precision_micro=0.76, precision_macro=0.57, precision_weighted=0.79\n"
     ]
    },
    {
     "name": "stderr",
     "output_type": "stream",
     "text": [
      "train loss=0.51: 100%|██████████| 14614/14614 [14:58<00:00, 16.26it/s]\n",
      "test loss=0.56: 100%|██████████| 3517/3517 [03:06<00:00, 18.86it/s]\n",
      "/Users/aliyilmaz/anaconda3/envs/pytorch_env/lib/python3.12/site-packages/sklearn/metrics/_classification.py:1509: UndefinedMetricWarning: Precision is ill-defined and being set to 0.0 in labels with no predicted samples. Use `zero_division` parameter to control this behavior.\n",
      "  _warn_prf(average, modifier, f\"{metric.capitalize()} is\", len(result))\n",
      "/Users/aliyilmaz/anaconda3/envs/pytorch_env/lib/python3.12/site-packages/sklearn/metrics/_classification.py:1509: UndefinedMetricWarning: Precision is ill-defined and being set to 0.0 in labels with no predicted samples. Use `zero_division` parameter to control this behavior.\n",
      "  _warn_prf(average, modifier, f\"{metric.capitalize()} is\", len(result))\n"
     ]
    },
    {
     "name": "stdout",
     "output_type": "stream",
     "text": [
      "epoch 4: trainloss 2.06, testloss 0.54 accuracy=0.74, kappa=0.67, f1_micro=0.74, f1_macro=0.52, f1_weighted=0.72, recall_micro=0.74, recall_macro=0.52, recall_weighted=0.74, precision_micro=0.74, precision_macro=0.56, precision_weighted=0.78\n"
     ]
    },
    {
     "name": "stderr",
     "output_type": "stream",
     "text": [
      "train loss=0.19: 100%|██████████| 14614/14614 [14:57<00:00, 16.29it/s]\n",
      "test loss=0.68: 100%|██████████| 3517/3517 [03:09<00:00, 18.53it/s]\n",
      "/Users/aliyilmaz/anaconda3/envs/pytorch_env/lib/python3.12/site-packages/sklearn/metrics/_classification.py:1509: UndefinedMetricWarning: Precision is ill-defined and being set to 0.0 in labels with no predicted samples. Use `zero_division` parameter to control this behavior.\n",
      "  _warn_prf(average, modifier, f\"{metric.capitalize()} is\", len(result))\n",
      "/Users/aliyilmaz/anaconda3/envs/pytorch_env/lib/python3.12/site-packages/sklearn/metrics/_classification.py:1509: UndefinedMetricWarning: Precision is ill-defined and being set to 0.0 in labels with no predicted samples. Use `zero_division` parameter to control this behavior.\n",
      "  _warn_prf(average, modifier, f\"{metric.capitalize()} is\", len(result))\n"
     ]
    },
    {
     "name": "stdout",
     "output_type": "stream",
     "text": [
      "epoch 5: trainloss 1.45, testloss 0.52 accuracy=0.76, kappa=0.68, f1_micro=0.76, f1_macro=0.53, f1_weighted=0.75, recall_micro=0.76, recall_macro=0.54, recall_weighted=0.76, precision_micro=0.76, precision_macro=0.54, precision_weighted=0.77\n"
     ]
    },
    {
     "name": "stderr",
     "output_type": "stream",
     "text": [
      "train loss=0.01: 100%|██████████| 14614/14614 [15:12<00:00, 16.02it/s]\n",
      "test loss=0.67: 100%|██████████| 3517/3517 [03:14<00:00, 18.04it/s]\n",
      "/Users/aliyilmaz/anaconda3/envs/pytorch_env/lib/python3.12/site-packages/sklearn/metrics/_classification.py:1509: UndefinedMetricWarning: Precision is ill-defined and being set to 0.0 in labels with no predicted samples. Use `zero_division` parameter to control this behavior.\n",
      "  _warn_prf(average, modifier, f\"{metric.capitalize()} is\", len(result))\n",
      "/Users/aliyilmaz/anaconda3/envs/pytorch_env/lib/python3.12/site-packages/sklearn/metrics/_classification.py:1509: UndefinedMetricWarning: Precision is ill-defined and being set to 0.0 in labels with no predicted samples. Use `zero_division` parameter to control this behavior.\n",
      "  _warn_prf(average, modifier, f\"{metric.capitalize()} is\", len(result))\n"
     ]
    },
    {
     "name": "stdout",
     "output_type": "stream",
     "text": [
      "epoch 6: trainloss 1.42, testloss 0.49 accuracy=0.78, kappa=0.72, f1_micro=0.78, f1_macro=0.55, f1_weighted=0.78, recall_micro=0.78, recall_macro=0.55, recall_weighted=0.78, precision_micro=0.78, precision_macro=0.56, precision_weighted=0.78\n"
     ]
    },
    {
     "name": "stderr",
     "output_type": "stream",
     "text": [
      "train loss=0.31: 100%|██████████| 14614/14614 [15:34<00:00, 15.63it/s]\n",
      "test loss=0.50: 100%|██████████| 3517/3517 [03:07<00:00, 18.77it/s]\n",
      "/Users/aliyilmaz/anaconda3/envs/pytorch_env/lib/python3.12/site-packages/sklearn/metrics/_classification.py:1509: UndefinedMetricWarning: Precision is ill-defined and being set to 0.0 in labels with no predicted samples. Use `zero_division` parameter to control this behavior.\n",
      "  _warn_prf(average, modifier, f\"{metric.capitalize()} is\", len(result))\n",
      "/Users/aliyilmaz/anaconda3/envs/pytorch_env/lib/python3.12/site-packages/sklearn/metrics/_classification.py:1509: UndefinedMetricWarning: Precision is ill-defined and being set to 0.0 in labels with no predicted samples. Use `zero_division` parameter to control this behavior.\n",
      "  _warn_prf(average, modifier, f\"{metric.capitalize()} is\", len(result))\n"
     ]
    },
    {
     "name": "stdout",
     "output_type": "stream",
     "text": [
      "epoch 7: trainloss 1.40, testloss 0.56 accuracy=0.71, kappa=0.62, f1_micro=0.71, f1_macro=0.50, f1_weighted=0.65, recall_micro=0.71, recall_macro=0.52, recall_weighted=0.71, precision_micro=0.71, precision_macro=0.62, precision_weighted=0.80\n"
     ]
    },
    {
     "name": "stderr",
     "output_type": "stream",
     "text": [
      "train loss=0.31: 100%|██████████| 14614/14614 [15:14<00:00, 15.98it/s]\n",
      "test loss=0.78: 100%|██████████| 3517/3517 [03:12<00:00, 18.24it/s]\n",
      "/Users/aliyilmaz/anaconda3/envs/pytorch_env/lib/python3.12/site-packages/sklearn/metrics/_classification.py:1509: UndefinedMetricWarning: Precision is ill-defined and being set to 0.0 in labels with no predicted samples. Use `zero_division` parameter to control this behavior.\n",
      "  _warn_prf(average, modifier, f\"{metric.capitalize()} is\", len(result))\n",
      "/Users/aliyilmaz/anaconda3/envs/pytorch_env/lib/python3.12/site-packages/sklearn/metrics/_classification.py:1509: UndefinedMetricWarning: Precision is ill-defined and being set to 0.0 in labels with no predicted samples. Use `zero_division` parameter to control this behavior.\n",
      "  _warn_prf(average, modifier, f\"{metric.capitalize()} is\", len(result))\n"
     ]
    },
    {
     "name": "stdout",
     "output_type": "stream",
     "text": [
      "epoch 8: trainloss 1.68, testloss 0.51 accuracy=0.75, kappa=0.68, f1_micro=0.75, f1_macro=0.53, f1_weighted=0.73, recall_micro=0.75, recall_macro=0.53, recall_weighted=0.75, precision_micro=0.75, precision_macro=0.57, precision_weighted=0.78\n"
     ]
    },
    {
     "name": "stderr",
     "output_type": "stream",
     "text": [
      "train loss=0.07: 100%|██████████| 14614/14614 [15:43<00:00, 15.49it/s]\n",
      "test loss=0.82: 100%|██████████| 3517/3517 [03:01<00:00, 19.34it/s]\n",
      "/Users/aliyilmaz/anaconda3/envs/pytorch_env/lib/python3.12/site-packages/sklearn/metrics/_classification.py:1509: UndefinedMetricWarning: Precision is ill-defined and being set to 0.0 in labels with no predicted samples. Use `zero_division` parameter to control this behavior.\n",
      "  _warn_prf(average, modifier, f\"{metric.capitalize()} is\", len(result))\n",
      "/Users/aliyilmaz/anaconda3/envs/pytorch_env/lib/python3.12/site-packages/sklearn/metrics/_classification.py:1509: UndefinedMetricWarning: Precision is ill-defined and being set to 0.0 in labels with no predicted samples. Use `zero_division` parameter to control this behavior.\n",
      "  _warn_prf(average, modifier, f\"{metric.capitalize()} is\", len(result))\n"
     ]
    },
    {
     "name": "stdout",
     "output_type": "stream",
     "text": [
      "epoch 9: trainloss 1.55, testloss 0.49 accuracy=0.78, kappa=0.71, f1_micro=0.78, f1_macro=0.55, f1_weighted=0.77, recall_micro=0.78, recall_macro=0.55, recall_weighted=0.78, precision_micro=0.78, precision_macro=0.56, precision_weighted=0.78\n"
     ]
    },
    {
     "name": "stderr",
     "output_type": "stream",
     "text": [
      "train loss=0.34:  53%|█████▎    | 7710/14614 [07:39<06:51, 16.78it/s]\n"
     ]
    },
    {
     "ename": "KeyboardInterrupt",
     "evalue": "",
     "output_type": "error",
     "traceback": [
      "\u001b[0;31m---------------------------------------------------------------------------\u001b[0m",
      "\u001b[0;31mKeyboardInterrupt\u001b[0m                         Traceback (most recent call last)",
      "Cell \u001b[0;32mIn[17], line 12\u001b[0m\n\u001b[1;32m     10\u001b[0m p \u001b[38;5;241m=\u001b[39m \u001b[38;5;28mfloat\u001b[39m(epoch) \u001b[38;5;241m/\u001b[39m n_epoch\n\u001b[1;32m     11\u001b[0m alpha \u001b[38;5;241m=\u001b[39m (\u001b[38;5;241m2.\u001b[39m \u001b[38;5;241m/\u001b[39m (\u001b[38;5;241m1.\u001b[39m \u001b[38;5;241m+\u001b[39m np\u001b[38;5;241m.\u001b[39mexp(\u001b[38;5;241m-\u001b[39m\u001b[38;5;241m10\u001b[39m \u001b[38;5;241m*\u001b[39m p)) \u001b[38;5;241m-\u001b[39m \u001b[38;5;241m1\u001b[39m)\n\u001b[0;32m---> 12\u001b[0m train_loss, label_loss, domain_loss \u001b[38;5;241m=\u001b[39m \u001b[43mtrain_epoch\u001b[49m\u001b[43m(\u001b[49m\u001b[43mmodel\u001b[49m\u001b[43m,\u001b[49m\u001b[43m \u001b[49m\u001b[43moptimizer\u001b[49m\u001b[43m,\u001b[49m\u001b[43m \u001b[49m\u001b[43mcriterion_label\u001b[49m\u001b[43m,\u001b[49m\u001b[43m \u001b[49m\u001b[43mcriterion_domain\u001b[49m\u001b[43m,\u001b[49m\u001b[43m \u001b[49m\u001b[43mtrain_dataloader\u001b[49m\u001b[43m,\u001b[49m\u001b[43m \u001b[49m\u001b[43mdevice\u001b[49m\u001b[43m,\u001b[49m\u001b[43m \u001b[49m\u001b[43malpha\u001b[49m\u001b[38;5;241;43m=\u001b[39;49m\u001b[43malpha\u001b[49m\u001b[43m)\u001b[49m\n\u001b[1;32m     13\u001b[0m test_loss, y_true, y_pred, \u001b[38;5;241m*\u001b[39m_ \u001b[38;5;241m=\u001b[39m test_epoch(model, criterion_label, test_dataloader, device)\n\u001b[1;32m     14\u001b[0m scores1 \u001b[38;5;241m=\u001b[39m metrics(y_true\u001b[38;5;241m.\u001b[39mcpu(), y_pred\u001b[38;5;241m.\u001b[39mcpu())\n",
      "Cell \u001b[0;32mIn[12], line 35\u001b[0m, in \u001b[0;36mtrain_epoch\u001b[0;34m(model, optimizer, criterion_label, criterion_domain, dataloader, device, alpha)\u001b[0m\n\u001b[1;32m     33\u001b[0m domain_losses \u001b[38;5;241m=\u001b[39m \u001b[38;5;28mlist\u001b[39m()\n\u001b[1;32m     34\u001b[0m \u001b[38;5;28;01mwith\u001b[39;00m tqdm(\u001b[38;5;28menumerate\u001b[39m(dataloader), total\u001b[38;5;241m=\u001b[39m\u001b[38;5;28mlen\u001b[39m(dataloader), leave\u001b[38;5;241m=\u001b[39m\u001b[38;5;28;01mTrue\u001b[39;00m) \u001b[38;5;28;01mas\u001b[39;00m iterator:\n\u001b[0;32m---> 35\u001b[0m \u001b[43m    \u001b[49m\u001b[38;5;28;43;01mfor\u001b[39;49;00m\u001b[43m \u001b[49m\u001b[43midx\u001b[49m\u001b[43m,\u001b[49m\u001b[43m \u001b[49m\u001b[43mbatch\u001b[49m\u001b[43m \u001b[49m\u001b[38;5;129;43;01min\u001b[39;49;00m\u001b[43m \u001b[49m\u001b[43miterator\u001b[49m\u001b[43m:\u001b[49m\n\u001b[1;32m     36\u001b[0m \u001b[43m        \u001b[49m\u001b[43moptimizer\u001b[49m\u001b[38;5;241;43m.\u001b[39;49m\u001b[43mzero_grad\u001b[49m\u001b[43m(\u001b[49m\u001b[43m)\u001b[49m\n\u001b[1;32m     37\u001b[0m \u001b[43m        \u001b[49m\u001b[43mx\u001b[49m\u001b[43m,\u001b[49m\u001b[43m \u001b[49m\u001b[43my_true\u001b[49m\u001b[43m,\u001b[49m\u001b[43m \u001b[49m\u001b[43m_\u001b[49m\u001b[43m \u001b[49m\u001b[43m,\u001b[49m\u001b[43m \u001b[49m\u001b[43my_domain\u001b[49m\u001b[38;5;241;43m=\u001b[39;49m\u001b[43m \u001b[49m\u001b[43mbatch\u001b[49m\n",
      "File \u001b[0;32m~/anaconda3/envs/pytorch_env/lib/python3.12/site-packages/tqdm/std.py:1181\u001b[0m, in \u001b[0;36mtqdm.__iter__\u001b[0;34m(self)\u001b[0m\n\u001b[1;32m   1178\u001b[0m time \u001b[38;5;241m=\u001b[39m \u001b[38;5;28mself\u001b[39m\u001b[38;5;241m.\u001b[39m_time\n\u001b[1;32m   1180\u001b[0m \u001b[38;5;28;01mtry\u001b[39;00m:\n\u001b[0;32m-> 1181\u001b[0m \u001b[43m    \u001b[49m\u001b[38;5;28;43;01mfor\u001b[39;49;00m\u001b[43m \u001b[49m\u001b[43mobj\u001b[49m\u001b[43m \u001b[49m\u001b[38;5;129;43;01min\u001b[39;49;00m\u001b[43m \u001b[49m\u001b[43miterable\u001b[49m\u001b[43m:\u001b[49m\n\u001b[1;32m   1182\u001b[0m \u001b[43m        \u001b[49m\u001b[38;5;28;43;01myield\u001b[39;49;00m\u001b[43m \u001b[49m\u001b[43mobj\u001b[49m\n\u001b[1;32m   1183\u001b[0m \u001b[43m        \u001b[49m\u001b[38;5;66;43;03m# Update and possibly print the progressbar.\u001b[39;49;00m\n\u001b[1;32m   1184\u001b[0m \u001b[43m        \u001b[49m\u001b[38;5;66;43;03m# Note: does not call self.update(1) for speed optimisation.\u001b[39;49;00m\n",
      "File \u001b[0;32m~/anaconda3/envs/pytorch_env/lib/python3.12/site-packages/torch/utils/data/dataloader.py:631\u001b[0m, in \u001b[0;36m_BaseDataLoaderIter.__next__\u001b[0;34m(self)\u001b[0m\n\u001b[1;32m    628\u001b[0m \u001b[38;5;28;01mif\u001b[39;00m \u001b[38;5;28mself\u001b[39m\u001b[38;5;241m.\u001b[39m_sampler_iter \u001b[38;5;129;01mis\u001b[39;00m \u001b[38;5;28;01mNone\u001b[39;00m:\n\u001b[1;32m    629\u001b[0m     \u001b[38;5;66;03m# TODO(https://github.com/pytorch/pytorch/issues/76750)\u001b[39;00m\n\u001b[1;32m    630\u001b[0m     \u001b[38;5;28mself\u001b[39m\u001b[38;5;241m.\u001b[39m_reset()  \u001b[38;5;66;03m# type: ignore[call-arg]\u001b[39;00m\n\u001b[0;32m--> 631\u001b[0m data \u001b[38;5;241m=\u001b[39m \u001b[38;5;28;43mself\u001b[39;49m\u001b[38;5;241;43m.\u001b[39;49m\u001b[43m_next_data\u001b[49m\u001b[43m(\u001b[49m\u001b[43m)\u001b[49m\n\u001b[1;32m    632\u001b[0m \u001b[38;5;28mself\u001b[39m\u001b[38;5;241m.\u001b[39m_num_yielded \u001b[38;5;241m+\u001b[39m\u001b[38;5;241m=\u001b[39m \u001b[38;5;241m1\u001b[39m\n\u001b[1;32m    633\u001b[0m \u001b[38;5;28;01mif\u001b[39;00m \u001b[38;5;28mself\u001b[39m\u001b[38;5;241m.\u001b[39m_dataset_kind \u001b[38;5;241m==\u001b[39m _DatasetKind\u001b[38;5;241m.\u001b[39mIterable \u001b[38;5;129;01mand\u001b[39;00m \\\n\u001b[1;32m    634\u001b[0m         \u001b[38;5;28mself\u001b[39m\u001b[38;5;241m.\u001b[39m_IterableDataset_len_called \u001b[38;5;129;01mis\u001b[39;00m \u001b[38;5;129;01mnot\u001b[39;00m \u001b[38;5;28;01mNone\u001b[39;00m \u001b[38;5;129;01mand\u001b[39;00m \\\n\u001b[1;32m    635\u001b[0m         \u001b[38;5;28mself\u001b[39m\u001b[38;5;241m.\u001b[39m_num_yielded \u001b[38;5;241m>\u001b[39m \u001b[38;5;28mself\u001b[39m\u001b[38;5;241m.\u001b[39m_IterableDataset_len_called:\n",
      "File \u001b[0;32m~/anaconda3/envs/pytorch_env/lib/python3.12/site-packages/torch/utils/data/dataloader.py:675\u001b[0m, in \u001b[0;36m_SingleProcessDataLoaderIter._next_data\u001b[0;34m(self)\u001b[0m\n\u001b[1;32m    673\u001b[0m \u001b[38;5;28;01mdef\u001b[39;00m \u001b[38;5;21m_next_data\u001b[39m(\u001b[38;5;28mself\u001b[39m):\n\u001b[1;32m    674\u001b[0m     index \u001b[38;5;241m=\u001b[39m \u001b[38;5;28mself\u001b[39m\u001b[38;5;241m.\u001b[39m_next_index()  \u001b[38;5;66;03m# may raise StopIteration\u001b[39;00m\n\u001b[0;32m--> 675\u001b[0m     data \u001b[38;5;241m=\u001b[39m \u001b[38;5;28;43mself\u001b[39;49m\u001b[38;5;241;43m.\u001b[39;49m\u001b[43m_dataset_fetcher\u001b[49m\u001b[38;5;241;43m.\u001b[39;49m\u001b[43mfetch\u001b[49m\u001b[43m(\u001b[49m\u001b[43mindex\u001b[49m\u001b[43m)\u001b[49m  \u001b[38;5;66;03m# may raise StopIteration\u001b[39;00m\n\u001b[1;32m    676\u001b[0m     \u001b[38;5;28;01mif\u001b[39;00m \u001b[38;5;28mself\u001b[39m\u001b[38;5;241m.\u001b[39m_pin_memory:\n\u001b[1;32m    677\u001b[0m         data \u001b[38;5;241m=\u001b[39m _utils\u001b[38;5;241m.\u001b[39mpin_memory\u001b[38;5;241m.\u001b[39mpin_memory(data, \u001b[38;5;28mself\u001b[39m\u001b[38;5;241m.\u001b[39m_pin_memory_device)\n",
      "File \u001b[0;32m~/anaconda3/envs/pytorch_env/lib/python3.12/site-packages/torch/utils/data/_utils/fetch.py:51\u001b[0m, in \u001b[0;36m_MapDatasetFetcher.fetch\u001b[0;34m(self, possibly_batched_index)\u001b[0m\n\u001b[1;32m     49\u001b[0m         data \u001b[38;5;241m=\u001b[39m \u001b[38;5;28mself\u001b[39m\u001b[38;5;241m.\u001b[39mdataset\u001b[38;5;241m.\u001b[39m__getitems__(possibly_batched_index)\n\u001b[1;32m     50\u001b[0m     \u001b[38;5;28;01melse\u001b[39;00m:\n\u001b[0;32m---> 51\u001b[0m         data \u001b[38;5;241m=\u001b[39m [\u001b[38;5;28;43mself\u001b[39;49m\u001b[38;5;241;43m.\u001b[39;49m\u001b[43mdataset\u001b[49m\u001b[43m[\u001b[49m\u001b[43midx\u001b[49m\u001b[43m]\u001b[49m \u001b[38;5;28;01mfor\u001b[39;00m idx \u001b[38;5;129;01min\u001b[39;00m possibly_batched_index]\n\u001b[1;32m     52\u001b[0m \u001b[38;5;28;01melse\u001b[39;00m:\n\u001b[1;32m     53\u001b[0m     data \u001b[38;5;241m=\u001b[39m \u001b[38;5;28mself\u001b[39m\u001b[38;5;241m.\u001b[39mdataset[possibly_batched_index]\n",
      "File \u001b[0;32m~/anaconda3/envs/pytorch_env/lib/python3.12/site-packages/torch/utils/data/dataset.py:335\u001b[0m, in \u001b[0;36mConcatDataset.__getitem__\u001b[0;34m(self, idx)\u001b[0m\n\u001b[1;32m    333\u001b[0m \u001b[38;5;28;01melse\u001b[39;00m:\n\u001b[1;32m    334\u001b[0m     sample_idx \u001b[38;5;241m=\u001b[39m idx \u001b[38;5;241m-\u001b[39m \u001b[38;5;28mself\u001b[39m\u001b[38;5;241m.\u001b[39mcumulative_sizes[dataset_idx \u001b[38;5;241m-\u001b[39m \u001b[38;5;241m1\u001b[39m]\n\u001b[0;32m--> 335\u001b[0m \u001b[38;5;28;01mreturn\u001b[39;00m \u001b[38;5;28;43mself\u001b[39;49m\u001b[38;5;241;43m.\u001b[39;49m\u001b[43mdatasets\u001b[49m\u001b[43m[\u001b[49m\u001b[43mdataset_idx\u001b[49m\u001b[43m]\u001b[49m\u001b[43m[\u001b[49m\u001b[43msample_idx\u001b[49m\u001b[43m]\u001b[49m\n",
      "File \u001b[0;32m~/anaconda3/envs/pytorch_env/lib/python3.12/site-packages/breizhcrops/datasets/breizhcrops.py:291\u001b[0m, in \u001b[0;36mBreizhCrops.__getitem__\u001b[0;34m(self, index)\u001b[0m\n\u001b[1;32m    289\u001b[0m \u001b[38;5;28;01mif\u001b[39;00m \u001b[38;5;28mself\u001b[39m\u001b[38;5;241m.\u001b[39mX_list \u001b[38;5;129;01mis\u001b[39;00m \u001b[38;5;28;01mNone\u001b[39;00m:\n\u001b[1;32m    290\u001b[0m     \u001b[38;5;28;01mwith\u001b[39;00m h5py\u001b[38;5;241m.\u001b[39mFile(\u001b[38;5;28mself\u001b[39m\u001b[38;5;241m.\u001b[39mh5path, \u001b[38;5;124m\"\u001b[39m\u001b[38;5;124mr\u001b[39m\u001b[38;5;124m\"\u001b[39m) \u001b[38;5;28;01mas\u001b[39;00m dataset:\n\u001b[0;32m--> 291\u001b[0m         X \u001b[38;5;241m=\u001b[39m np\u001b[38;5;241m.\u001b[39marray(\u001b[43mdataset\u001b[49m\u001b[43m[\u001b[49m\u001b[43m(\u001b[49m\u001b[43mrow\u001b[49m\u001b[38;5;241;43m.\u001b[39;49m\u001b[43mpath\u001b[49m\u001b[43m)\u001b[49m\u001b[43m]\u001b[49m)\n\u001b[1;32m    292\u001b[0m \u001b[38;5;28;01melse\u001b[39;00m:\n\u001b[1;32m    293\u001b[0m     X \u001b[38;5;241m=\u001b[39m \u001b[38;5;28mself\u001b[39m\u001b[38;5;241m.\u001b[39mX_list[index]\n",
      "File \u001b[0;32mh5py/_objects.pyx:54\u001b[0m, in \u001b[0;36mh5py._objects.with_phil.wrapper\u001b[0;34m()\u001b[0m\n",
      "File \u001b[0;32mh5py/_objects.pyx:55\u001b[0m, in \u001b[0;36mh5py._objects.with_phil.wrapper\u001b[0;34m()\u001b[0m\n",
      "File \u001b[0;32m~/anaconda3/envs/pytorch_env/lib/python3.12/site-packages/h5py/_hl/group.py:357\u001b[0m, in \u001b[0;36mGroup.__getitem__\u001b[0;34m(self, name)\u001b[0m\n\u001b[1;32m    355\u001b[0m         \u001b[38;5;28;01mraise\u001b[39;00m \u001b[38;5;167;01mValueError\u001b[39;00m(\u001b[38;5;124m\"\u001b[39m\u001b[38;5;124mInvalid HDF5 object reference\u001b[39m\u001b[38;5;124m\"\u001b[39m)\n\u001b[1;32m    356\u001b[0m \u001b[38;5;28;01melif\u001b[39;00m \u001b[38;5;28misinstance\u001b[39m(name, (\u001b[38;5;28mbytes\u001b[39m, \u001b[38;5;28mstr\u001b[39m)):\n\u001b[0;32m--> 357\u001b[0m     oid \u001b[38;5;241m=\u001b[39m \u001b[43mh5o\u001b[49m\u001b[38;5;241;43m.\u001b[39;49m\u001b[43mopen\u001b[49m\u001b[43m(\u001b[49m\u001b[38;5;28;43mself\u001b[39;49m\u001b[38;5;241;43m.\u001b[39;49m\u001b[43mid\u001b[49m\u001b[43m,\u001b[49m\u001b[43m \u001b[49m\u001b[38;5;28;43mself\u001b[39;49m\u001b[38;5;241;43m.\u001b[39;49m\u001b[43m_e\u001b[49m\u001b[43m(\u001b[49m\u001b[43mname\u001b[49m\u001b[43m)\u001b[49m\u001b[43m,\u001b[49m\u001b[43m \u001b[49m\u001b[43mlapl\u001b[49m\u001b[38;5;241;43m=\u001b[39;49m\u001b[38;5;28;43mself\u001b[39;49m\u001b[38;5;241;43m.\u001b[39;49m\u001b[43m_lapl\u001b[49m\u001b[43m)\u001b[49m\n\u001b[1;32m    358\u001b[0m \u001b[38;5;28;01melse\u001b[39;00m:\n\u001b[1;32m    359\u001b[0m     \u001b[38;5;28;01mraise\u001b[39;00m \u001b[38;5;167;01mTypeError\u001b[39;00m(\u001b[38;5;124m\"\u001b[39m\u001b[38;5;124mAccessing a group is done with bytes or str, \u001b[39m\u001b[38;5;124m\"\u001b[39m\n\u001b[1;32m    360\u001b[0m                     \u001b[38;5;124m\"\u001b[39m\u001b[38;5;124mnot \u001b[39m\u001b[38;5;132;01m{}\u001b[39;00m\u001b[38;5;124m\"\u001b[39m\u001b[38;5;241m.\u001b[39mformat(\u001b[38;5;28mtype\u001b[39m(name)))\n",
      "File \u001b[0;32mh5py/_objects.pyx:54\u001b[0m, in \u001b[0;36mh5py._objects.with_phil.wrapper\u001b[0;34m()\u001b[0m\n",
      "File \u001b[0;32mh5py/_objects.pyx:55\u001b[0m, in \u001b[0;36mh5py._objects.with_phil.wrapper\u001b[0;34m()\u001b[0m\n",
      "File \u001b[0;32mh5py/h5o.pyx:241\u001b[0m, in \u001b[0;36mh5py.h5o.open\u001b[0;34m()\u001b[0m\n",
      "File \u001b[0;32mh5py/h5i.pyx:43\u001b[0m, in \u001b[0;36mh5py.h5i.wrap_identifier\u001b[0;34m()\u001b[0m\n",
      "File \u001b[0;32m<frozen importlib._bootstrap>:645\u001b[0m, in \u001b[0;36mparent\u001b[0;34m(self)\u001b[0m\n",
      "\u001b[0;31mKeyboardInterrupt\u001b[0m: "
     ]
    }
   ],
   "source": [
    "device = \"mps\" if torch.backends.mps.is_available() else \"cpu\"\n",
    "model = LSTM_DANN(input_size=13, hidden_size=64, num_layers=2, output_size=9, bidirectional=False, dropout=0.2, c_norm=True, num_domains=3).to(device)\n",
    "train_dataloader, test_dataloader, meta = get_dataloader134(batchsize=32, num_workers=0, X=0.8, upperPerformance=False)\n",
    "criterion_label = torch.nn.CrossEntropyLoss(reduction=\"mean\")\n",
    "criterion_domain = torch.nn.CrossEntropyLoss(reduction=\"mean\")\n",
    "optimizer = Adam(model.parameters(), 0.001, weight_decay=1e-6)\n",
    "log = list()\n",
    "n_epoch = 15\n",
    "for epoch in range(n_epoch):\n",
    "    p = float(epoch) / n_epoch\n",
    "    alpha = (2. / (1. + np.exp(-10 * p)) - 1)\n",
    "    train_loss, label_loss, domain_loss = train_epoch(model, optimizer, criterion_label, criterion_domain, train_dataloader, device, alpha=alpha)\n",
    "    test_loss, y_true, y_pred, *_ = test_epoch(model, criterion_label, test_dataloader, device)\n",
    "    scores1 = metrics(y_true.cpu(), y_pred.cpu())\n",
    "    scores_msg = \", \".join([f\"{k}={v:.2f}\" for (k, v) in scores1.items()])\n",
    "    test_loss = test_loss.cpu().detach().numpy().mean()\n",
    "    train_loss = train_loss.cpu().detach().numpy()[0].mean()\n",
    "    print(f\"epoch {epoch}: trainloss {train_loss:.2f}, testloss {test_loss:.2f} \" + scores_msg)\n",
    "\n",
    "    scores1[\"epoch\"] = epoch\n",
    "    scores1[\"trainloss\"] = train_loss\n",
    "    scores1[\"testloss\"] = test_loss\n",
    "    scores1[\"labelloss\"] = label_loss.cpu().detach().numpy().mean()\n",
    "    scores1[\"domainloss\"] = domain_loss.cpu().detach().numpy().mean()\n",
    "    log.append(scores1)\n",
    "\n",
    "    log_df = pd.DataFrame(log).set_index(\"epoch\")\n",
    "    log_df.to_csv(\"DANN134.csv\")"
   ]
  },
  {
   "cell_type": "code",
   "execution_count": null,
   "metadata": {},
   "outputs": [],
   "source": []
  }
 ],
 "metadata": {
  "kernelspec": {
   "display_name": "pytorch_env",
   "language": "python",
   "name": "python3"
  },
  "language_info": {
   "codemirror_mode": {
    "name": "ipython",
    "version": 3
   },
   "file_extension": ".py",
   "mimetype": "text/x-python",
   "name": "python",
   "nbconvert_exporter": "python",
   "pygments_lexer": "ipython3",
   "version": "3.12.1"
  }
 },
 "nbformat": 4,
 "nbformat_minor": 2
}
