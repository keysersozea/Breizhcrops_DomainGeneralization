{
 "cells": [
  {
   "cell_type": "code",
   "execution_count": 1,
   "metadata": {},
   "outputs": [],
   "source": [
    "import breizhcrops as bzh\n",
    "from breizhcrops import BreizhCrops\n",
    "import numpy as np\n",
    "import pandas as pd\n",
    "import matplotlib.pyplot as plt\n",
    "import tqdm\n",
    "from tqdm import tqdm\n",
    "import torch\n",
    "from torch.utils.data import Dataset, DataLoader\n",
    "from torch import nn\n",
    "from torch.optim import Adam\n",
    "import os\n",
    "from sklearn.metrics import accuracy_score, cohen_kappa_score, f1_score, recall_score, precision_score\n",
    "import sklearn"
   ]
  },
  {
   "cell_type": "code",
   "execution_count": 2,
   "metadata": {},
   "outputs": [],
   "source": [
    "frh01 = BreizhCrops(\"frh01\")\n",
    "frh02 = BreizhCrops(\"frh02\")\n",
    "frh03 = BreizhCrops(\"frh03\")\n",
    "frh04 = BreizhCrops(\"frh04\")\n",
    "device = torch.device(\"mps\" if torch.backends.mps.is_available() else \"cpu\")"
   ]
  },
  {
   "cell_type": "code",
   "execution_count": 3,
   "metadata": {},
   "outputs": [],
   "source": [
    "frh01.domain = 1\n",
    "frh02.domain = 2\n",
    "frh03.domain = 3\n",
    "frh04.domain = 4"
   ]
  },
  {
   "cell_type": "markdown",
   "metadata": {},
   "source": [
    "# Lengths and Shapes of Dataset"
   ]
  },
  {
   "cell_type": "code",
   "execution_count": 5,
   "metadata": {},
   "outputs": [
    {
     "data": {
      "text/plain": [
       "(torch.Size([45, 13]),\n",
       " tensor(3),\n",
       " 6022791,\n",
       " 178613,\n",
       " 140645,\n",
       " 166391,\n",
       " 122614,\n",
       " 608263)"
      ]
     },
     "execution_count": 5,
     "metadata": {},
     "output_type": "execute_result"
    }
   ],
   "source": [
    "frh01[10][0].shape, frh01[10][1], frh01[10][2], len(frh01), len(frh02), len(frh03), len(frh04), len(frh01) + len(frh02) + len(frh03) + len(frh04)"
   ]
  },
  {
   "cell_type": "code",
   "execution_count": 6,
   "metadata": {},
   "outputs": [
    {
     "data": {
      "text/plain": [
       "tensor(7)"
      ]
     },
     "execution_count": 6,
     "metadata": {},
     "output_type": "execute_result"
    }
   ],
   "source": [
    "frh01[0] # returns x, y, field_id\n",
    "frh01[13213][1] # label of 13213th observation "
   ]
  },
  {
   "cell_type": "code",
   "execution_count": 6,
   "metadata": {},
   "outputs": [
    {
     "name": "stdout",
     "output_type": "stream",
     "text": [
      "Lenght of dataset1: 178613\n",
      "Lenght of dataset2: 140645\n",
      "Lenght of dataset3: 166391\n",
      "Lenght of dataset: 122614\n",
      "Total: 608263\n"
     ]
    }
   ],
   "source": [
    "frh01[10][0].shape, frh01[10][1], frh01[10][2], len(frh01), len(frh02), len(frh03), len(frh04), len(frh01) + len(frh02) + len(frh03) + len(frh04)\n",
    "print(f\"Lenght of dataset1: {len(frh01)}\\nLenght of dataset2: {len(frh02)}\\nLenght of dataset3: {len(frh03)}\\nLenght of dataset: {len(frh04)}\\nTotal: {len(frh01) + len(frh02) + len(frh03) + len(frh04)}\")"
   ]
  },
  {
   "cell_type": "markdown",
   "metadata": {},
   "source": [
    "# DataLoader Function"
   ]
  },
  {
   "cell_type": "code",
   "execution_count": 4,
   "metadata": {},
   "outputs": [],
   "source": [
    "def get_dataloader(mode, batchsize, num_workers=0):\n",
    "\n",
    "    if mode == \"evaluation\" or mode == \"evaluation1\":\n",
    "        traindatasets = torch.utils.data.ConcatDataset([frh01, frh02, frh03])\n",
    "        testdataset = frh04\n",
    "    elif mode == \"evaluation2\":\n",
    "        traindatasets = torch.utils.data.ConcatDataset([frh01, frh02, frh04])\n",
    "        testdataset = frh03\n",
    "    elif mode == \"evaluation3\":\n",
    "        traindatasets = torch.utils.data.ConcatDataset([frh01, frh03, frh04])\n",
    "        testdataset = frh02\n",
    "    elif mode == \"evaluation4\":\n",
    "        traindatasets = torch.utils.data.ConcatDataset([frh02, frh03, frh04])\n",
    "        testdataset = frh01\n",
    "    elif mode == \"validation\":\n",
    "        traindatasets = torch.utils.data.ConcatDataset([frh01, frh02])\n",
    "        testdataset = frh03\n",
    "    else:\n",
    "        raise ValueError(\"only --mode 'validation' or 'evaluation' allowed\")\n",
    "\n",
    "    traindataloader = DataLoader(traindatasets, batch_size=batchsize, shuffle=True, num_workers=num_workers)\n",
    "    testdataloader = DataLoader(testdataset, batch_size=batchsize, shuffle=False, num_workers=num_workers)\n",
    "\n",
    "    meta = dict(\n",
    "        ndims=13,\n",
    "        num_classes=frh01.classes,\n",
    "        sequencelength=45\n",
    "    )\n",
    "\n",
    "    return traindataloader, testdataloader, meta"
   ]
  },
  {
   "cell_type": "markdown",
   "metadata": {},
   "source": [
    "# Sample Model"
   ]
  },
  {
   "cell_type": "code",
   "execution_count": 5,
   "metadata": {},
   "outputs": [],
   "source": [
    "class LSTM_Model(torch.nn.Module):\n",
    "    def __init__(self, input_size=13, hidden_size=128, num_layers=4, output_size=9, bidirectional=False, dropout=0.2, c_norm=True):\n",
    "        super(LSTM_Model, self).__init__()\n",
    "        self.input_size = input_size\n",
    "        self.hidden_size = hidden_size\n",
    "        self.num_layers = num_layers\n",
    "        self.output_size = output_size\n",
    "        self.c_norm = c_norm\n",
    "        \n",
    "        if num_layers > 1 and dropout > 0:\n",
    "            self.dropout = dropout\n",
    "        else:\n",
    "            self.dropout = 0.0 \n",
    "            \n",
    "        self.clayernorm = nn.LayerNorm((hidden_size + hidden_size * bidirectional) * num_layers)\n",
    "        \n",
    "        self.lstm = nn.LSTM(input_size=input_size, hidden_size=hidden_size, num_layers=num_layers,\n",
    "                            bias=False, batch_first=True, dropout=dropout, bidirectional=bidirectional)   \n",
    "        \n",
    "        if bidirectional:\n",
    "            hidden_size = hidden_size * 2\n",
    "             \n",
    "        self.fc = nn.Linear(hidden_size * num_layers, output_size, bias=True)\n",
    "        \n",
    "    def forward(self, x):\n",
    "        \n",
    "        outputs, last_state_list = self.lstm.forward(x)\n",
    "\n",
    "        h, c = last_state_list\n",
    "\n",
    "        nlayers, batchsize, n_hidden = c.shape\n",
    "        \n",
    "        if self.c_norm:\n",
    "            x = self.clayernorm(c.transpose(0, 1).contiguous().view(batchsize, nlayers * n_hidden))\n",
    "        else:\n",
    "            x = c.transpose(0, 1).contiguous().view(batchsize, nlayers * n_hidden)\n",
    "        x = self.fc.forward(x)\n",
    "        return x\n",
    "        \n",
    "    def save(self, path=\"model.pth\", **kwargs):\n",
    "        print(\"\\nsaving model to \" + path)\n",
    "        model_state = self.state_dict()\n",
    "        os.makedirs(os.path.dirname(path), exist_ok=True)\n",
    "        torch.save(dict(model_state=model_state, **kwargs), path)\n",
    "        \n",
    "model = LSTM_Model(input_size=13, hidden_size=128, num_layers=4, output_size=9, bidirectional=False, dropout=0.2, c_norm=True).to(device)\n"
   ]
  },
  {
   "cell_type": "markdown",
   "metadata": {},
   "source": [
    "# Metrics - Train - Test Functions"
   ]
  },
  {
   "cell_type": "code",
   "execution_count": 6,
   "metadata": {},
   "outputs": [],
   "source": [
    "def metrics(y_true, y_pred):\n",
    "    accuracy = accuracy_score(y_true, y_pred)\n",
    "    kappa = cohen_kappa_score(y_true, y_pred)\n",
    "    f1_micro = f1_score(y_true, y_pred, average=\"micro\")\n",
    "    f1_macro = f1_score(y_true, y_pred, average=\"macro\")\n",
    "    f1_weighted = f1_score(y_true, y_pred, average=\"weighted\")\n",
    "    recall_micro = recall_score(y_true, y_pred, average=\"micro\")\n",
    "    recall_macro = recall_score(y_true, y_pred, average=\"macro\")\n",
    "    recall_weighted = recall_score(y_true, y_pred, average=\"weighted\")\n",
    "    precision_micro = precision_score(y_true, y_pred, average=\"micro\")\n",
    "    precision_macro = precision_score(y_true, y_pred, average=\"macro\")\n",
    "    precision_weighted = precision_score(y_true, y_pred, average=\"weighted\")\n",
    "\n",
    "    return dict(\n",
    "        accuracy=accuracy,\n",
    "        kappa=kappa,\n",
    "        f1_micro=f1_micro,\n",
    "        f1_macro=f1_macro,\n",
    "        f1_weighted=f1_weighted,\n",
    "        recall_micro=recall_micro,\n",
    "        recall_macro=recall_macro,\n",
    "        recall_weighted=recall_weighted,\n",
    "        precision_micro=precision_micro,\n",
    "        precision_macro=precision_macro,\n",
    "        precision_weighted=precision_weighted,\n",
    "    )\n",
    "\n",
    "\n",
    "def train_epoch(model, optimizer, criterion, dataloader, device):\n",
    "    model.train()\n",
    "    losses = list()\n",
    "    with tqdm(enumerate(dataloader), total=len(dataloader), leave=True) as iterator:\n",
    "        for idx, batch in iterator:\n",
    "            optimizer.zero_grad()\n",
    "            x, y_true, _, _ = batch\n",
    "            loss = criterion(model.forward(x.to(device)), y_true.to(device))\n",
    "            loss.backward()\n",
    "            optimizer.step()\n",
    "            iterator.set_description(f\"train loss={loss:.2f}\")\n",
    "            losses.append(loss)\n",
    "    return torch.stack(losses)\n",
    "\n",
    "\n",
    "def test_epoch(model, criterion, dataloader, device):\n",
    "    model.eval()\n",
    "    with torch.no_grad():\n",
    "        losses = list()\n",
    "        y_true_list = list()\n",
    "        y_pred_list = list()\n",
    "        field_ids_list = list()\n",
    "        with tqdm(enumerate(dataloader), total=len(dataloader), leave=True) as iterator:\n",
    "            for idx, batch in iterator:\n",
    "                x, y_true, field_id, _ = batch\n",
    "                logits = model.forward(x.to(device))\n",
    "                loss = criterion(logits, y_true.to(device))\n",
    "                iterator.set_description(f\"test loss={loss:.2f}\")\n",
    "                losses.append(loss)\n",
    "                y_true_list.append(y_true)\n",
    "                y_pred_list.append(logits.argmax(-1))\n",
    "                field_ids_list.append(field_id)\n",
    "        return torch.stack(losses), torch.cat(y_true_list), torch.cat(y_pred_list), torch.cat(field_ids_list)\n"
   ]
  },
  {
   "cell_type": "code",
   "execution_count": 7,
   "metadata": {},
   "outputs": [],
   "source": [
    "train_dataloader, test_dataloader, meta = get_dataloader(\"evaluation1\", batchsize=32, num_workers=4)"
   ]
  },
  {
   "cell_type": "code",
   "execution_count": 8,
   "metadata": {},
   "outputs": [
    {
     "name": "stderr",
     "output_type": "stream",
     "text": [
      "train loss=0.48: 100%|██████████| 15177/15177 [16:44<00:00, 15.11it/s]\n",
      "test loss=1.21: 100%|██████████| 3832/3832 [01:50<00:00, 34.55it/s]\n",
      "/Users/aliyilmaz/anaconda3/envs/pytorch_env/lib/python3.12/site-packages/sklearn/metrics/_classification.py:1509: UndefinedMetricWarning: Precision is ill-defined and being set to 0.0 in labels with no predicted samples. Use `zero_division` parameter to control this behavior.\n",
      "  _warn_prf(average, modifier, f\"{metric.capitalize()} is\", len(result))\n",
      "/Users/aliyilmaz/anaconda3/envs/pytorch_env/lib/python3.12/site-packages/sklearn/metrics/_classification.py:1509: UndefinedMetricWarning: Precision is ill-defined and being set to 0.0 in labels with no predicted samples. Use `zero_division` parameter to control this behavior.\n",
      "  _warn_prf(average, modifier, f\"{metric.capitalize()} is\", len(result))\n"
     ]
    },
    {
     "name": "stdout",
     "output_type": "stream",
     "text": [
      "epoch 0: trainloss 2.33, testloss 0.52 accuracy=0.75, kappa=0.67, f1_micro=0.75, f1_macro=0.50, f1_weighted=0.74, recall_micro=0.75, recall_macro=0.51, recall_weighted=0.75, precision_micro=0.75, precision_macro=0.51, precision_weighted=0.74\n"
     ]
    },
    {
     "name": "stderr",
     "output_type": "stream",
     "text": [
      "train loss=0.38: 100%|██████████| 15177/15177 [17:35<00:00, 14.38it/s]\n",
      "test loss=1.75: 100%|██████████| 3832/3832 [01:54<00:00, 33.54it/s]\n",
      "/Users/aliyilmaz/anaconda3/envs/pytorch_env/lib/python3.12/site-packages/sklearn/metrics/_classification.py:1509: UndefinedMetricWarning: Precision is ill-defined and being set to 0.0 in labels with no predicted samples. Use `zero_division` parameter to control this behavior.\n",
      "  _warn_prf(average, modifier, f\"{metric.capitalize()} is\", len(result))\n",
      "/Users/aliyilmaz/anaconda3/envs/pytorch_env/lib/python3.12/site-packages/sklearn/metrics/_classification.py:1509: UndefinedMetricWarning: Precision is ill-defined and being set to 0.0 in labels with no predicted samples. Use `zero_division` parameter to control this behavior.\n",
      "  _warn_prf(average, modifier, f\"{metric.capitalize()} is\", len(result))\n"
     ]
    },
    {
     "name": "stdout",
     "output_type": "stream",
     "text": [
      "epoch 1: trainloss 0.89, testloss 0.51 accuracy=0.77, kappa=0.69, f1_micro=0.77, f1_macro=0.54, f1_weighted=0.76, recall_micro=0.77, recall_macro=0.54, recall_weighted=0.77, precision_micro=0.77, precision_macro=0.53, precision_weighted=0.76\n"
     ]
    },
    {
     "name": "stderr",
     "output_type": "stream",
     "text": [
      "train loss=0.49: 100%|██████████| 15177/15177 [17:23<00:00, 14.54it/s]\n",
      "test loss=1.27: 100%|██████████| 3832/3832 [01:52<00:00, 34.06it/s]\n",
      "/Users/aliyilmaz/anaconda3/envs/pytorch_env/lib/python3.12/site-packages/sklearn/metrics/_classification.py:1509: UndefinedMetricWarning: Precision is ill-defined and being set to 0.0 in labels with no predicted samples. Use `zero_division` parameter to control this behavior.\n",
      "  _warn_prf(average, modifier, f\"{metric.capitalize()} is\", len(result))\n",
      "/Users/aliyilmaz/anaconda3/envs/pytorch_env/lib/python3.12/site-packages/sklearn/metrics/_classification.py:1509: UndefinedMetricWarning: Precision is ill-defined and being set to 0.0 in labels with no predicted samples. Use `zero_division` parameter to control this behavior.\n",
      "  _warn_prf(average, modifier, f\"{metric.capitalize()} is\", len(result))\n"
     ]
    },
    {
     "name": "stdout",
     "output_type": "stream",
     "text": [
      "epoch 2: trainloss 0.43, testloss 0.64 accuracy=0.77, kappa=0.70, f1_micro=0.77, f1_macro=0.53, f1_weighted=0.76, recall_micro=0.77, recall_macro=0.54, recall_weighted=0.77, precision_micro=0.77, precision_macro=0.55, precision_weighted=0.77\n"
     ]
    },
    {
     "name": "stderr",
     "output_type": "stream",
     "text": [
      "train loss=0.53: 100%|██████████| 15177/15177 [18:46<00:00, 13.48it/s]\n",
      "test loss=1.21: 100%|██████████| 3832/3832 [02:17<00:00, 27.87it/s]\n",
      "/Users/aliyilmaz/anaconda3/envs/pytorch_env/lib/python3.12/site-packages/sklearn/metrics/_classification.py:1509: UndefinedMetricWarning: Precision is ill-defined and being set to 0.0 in labels with no predicted samples. Use `zero_division` parameter to control this behavior.\n",
      "  _warn_prf(average, modifier, f\"{metric.capitalize()} is\", len(result))\n",
      "/Users/aliyilmaz/anaconda3/envs/pytorch_env/lib/python3.12/site-packages/sklearn/metrics/_classification.py:1509: UndefinedMetricWarning: Precision is ill-defined and being set to 0.0 in labels with no predicted samples. Use `zero_division` parameter to control this behavior.\n",
      "  _warn_prf(average, modifier, f\"{metric.capitalize()} is\", len(result))\n"
     ]
    },
    {
     "name": "stdout",
     "output_type": "stream",
     "text": [
      "epoch 3: trainloss 0.76, testloss 0.58 accuracy=0.78, kappa=0.71, f1_micro=0.78, f1_macro=0.54, f1_weighted=0.76, recall_micro=0.78, recall_macro=0.54, recall_weighted=0.78, precision_micro=0.78, precision_macro=0.55, precision_weighted=0.77\n"
     ]
    },
    {
     "name": "stderr",
     "output_type": "stream",
     "text": [
      "train loss=0.84: 100%|██████████| 15177/15177 [19:58<00:00, 12.67it/s]\n",
      "test loss=1.35: 100%|██████████| 3832/3832 [02:05<00:00, 30.46it/s]\n",
      "/Users/aliyilmaz/anaconda3/envs/pytorch_env/lib/python3.12/site-packages/sklearn/metrics/_classification.py:1509: UndefinedMetricWarning: Precision is ill-defined and being set to 0.0 in labels with no predicted samples. Use `zero_division` parameter to control this behavior.\n",
      "  _warn_prf(average, modifier, f\"{metric.capitalize()} is\", len(result))\n",
      "/Users/aliyilmaz/anaconda3/envs/pytorch_env/lib/python3.12/site-packages/sklearn/metrics/_classification.py:1509: UndefinedMetricWarning: Precision is ill-defined and being set to 0.0 in labels with no predicted samples. Use `zero_division` parameter to control this behavior.\n",
      "  _warn_prf(average, modifier, f\"{metric.capitalize()} is\", len(result))\n"
     ]
    },
    {
     "name": "stdout",
     "output_type": "stream",
     "text": [
      "epoch 4: trainloss 0.42, testloss 0.67 accuracy=0.77, kappa=0.70, f1_micro=0.77, f1_macro=0.53, f1_weighted=0.76, recall_micro=0.77, recall_macro=0.54, recall_weighted=0.77, precision_micro=0.77, precision_macro=0.53, precision_weighted=0.76\n"
     ]
    },
    {
     "name": "stderr",
     "output_type": "stream",
     "text": [
      "train loss=0.42:  78%|███████▊  | 11906/15177 [15:13<04:10, 13.03it/s]\n"
     ]
    },
    {
     "ename": "KeyboardInterrupt",
     "evalue": "",
     "output_type": "error",
     "traceback": [
      "\u001b[0;31m---------------------------------------------------------------------------\u001b[0m",
      "\u001b[0;31mKeyboardInterrupt\u001b[0m                         Traceback (most recent call last)",
      "Cell \u001b[0;32mIn[8], line 8\u001b[0m\n\u001b[1;32m      6\u001b[0m log \u001b[38;5;241m=\u001b[39m \u001b[38;5;28mlist\u001b[39m()\n\u001b[1;32m      7\u001b[0m \u001b[38;5;28;01mfor\u001b[39;00m epoch \u001b[38;5;129;01min\u001b[39;00m \u001b[38;5;28mrange\u001b[39m(\u001b[38;5;241m10\u001b[39m):\n\u001b[0;32m----> 8\u001b[0m     train_loss \u001b[38;5;241m=\u001b[39m \u001b[43mtrain_epoch\u001b[49m\u001b[43m(\u001b[49m\u001b[43mmodel\u001b[49m\u001b[43m,\u001b[49m\u001b[43m \u001b[49m\u001b[43moptimizer\u001b[49m\u001b[43m,\u001b[49m\u001b[43m \u001b[49m\u001b[43mcriterion\u001b[49m\u001b[43m,\u001b[49m\u001b[43m \u001b[49m\u001b[43mtrain_dataloader\u001b[49m\u001b[43m,\u001b[49m\u001b[43m \u001b[49m\u001b[43mdevice\u001b[49m\u001b[43m)\u001b[49m\n\u001b[1;32m      9\u001b[0m     test_loss, y_true, y_pred, \u001b[38;5;241m*\u001b[39m_ \u001b[38;5;241m=\u001b[39m test_epoch(model, criterion, test_dataloader, device)\n\u001b[1;32m     10\u001b[0m     scores1 \u001b[38;5;241m=\u001b[39m metrics(y_true\u001b[38;5;241m.\u001b[39mcpu(), y_pred\u001b[38;5;241m.\u001b[39mcpu())\n",
      "Cell \u001b[0;32mIn[6], line 33\u001b[0m, in \u001b[0;36mtrain_epoch\u001b[0;34m(model, optimizer, criterion, dataloader, device)\u001b[0m\n\u001b[1;32m     31\u001b[0m losses \u001b[38;5;241m=\u001b[39m \u001b[38;5;28mlist\u001b[39m()\n\u001b[1;32m     32\u001b[0m \u001b[38;5;28;01mwith\u001b[39;00m tqdm(\u001b[38;5;28menumerate\u001b[39m(dataloader), total\u001b[38;5;241m=\u001b[39m\u001b[38;5;28mlen\u001b[39m(dataloader), leave\u001b[38;5;241m=\u001b[39m\u001b[38;5;28;01mTrue\u001b[39;00m) \u001b[38;5;28;01mas\u001b[39;00m iterator:\n\u001b[0;32m---> 33\u001b[0m \u001b[43m    \u001b[49m\u001b[38;5;28;43;01mfor\u001b[39;49;00m\u001b[43m \u001b[49m\u001b[43midx\u001b[49m\u001b[43m,\u001b[49m\u001b[43m \u001b[49m\u001b[43mbatch\u001b[49m\u001b[43m \u001b[49m\u001b[38;5;129;43;01min\u001b[39;49;00m\u001b[43m \u001b[49m\u001b[43miterator\u001b[49m\u001b[43m:\u001b[49m\n\u001b[1;32m     34\u001b[0m \u001b[43m        \u001b[49m\u001b[43moptimizer\u001b[49m\u001b[38;5;241;43m.\u001b[39;49m\u001b[43mzero_grad\u001b[49m\u001b[43m(\u001b[49m\u001b[43m)\u001b[49m\n\u001b[1;32m     35\u001b[0m \u001b[43m        \u001b[49m\u001b[43mx\u001b[49m\u001b[43m,\u001b[49m\u001b[43m \u001b[49m\u001b[43my_true\u001b[49m\u001b[43m,\u001b[49m\u001b[43m \u001b[49m\u001b[43m_\u001b[49m\u001b[43m,\u001b[49m\u001b[43m \u001b[49m\u001b[43m_\u001b[49m\u001b[43m \u001b[49m\u001b[38;5;241;43m=\u001b[39;49m\u001b[43m \u001b[49m\u001b[43mbatch\u001b[49m\n",
      "File \u001b[0;32m~/anaconda3/envs/pytorch_env/lib/python3.12/site-packages/tqdm/std.py:1181\u001b[0m, in \u001b[0;36mtqdm.__iter__\u001b[0;34m(self)\u001b[0m\n\u001b[1;32m   1178\u001b[0m time \u001b[38;5;241m=\u001b[39m \u001b[38;5;28mself\u001b[39m\u001b[38;5;241m.\u001b[39m_time\n\u001b[1;32m   1180\u001b[0m \u001b[38;5;28;01mtry\u001b[39;00m:\n\u001b[0;32m-> 1181\u001b[0m \u001b[43m    \u001b[49m\u001b[38;5;28;43;01mfor\u001b[39;49;00m\u001b[43m \u001b[49m\u001b[43mobj\u001b[49m\u001b[43m \u001b[49m\u001b[38;5;129;43;01min\u001b[39;49;00m\u001b[43m \u001b[49m\u001b[43miterable\u001b[49m\u001b[43m:\u001b[49m\n\u001b[1;32m   1182\u001b[0m \u001b[43m        \u001b[49m\u001b[38;5;28;43;01myield\u001b[39;49;00m\u001b[43m \u001b[49m\u001b[43mobj\u001b[49m\n\u001b[1;32m   1183\u001b[0m \u001b[43m        \u001b[49m\u001b[38;5;66;43;03m# Update and possibly print the progressbar.\u001b[39;49;00m\n\u001b[1;32m   1184\u001b[0m \u001b[43m        \u001b[49m\u001b[38;5;66;43;03m# Note: does not call self.update(1) for speed optimisation.\u001b[39;49;00m\n",
      "File \u001b[0;32m~/anaconda3/envs/pytorch_env/lib/python3.12/site-packages/torch/utils/data/dataloader.py:631\u001b[0m, in \u001b[0;36m_BaseDataLoaderIter.__next__\u001b[0;34m(self)\u001b[0m\n\u001b[1;32m    628\u001b[0m \u001b[38;5;28;01mif\u001b[39;00m \u001b[38;5;28mself\u001b[39m\u001b[38;5;241m.\u001b[39m_sampler_iter \u001b[38;5;129;01mis\u001b[39;00m \u001b[38;5;28;01mNone\u001b[39;00m:\n\u001b[1;32m    629\u001b[0m     \u001b[38;5;66;03m# TODO(https://github.com/pytorch/pytorch/issues/76750)\u001b[39;00m\n\u001b[1;32m    630\u001b[0m     \u001b[38;5;28mself\u001b[39m\u001b[38;5;241m.\u001b[39m_reset()  \u001b[38;5;66;03m# type: ignore[call-arg]\u001b[39;00m\n\u001b[0;32m--> 631\u001b[0m data \u001b[38;5;241m=\u001b[39m \u001b[38;5;28;43mself\u001b[39;49m\u001b[38;5;241;43m.\u001b[39;49m\u001b[43m_next_data\u001b[49m\u001b[43m(\u001b[49m\u001b[43m)\u001b[49m\n\u001b[1;32m    632\u001b[0m \u001b[38;5;28mself\u001b[39m\u001b[38;5;241m.\u001b[39m_num_yielded \u001b[38;5;241m+\u001b[39m\u001b[38;5;241m=\u001b[39m \u001b[38;5;241m1\u001b[39m\n\u001b[1;32m    633\u001b[0m \u001b[38;5;28;01mif\u001b[39;00m \u001b[38;5;28mself\u001b[39m\u001b[38;5;241m.\u001b[39m_dataset_kind \u001b[38;5;241m==\u001b[39m _DatasetKind\u001b[38;5;241m.\u001b[39mIterable \u001b[38;5;129;01mand\u001b[39;00m \\\n\u001b[1;32m    634\u001b[0m         \u001b[38;5;28mself\u001b[39m\u001b[38;5;241m.\u001b[39m_IterableDataset_len_called \u001b[38;5;129;01mis\u001b[39;00m \u001b[38;5;129;01mnot\u001b[39;00m \u001b[38;5;28;01mNone\u001b[39;00m \u001b[38;5;129;01mand\u001b[39;00m \\\n\u001b[1;32m    635\u001b[0m         \u001b[38;5;28mself\u001b[39m\u001b[38;5;241m.\u001b[39m_num_yielded \u001b[38;5;241m>\u001b[39m \u001b[38;5;28mself\u001b[39m\u001b[38;5;241m.\u001b[39m_IterableDataset_len_called:\n",
      "File \u001b[0;32m~/anaconda3/envs/pytorch_env/lib/python3.12/site-packages/torch/utils/data/dataloader.py:675\u001b[0m, in \u001b[0;36m_SingleProcessDataLoaderIter._next_data\u001b[0;34m(self)\u001b[0m\n\u001b[1;32m    673\u001b[0m \u001b[38;5;28;01mdef\u001b[39;00m \u001b[38;5;21m_next_data\u001b[39m(\u001b[38;5;28mself\u001b[39m):\n\u001b[1;32m    674\u001b[0m     index \u001b[38;5;241m=\u001b[39m \u001b[38;5;28mself\u001b[39m\u001b[38;5;241m.\u001b[39m_next_index()  \u001b[38;5;66;03m# may raise StopIteration\u001b[39;00m\n\u001b[0;32m--> 675\u001b[0m     data \u001b[38;5;241m=\u001b[39m \u001b[38;5;28;43mself\u001b[39;49m\u001b[38;5;241;43m.\u001b[39;49m\u001b[43m_dataset_fetcher\u001b[49m\u001b[38;5;241;43m.\u001b[39;49m\u001b[43mfetch\u001b[49m\u001b[43m(\u001b[49m\u001b[43mindex\u001b[49m\u001b[43m)\u001b[49m  \u001b[38;5;66;03m# may raise StopIteration\u001b[39;00m\n\u001b[1;32m    676\u001b[0m     \u001b[38;5;28;01mif\u001b[39;00m \u001b[38;5;28mself\u001b[39m\u001b[38;5;241m.\u001b[39m_pin_memory:\n\u001b[1;32m    677\u001b[0m         data \u001b[38;5;241m=\u001b[39m _utils\u001b[38;5;241m.\u001b[39mpin_memory\u001b[38;5;241m.\u001b[39mpin_memory(data, \u001b[38;5;28mself\u001b[39m\u001b[38;5;241m.\u001b[39m_pin_memory_device)\n",
      "File \u001b[0;32m~/anaconda3/envs/pytorch_env/lib/python3.12/site-packages/torch/utils/data/_utils/fetch.py:51\u001b[0m, in \u001b[0;36m_MapDatasetFetcher.fetch\u001b[0;34m(self, possibly_batched_index)\u001b[0m\n\u001b[1;32m     49\u001b[0m         data \u001b[38;5;241m=\u001b[39m \u001b[38;5;28mself\u001b[39m\u001b[38;5;241m.\u001b[39mdataset\u001b[38;5;241m.\u001b[39m__getitems__(possibly_batched_index)\n\u001b[1;32m     50\u001b[0m     \u001b[38;5;28;01melse\u001b[39;00m:\n\u001b[0;32m---> 51\u001b[0m         data \u001b[38;5;241m=\u001b[39m [\u001b[38;5;28;43mself\u001b[39;49m\u001b[38;5;241;43m.\u001b[39;49m\u001b[43mdataset\u001b[49m\u001b[43m[\u001b[49m\u001b[43midx\u001b[49m\u001b[43m]\u001b[49m \u001b[38;5;28;01mfor\u001b[39;00m idx \u001b[38;5;129;01min\u001b[39;00m possibly_batched_index]\n\u001b[1;32m     52\u001b[0m \u001b[38;5;28;01melse\u001b[39;00m:\n\u001b[1;32m     53\u001b[0m     data \u001b[38;5;241m=\u001b[39m \u001b[38;5;28mself\u001b[39m\u001b[38;5;241m.\u001b[39mdataset[possibly_batched_index]\n",
      "File \u001b[0;32m~/anaconda3/envs/pytorch_env/lib/python3.12/site-packages/torch/utils/data/dataset.py:335\u001b[0m, in \u001b[0;36mConcatDataset.__getitem__\u001b[0;34m(self, idx)\u001b[0m\n\u001b[1;32m    333\u001b[0m \u001b[38;5;28;01melse\u001b[39;00m:\n\u001b[1;32m    334\u001b[0m     sample_idx \u001b[38;5;241m=\u001b[39m idx \u001b[38;5;241m-\u001b[39m \u001b[38;5;28mself\u001b[39m\u001b[38;5;241m.\u001b[39mcumulative_sizes[dataset_idx \u001b[38;5;241m-\u001b[39m \u001b[38;5;241m1\u001b[39m]\n\u001b[0;32m--> 335\u001b[0m \u001b[38;5;28;01mreturn\u001b[39;00m \u001b[38;5;28;43mself\u001b[39;49m\u001b[38;5;241;43m.\u001b[39;49m\u001b[43mdatasets\u001b[49m\u001b[43m[\u001b[49m\u001b[43mdataset_idx\u001b[49m\u001b[43m]\u001b[49m\u001b[43m[\u001b[49m\u001b[43msample_idx\u001b[49m\u001b[43m]\u001b[49m\n",
      "File \u001b[0;32m~/anaconda3/envs/pytorch_env/lib/python3.12/site-packages/breizhcrops/datasets/breizhcrops.py:290\u001b[0m, in \u001b[0;36mBreizhCrops.__getitem__\u001b[0;34m(self, index)\u001b[0m\n\u001b[1;32m    287\u001b[0m row \u001b[38;5;241m=\u001b[39m \u001b[38;5;28mself\u001b[39m\u001b[38;5;241m.\u001b[39mindex\u001b[38;5;241m.\u001b[39miloc[index]\n\u001b[1;32m    289\u001b[0m \u001b[38;5;28;01mif\u001b[39;00m \u001b[38;5;28mself\u001b[39m\u001b[38;5;241m.\u001b[39mX_list \u001b[38;5;129;01mis\u001b[39;00m \u001b[38;5;28;01mNone\u001b[39;00m:\n\u001b[0;32m--> 290\u001b[0m     \u001b[38;5;28;01mwith\u001b[39;00m \u001b[43mh5py\u001b[49m\u001b[38;5;241;43m.\u001b[39;49m\u001b[43mFile\u001b[49m\u001b[43m(\u001b[49m\u001b[38;5;28;43mself\u001b[39;49m\u001b[38;5;241;43m.\u001b[39;49m\u001b[43mh5path\u001b[49m\u001b[43m,\u001b[49m\u001b[43m \u001b[49m\u001b[38;5;124;43m\"\u001b[39;49m\u001b[38;5;124;43mr\u001b[39;49m\u001b[38;5;124;43m\"\u001b[39;49m\u001b[43m)\u001b[49m \u001b[38;5;28;01mas\u001b[39;00m dataset:\n\u001b[1;32m    291\u001b[0m         X \u001b[38;5;241m=\u001b[39m np\u001b[38;5;241m.\u001b[39marray(dataset[(row\u001b[38;5;241m.\u001b[39mpath)])\n\u001b[1;32m    292\u001b[0m \u001b[38;5;28;01melse\u001b[39;00m:\n",
      "File \u001b[0;32m~/anaconda3/envs/pytorch_env/lib/python3.12/site-packages/h5py/_hl/files.py:562\u001b[0m, in \u001b[0;36mFile.__init__\u001b[0;34m(self, name, mode, driver, libver, userblock_size, swmr, rdcc_nslots, rdcc_nbytes, rdcc_w0, track_order, fs_strategy, fs_persist, fs_threshold, fs_page_size, page_buf_size, min_meta_keep, min_raw_keep, locking, alignment_threshold, alignment_interval, meta_block_size, **kwds)\u001b[0m\n\u001b[1;32m    553\u001b[0m     fapl \u001b[38;5;241m=\u001b[39m make_fapl(driver, libver, rdcc_nslots, rdcc_nbytes, rdcc_w0,\n\u001b[1;32m    554\u001b[0m                      locking, page_buf_size, min_meta_keep, min_raw_keep,\n\u001b[1;32m    555\u001b[0m                      alignment_threshold\u001b[38;5;241m=\u001b[39malignment_threshold,\n\u001b[1;32m    556\u001b[0m                      alignment_interval\u001b[38;5;241m=\u001b[39malignment_interval,\n\u001b[1;32m    557\u001b[0m                      meta_block_size\u001b[38;5;241m=\u001b[39mmeta_block_size,\n\u001b[1;32m    558\u001b[0m                      \u001b[38;5;241m*\u001b[39m\u001b[38;5;241m*\u001b[39mkwds)\n\u001b[1;32m    559\u001b[0m     fcpl \u001b[38;5;241m=\u001b[39m make_fcpl(track_order\u001b[38;5;241m=\u001b[39mtrack_order, fs_strategy\u001b[38;5;241m=\u001b[39mfs_strategy,\n\u001b[1;32m    560\u001b[0m                      fs_persist\u001b[38;5;241m=\u001b[39mfs_persist, fs_threshold\u001b[38;5;241m=\u001b[39mfs_threshold,\n\u001b[1;32m    561\u001b[0m                      fs_page_size\u001b[38;5;241m=\u001b[39mfs_page_size)\n\u001b[0;32m--> 562\u001b[0m     fid \u001b[38;5;241m=\u001b[39m \u001b[43mmake_fid\u001b[49m\u001b[43m(\u001b[49m\u001b[43mname\u001b[49m\u001b[43m,\u001b[49m\u001b[43m \u001b[49m\u001b[43mmode\u001b[49m\u001b[43m,\u001b[49m\u001b[43m \u001b[49m\u001b[43muserblock_size\u001b[49m\u001b[43m,\u001b[49m\u001b[43m \u001b[49m\u001b[43mfapl\u001b[49m\u001b[43m,\u001b[49m\u001b[43m \u001b[49m\u001b[43mfcpl\u001b[49m\u001b[43m,\u001b[49m\u001b[43m \u001b[49m\u001b[43mswmr\u001b[49m\u001b[38;5;241;43m=\u001b[39;49m\u001b[43mswmr\u001b[49m\u001b[43m)\u001b[49m\n\u001b[1;32m    564\u001b[0m \u001b[38;5;28;01mif\u001b[39;00m \u001b[38;5;28misinstance\u001b[39m(libver, \u001b[38;5;28mtuple\u001b[39m):\n\u001b[1;32m    565\u001b[0m     \u001b[38;5;28mself\u001b[39m\u001b[38;5;241m.\u001b[39m_libver \u001b[38;5;241m=\u001b[39m libver\n",
      "File \u001b[0;32m~/anaconda3/envs/pytorch_env/lib/python3.12/site-packages/h5py/_hl/files.py:235\u001b[0m, in \u001b[0;36mmake_fid\u001b[0;34m(name, mode, userblock_size, fapl, fcpl, swmr)\u001b[0m\n\u001b[1;32m    233\u001b[0m     \u001b[38;5;28;01mif\u001b[39;00m swmr \u001b[38;5;129;01mand\u001b[39;00m swmr_support:\n\u001b[1;32m    234\u001b[0m         flags \u001b[38;5;241m|\u001b[39m\u001b[38;5;241m=\u001b[39m h5f\u001b[38;5;241m.\u001b[39mACC_SWMR_READ\n\u001b[0;32m--> 235\u001b[0m     fid \u001b[38;5;241m=\u001b[39m \u001b[43mh5f\u001b[49m\u001b[38;5;241;43m.\u001b[39;49m\u001b[43mopen\u001b[49m\u001b[43m(\u001b[49m\u001b[43mname\u001b[49m\u001b[43m,\u001b[49m\u001b[43m \u001b[49m\u001b[43mflags\u001b[49m\u001b[43m,\u001b[49m\u001b[43m \u001b[49m\u001b[43mfapl\u001b[49m\u001b[38;5;241;43m=\u001b[39;49m\u001b[43mfapl\u001b[49m\u001b[43m)\u001b[49m\n\u001b[1;32m    236\u001b[0m \u001b[38;5;28;01melif\u001b[39;00m mode \u001b[38;5;241m==\u001b[39m \u001b[38;5;124m'\u001b[39m\u001b[38;5;124mr+\u001b[39m\u001b[38;5;124m'\u001b[39m:\n\u001b[1;32m    237\u001b[0m     fid \u001b[38;5;241m=\u001b[39m h5f\u001b[38;5;241m.\u001b[39mopen(name, h5f\u001b[38;5;241m.\u001b[39mACC_RDWR, fapl\u001b[38;5;241m=\u001b[39mfapl)\n",
      "File \u001b[0;32mh5py/_objects.pyx:54\u001b[0m, in \u001b[0;36mh5py._objects.with_phil.wrapper\u001b[0;34m()\u001b[0m\n",
      "File \u001b[0;32mh5py/_objects.pyx:55\u001b[0m, in \u001b[0;36mh5py._objects.with_phil.wrapper\u001b[0;34m()\u001b[0m\n",
      "File \u001b[0;32mh5py/h5f.pyx:102\u001b[0m, in \u001b[0;36mh5py.h5f.open\u001b[0;34m()\u001b[0m\n",
      "File \u001b[0;32mh5py/h5g.pyx:271\u001b[0m, in \u001b[0;36mh5py.h5g.GroupID.__init__\u001b[0;34m()\u001b[0m\n",
      "File \u001b[0;32mh5py/h5g.pyx:272\u001b[0m, in \u001b[0;36mh5py.h5g.GroupID.__init__\u001b[0;34m()\u001b[0m\n",
      "File \u001b[0;32m<frozen importlib._bootstrap>:645\u001b[0m, in \u001b[0;36mparent\u001b[0;34m(self)\u001b[0m\n",
      "\u001b[0;31mKeyboardInterrupt\u001b[0m: "
     ]
    }
   ],
   "source": [
    "device = \"mps\" if torch.backends.mps.is_available() else \"cpu\"\n",
    "model = LSTM_Model(input_size=13, hidden_size=64, num_layers=2, output_size=9, bidirectional=False, dropout=0.2, c_norm=True).to(device)\n",
    "train_dataloader, test_dataloader, meta = get_dataloader(\"evaluation1\", batchsize=32, num_workers=0)\n",
    "criterion = torch.nn.CrossEntropyLoss(reduction=\"mean\")\n",
    "optimizer = Adam(model.parameters(), 0.001, weight_decay=1e-5)\n",
    "log = list()\n",
    "for epoch in range(10):\n",
    "    train_loss = train_epoch(model, optimizer, criterion, train_dataloader, device)\n",
    "    test_loss, y_true, y_pred, *_ = test_epoch(model, criterion, test_dataloader, device)\n",
    "    scores1 = metrics(y_true.cpu(), y_pred.cpu())\n",
    "    scores_msg = \", \".join([f\"{k}={v:.2f}\" for (k, v) in scores1.items()])\n",
    "    test_loss = test_loss.cpu().detach().numpy()[0]\n",
    "    train_loss = train_loss.cpu().detach().numpy()[0]\n",
    "    print(f\"epoch {epoch}: trainloss {train_loss:.2f}, testloss {test_loss:.2f} \" + scores_msg)\n",
    "\n",
    "    scores1[\"epoch\"] = epoch\n",
    "    scores1[\"trainloss\"] = train_loss\n",
    "    scores1[\"testloss\"] = test_loss\n",
    "    log.append(scores1)\n",
    "\n",
    "    log_df = pd.DataFrame(log).set_index(\"epoch\")\n",
    "    log_df.to_csv(\"trainlog123.csv\")"
   ]
  },
  {
   "cell_type": "code",
   "execution_count": 74,
   "metadata": {},
   "outputs": [
    {
     "name": "stderr",
     "output_type": "stream",
     "text": [
      "train loss=0.36: 100%|██████████| 13809/13809 [13:34<00:00, 16.96it/s]\n",
      "test loss=1.11: 100%|██████████| 5200/5200 [03:35<00:00, 24.10it/s]\n",
      "/Users/aliyilmaz/anaconda3/envs/pytorch_env/lib/python3.12/site-packages/sklearn/metrics/_classification.py:1509: UndefinedMetricWarning: Precision is ill-defined and being set to 0.0 in labels with no predicted samples. Use `zero_division` parameter to control this behavior.\n",
      "  _warn_prf(average, modifier, f\"{metric.capitalize()} is\", len(result))\n",
      "/Users/aliyilmaz/anaconda3/envs/pytorch_env/lib/python3.12/site-packages/sklearn/metrics/_classification.py:1509: UndefinedMetricWarning: Precision is ill-defined and being set to 0.0 in labels with no predicted samples. Use `zero_division` parameter to control this behavior.\n",
      "  _warn_prf(average, modifier, f\"{metric.capitalize()} is\", len(result))\n"
     ]
    },
    {
     "name": "stdout",
     "output_type": "stream",
     "text": [
      "epoch 0: trainloss 2.35, testloss 0.79 accuracy=0.72, kappa=0.63, f1_micro=0.72, f1_macro=0.46, f1_weighted=0.68, recall_micro=0.72, recall_macro=0.50, recall_weighted=0.72, precision_micro=0.72, precision_macro=0.48, precision_weighted=0.72\n"
     ]
    },
    {
     "name": "stderr",
     "output_type": "stream",
     "text": [
      "train loss=0.28: 100%|██████████| 13809/13809 [13:38<00:00, 16.87it/s]\n",
      "test loss=1.01: 100%|██████████| 5200/5200 [03:33<00:00, 24.30it/s]\n",
      "/Users/aliyilmaz/anaconda3/envs/pytorch_env/lib/python3.12/site-packages/sklearn/metrics/_classification.py:1509: UndefinedMetricWarning: Precision is ill-defined and being set to 0.0 in labels with no predicted samples. Use `zero_division` parameter to control this behavior.\n",
      "  _warn_prf(average, modifier, f\"{metric.capitalize()} is\", len(result))\n",
      "/Users/aliyilmaz/anaconda3/envs/pytorch_env/lib/python3.12/site-packages/sklearn/metrics/_classification.py:1509: UndefinedMetricWarning: Precision is ill-defined and being set to 0.0 in labels with no predicted samples. Use `zero_division` parameter to control this behavior.\n",
      "  _warn_prf(average, modifier, f\"{metric.capitalize()} is\", len(result))\n"
     ]
    },
    {
     "name": "stdout",
     "output_type": "stream",
     "text": [
      "epoch 1: trainloss 0.52, testloss 0.41 accuracy=0.75, kappa=0.68, f1_micro=0.75, f1_macro=0.51, f1_weighted=0.74, recall_micro=0.75, recall_macro=0.53, recall_weighted=0.75, precision_micro=0.75, precision_macro=0.50, precision_weighted=0.74\n"
     ]
    },
    {
     "name": "stderr",
     "output_type": "stream",
     "text": [
      "train loss=0.38: 100%|██████████| 13809/13809 [13:50<00:00, 16.62it/s]\n",
      "test loss=0.99: 100%|██████████| 5200/5200 [03:34<00:00, 24.23it/s]\n",
      "/Users/aliyilmaz/anaconda3/envs/pytorch_env/lib/python3.12/site-packages/sklearn/metrics/_classification.py:1509: UndefinedMetricWarning: Precision is ill-defined and being set to 0.0 in labels with no predicted samples. Use `zero_division` parameter to control this behavior.\n",
      "  _warn_prf(average, modifier, f\"{metric.capitalize()} is\", len(result))\n",
      "/Users/aliyilmaz/anaconda3/envs/pytorch_env/lib/python3.12/site-packages/sklearn/metrics/_classification.py:1509: UndefinedMetricWarning: Precision is ill-defined and being set to 0.0 in labels with no predicted samples. Use `zero_division` parameter to control this behavior.\n",
      "  _warn_prf(average, modifier, f\"{metric.capitalize()} is\", len(result))\n"
     ]
    },
    {
     "name": "stdout",
     "output_type": "stream",
     "text": [
      "epoch 2: trainloss 0.34, testloss 0.55 accuracy=0.76, kappa=0.69, f1_micro=0.76, f1_macro=0.53, f1_weighted=0.76, recall_micro=0.76, recall_macro=0.54, recall_weighted=0.76, precision_micro=0.76, precision_macro=0.53, precision_weighted=0.76\n"
     ]
    },
    {
     "name": "stderr",
     "output_type": "stream",
     "text": [
      "train loss=0.36: 100%|██████████| 13809/13809 [13:51<00:00, 16.62it/s]\n",
      "test loss=0.93: 100%|██████████| 5200/5200 [03:34<00:00, 24.29it/s]\n",
      "/Users/aliyilmaz/anaconda3/envs/pytorch_env/lib/python3.12/site-packages/sklearn/metrics/_classification.py:1509: UndefinedMetricWarning: Precision is ill-defined and being set to 0.0 in labels with no predicted samples. Use `zero_division` parameter to control this behavior.\n",
      "  _warn_prf(average, modifier, f\"{metric.capitalize()} is\", len(result))\n",
      "/Users/aliyilmaz/anaconda3/envs/pytorch_env/lib/python3.12/site-packages/sklearn/metrics/_classification.py:1509: UndefinedMetricWarning: Precision is ill-defined and being set to 0.0 in labels with no predicted samples. Use `zero_division` parameter to control this behavior.\n",
      "  _warn_prf(average, modifier, f\"{metric.capitalize()} is\", len(result))\n"
     ]
    },
    {
     "name": "stdout",
     "output_type": "stream",
     "text": [
      "epoch 3: trainloss 0.41, testloss 0.48 accuracy=0.75, kappa=0.67, f1_micro=0.75, f1_macro=0.50, f1_weighted=0.71, recall_micro=0.75, recall_macro=0.52, recall_weighted=0.75, precision_micro=0.75, precision_macro=0.52, precision_weighted=0.75\n"
     ]
    },
    {
     "name": "stderr",
     "output_type": "stream",
     "text": [
      "train loss=0.60: 100%|██████████| 13809/13809 [13:54<00:00, 16.54it/s]\n",
      "test loss=1.13: 100%|██████████| 5200/5200 [03:34<00:00, 24.24it/s]\n",
      "/Users/aliyilmaz/anaconda3/envs/pytorch_env/lib/python3.12/site-packages/sklearn/metrics/_classification.py:1509: UndefinedMetricWarning: Precision is ill-defined and being set to 0.0 in labels with no predicted samples. Use `zero_division` parameter to control this behavior.\n",
      "  _warn_prf(average, modifier, f\"{metric.capitalize()} is\", len(result))\n",
      "/Users/aliyilmaz/anaconda3/envs/pytorch_env/lib/python3.12/site-packages/sklearn/metrics/_classification.py:1509: UndefinedMetricWarning: Precision is ill-defined and being set to 0.0 in labels with no predicted samples. Use `zero_division` parameter to control this behavior.\n",
      "  _warn_prf(average, modifier, f\"{metric.capitalize()} is\", len(result))\n"
     ]
    },
    {
     "name": "stdout",
     "output_type": "stream",
     "text": [
      "epoch 4: trainloss 0.44, testloss 0.54 accuracy=0.77, kappa=0.69, f1_micro=0.77, f1_macro=0.51, f1_weighted=0.74, recall_micro=0.77, recall_macro=0.53, recall_weighted=0.77, precision_micro=0.77, precision_macro=0.52, precision_weighted=0.76\n"
     ]
    },
    {
     "name": "stderr",
     "output_type": "stream",
     "text": [
      "train loss=0.23: 100%|██████████| 13809/13809 [13:52<00:00, 16.58it/s]\n",
      "test loss=1.06: 100%|██████████| 5200/5200 [03:34<00:00, 24.20it/s]\n",
      "/Users/aliyilmaz/anaconda3/envs/pytorch_env/lib/python3.12/site-packages/sklearn/metrics/_classification.py:1509: UndefinedMetricWarning: Precision is ill-defined and being set to 0.0 in labels with no predicted samples. Use `zero_division` parameter to control this behavior.\n",
      "  _warn_prf(average, modifier, f\"{metric.capitalize()} is\", len(result))\n",
      "/Users/aliyilmaz/anaconda3/envs/pytorch_env/lib/python3.12/site-packages/sklearn/metrics/_classification.py:1509: UndefinedMetricWarning: Precision is ill-defined and being set to 0.0 in labels with no predicted samples. Use `zero_division` parameter to control this behavior.\n",
      "  _warn_prf(average, modifier, f\"{metric.capitalize()} is\", len(result))\n"
     ]
    },
    {
     "name": "stdout",
     "output_type": "stream",
     "text": [
      "epoch 5: trainloss 0.57, testloss 0.51 accuracy=0.77, kappa=0.70, f1_micro=0.77, f1_macro=0.53, f1_weighted=0.76, recall_micro=0.77, recall_macro=0.54, recall_weighted=0.77, precision_micro=0.77, precision_macro=0.53, precision_weighted=0.76\n"
     ]
    },
    {
     "name": "stderr",
     "output_type": "stream",
     "text": [
      "train loss=0.29: 100%|██████████| 13809/13809 [13:54<00:00, 16.55it/s]\n",
      "test loss=1.34: 100%|██████████| 5200/5200 [03:34<00:00, 24.27it/s]\n",
      "/Users/aliyilmaz/anaconda3/envs/pytorch_env/lib/python3.12/site-packages/sklearn/metrics/_classification.py:1509: UndefinedMetricWarning: Precision is ill-defined and being set to 0.0 in labels with no predicted samples. Use `zero_division` parameter to control this behavior.\n",
      "  _warn_prf(average, modifier, f\"{metric.capitalize()} is\", len(result))\n",
      "/Users/aliyilmaz/anaconda3/envs/pytorch_env/lib/python3.12/site-packages/sklearn/metrics/_classification.py:1509: UndefinedMetricWarning: Precision is ill-defined and being set to 0.0 in labels with no predicted samples. Use `zero_division` parameter to control this behavior.\n",
      "  _warn_prf(average, modifier, f\"{metric.capitalize()} is\", len(result))\n"
     ]
    },
    {
     "name": "stdout",
     "output_type": "stream",
     "text": [
      "epoch 6: trainloss 0.40, testloss 0.47 accuracy=0.77, kappa=0.69, f1_micro=0.77, f1_macro=0.52, f1_weighted=0.74, recall_micro=0.77, recall_macro=0.54, recall_weighted=0.77, precision_micro=0.77, precision_macro=0.52, precision_weighted=0.75\n"
     ]
    },
    {
     "name": "stderr",
     "output_type": "stream",
     "text": [
      "train loss=0.43: 100%|██████████| 13809/13809 [13:54<00:00, 16.54it/s]\n",
      "test loss=0.91: 100%|██████████| 5200/5200 [03:33<00:00, 24.32it/s]\n",
      "/Users/aliyilmaz/anaconda3/envs/pytorch_env/lib/python3.12/site-packages/sklearn/metrics/_classification.py:1509: UndefinedMetricWarning: Precision is ill-defined and being set to 0.0 in labels with no predicted samples. Use `zero_division` parameter to control this behavior.\n",
      "  _warn_prf(average, modifier, f\"{metric.capitalize()} is\", len(result))\n",
      "/Users/aliyilmaz/anaconda3/envs/pytorch_env/lib/python3.12/site-packages/sklearn/metrics/_classification.py:1509: UndefinedMetricWarning: Precision is ill-defined and being set to 0.0 in labels with no predicted samples. Use `zero_division` parameter to control this behavior.\n",
      "  _warn_prf(average, modifier, f\"{metric.capitalize()} is\", len(result))\n"
     ]
    },
    {
     "name": "stdout",
     "output_type": "stream",
     "text": [
      "epoch 7: trainloss 0.36, testloss 0.43 accuracy=0.77, kappa=0.69, f1_micro=0.77, f1_macro=0.52, f1_weighted=0.74, recall_micro=0.77, recall_macro=0.53, recall_weighted=0.77, precision_micro=0.77, precision_macro=0.54, precision_weighted=0.76\n"
     ]
    },
    {
     "name": "stderr",
     "output_type": "stream",
     "text": [
      "train loss=0.27: 100%|██████████| 13809/13809 [13:54<00:00, 16.54it/s]\n",
      "test loss=0.69: 100%|██████████| 5200/5200 [03:30<00:00, 24.65it/s]\n",
      "/Users/aliyilmaz/anaconda3/envs/pytorch_env/lib/python3.12/site-packages/sklearn/metrics/_classification.py:1509: UndefinedMetricWarning: Precision is ill-defined and being set to 0.0 in labels with no predicted samples. Use `zero_division` parameter to control this behavior.\n",
      "  _warn_prf(average, modifier, f\"{metric.capitalize()} is\", len(result))\n",
      "/Users/aliyilmaz/anaconda3/envs/pytorch_env/lib/python3.12/site-packages/sklearn/metrics/_classification.py:1509: UndefinedMetricWarning: Precision is ill-defined and being set to 0.0 in labels with no predicted samples. Use `zero_division` parameter to control this behavior.\n",
      "  _warn_prf(average, modifier, f\"{metric.capitalize()} is\", len(result))\n"
     ]
    },
    {
     "name": "stdout",
     "output_type": "stream",
     "text": [
      "epoch 8: trainloss 0.42, testloss 0.70 accuracy=0.77, kappa=0.70, f1_micro=0.77, f1_macro=0.53, f1_weighted=0.76, recall_micro=0.77, recall_macro=0.54, recall_weighted=0.77, precision_micro=0.77, precision_macro=0.53, precision_weighted=0.76\n"
     ]
    },
    {
     "name": "stderr",
     "output_type": "stream",
     "text": [
      "train loss=0.53: 100%|██████████| 13809/13809 [13:44<00:00, 16.75it/s]\n",
      "test loss=0.89: 100%|██████████| 5200/5200 [03:34<00:00, 24.28it/s]\n"
     ]
    },
    {
     "name": "stdout",
     "output_type": "stream",
     "text": [
      "epoch 9: trainloss 0.58, testloss 0.38 accuracy=0.78, kappa=0.71, f1_micro=0.78, f1_macro=0.54, f1_weighted=0.76, recall_micro=0.78, recall_macro=0.55, recall_weighted=0.78, precision_micro=0.78, precision_macro=0.54, precision_weighted=0.76\n"
     ]
    },
    {
     "name": "stderr",
     "output_type": "stream",
     "text": [
      "/Users/aliyilmaz/anaconda3/envs/pytorch_env/lib/python3.12/site-packages/sklearn/metrics/_classification.py:1509: UndefinedMetricWarning: Precision is ill-defined and being set to 0.0 in labels with no predicted samples. Use `zero_division` parameter to control this behavior.\n",
      "  _warn_prf(average, modifier, f\"{metric.capitalize()} is\", len(result))\n",
      "/Users/aliyilmaz/anaconda3/envs/pytorch_env/lib/python3.12/site-packages/sklearn/metrics/_classification.py:1509: UndefinedMetricWarning: Precision is ill-defined and being set to 0.0 in labels with no predicted samples. Use `zero_division` parameter to control this behavior.\n",
      "  _warn_prf(average, modifier, f\"{metric.capitalize()} is\", len(result))\n"
     ]
    }
   ],
   "source": [
    "device = \"mps\" if torch.backends.mps.is_available() else \"cpu\"\n",
    "model = LSTM_Model(input_size=13, hidden_size=64, num_layers=2, output_size=9, bidirectional=False, dropout=0.2, c_norm=True).to(device)\n",
    "train_dataloader, test_dataloader, meta = get_dataloader(\"evaluation2\", batchsize=32, num_workers=0)\n",
    "criterion = torch.nn.CrossEntropyLoss(reduction=\"mean\")\n",
    "optimizer = Adam(model.parameters(), 0.005, weight_decay=1e-6)\n",
    "log = list()\n",
    "for epoch in range(10):\n",
    "    train_loss = train_epoch(model, optimizer, criterion, train_dataloader, device)\n",
    "    test_loss, y_true, y_pred, *_ = test_epoch(model, criterion, test_dataloader, device)\n",
    "    scores2 = metrics(y_true.cpu(), y_pred.cpu())\n",
    "    scores_msg = \", \".join([f\"{k}={v:.2f}\" for (k, v) in scores2.items()])\n",
    "    test_loss = test_loss.cpu().detach().numpy()[0]\n",
    "    train_loss = train_loss.cpu().detach().numpy()[0]\n",
    "    print(f\"epoch {epoch}: trainloss {train_loss:.2f}, testloss {test_loss:.2f} \" + scores_msg)\n",
    "\n",
    "    scores2[\"epoch\"] = epoch\n",
    "    scores2[\"trainloss\"] = train_loss\n",
    "    scores2[\"testloss\"] = test_loss\n",
    "    log.append(scores2)\n",
    "\n",
    "    log_df = pd.DataFrame(log).set_index(\"epoch\")\n",
    "    log_df.to_csv(\"trainlog124.csv\")"
   ]
  },
  {
   "cell_type": "code",
   "execution_count": 75,
   "metadata": {},
   "outputs": [
    {
     "name": "stderr",
     "output_type": "stream",
     "text": [
      "train loss=0.75: 100%|██████████| 14614/14614 [14:20<00:00, 16.99it/s]\n",
      "test loss=0.75: 100%|██████████| 4396/4396 [03:00<00:00, 24.40it/s]\n",
      "/Users/aliyilmaz/anaconda3/envs/pytorch_env/lib/python3.12/site-packages/sklearn/metrics/_classification.py:1509: UndefinedMetricWarning: Precision is ill-defined and being set to 0.0 in labels with no predicted samples. Use `zero_division` parameter to control this behavior.\n",
      "  _warn_prf(average, modifier, f\"{metric.capitalize()} is\", len(result))\n",
      "/Users/aliyilmaz/anaconda3/envs/pytorch_env/lib/python3.12/site-packages/sklearn/metrics/_classification.py:1509: UndefinedMetricWarning: Precision is ill-defined and being set to 0.0 in labels with no predicted samples. Use `zero_division` parameter to control this behavior.\n",
      "  _warn_prf(average, modifier, f\"{metric.capitalize()} is\", len(result))\n"
     ]
    },
    {
     "name": "stdout",
     "output_type": "stream",
     "text": [
      "epoch 0: trainloss 2.08, testloss 0.59 accuracy=0.75, kappa=0.67, f1_micro=0.75, f1_macro=0.51, f1_weighted=0.74, recall_micro=0.75, recall_macro=0.51, recall_weighted=0.75, precision_micro=0.75, precision_macro=0.53, precision_weighted=0.76\n"
     ]
    },
    {
     "name": "stderr",
     "output_type": "stream",
     "text": [
      "train loss=0.55: 100%|██████████| 14614/14614 [14:41<00:00, 16.57it/s]\n",
      "test loss=0.73: 100%|██████████| 4396/4396 [03:02<00:00, 24.08it/s]\n",
      "/Users/aliyilmaz/anaconda3/envs/pytorch_env/lib/python3.12/site-packages/sklearn/metrics/_classification.py:1509: UndefinedMetricWarning: Precision is ill-defined and being set to 0.0 in labels with no predicted samples. Use `zero_division` parameter to control this behavior.\n",
      "  _warn_prf(average, modifier, f\"{metric.capitalize()} is\", len(result))\n",
      "/Users/aliyilmaz/anaconda3/envs/pytorch_env/lib/python3.12/site-packages/sklearn/metrics/_classification.py:1509: UndefinedMetricWarning: Precision is ill-defined and being set to 0.0 in labels with no predicted samples. Use `zero_division` parameter to control this behavior.\n",
      "  _warn_prf(average, modifier, f\"{metric.capitalize()} is\", len(result))\n"
     ]
    },
    {
     "name": "stdout",
     "output_type": "stream",
     "text": [
      "epoch 1: trainloss 0.43, testloss 0.98 accuracy=0.75, kappa=0.67, f1_micro=0.75, f1_macro=0.53, f1_weighted=0.74, recall_micro=0.75, recall_macro=0.52, recall_weighted=0.75, precision_micro=0.75, precision_macro=0.55, precision_weighted=0.77\n"
     ]
    },
    {
     "name": "stderr",
     "output_type": "stream",
     "text": [
      "train loss=0.23: 100%|██████████| 14614/14614 [14:37<00:00, 16.65it/s]\n",
      "test loss=0.78: 100%|██████████| 4396/4396 [03:05<00:00, 23.76it/s]\n",
      "/Users/aliyilmaz/anaconda3/envs/pytorch_env/lib/python3.12/site-packages/sklearn/metrics/_classification.py:1509: UndefinedMetricWarning: Precision is ill-defined and being set to 0.0 in labels with no predicted samples. Use `zero_division` parameter to control this behavior.\n",
      "  _warn_prf(average, modifier, f\"{metric.capitalize()} is\", len(result))\n",
      "/Users/aliyilmaz/anaconda3/envs/pytorch_env/lib/python3.12/site-packages/sklearn/metrics/_classification.py:1509: UndefinedMetricWarning: Precision is ill-defined and being set to 0.0 in labels with no predicted samples. Use `zero_division` parameter to control this behavior.\n",
      "  _warn_prf(average, modifier, f\"{metric.capitalize()} is\", len(result))\n"
     ]
    },
    {
     "name": "stdout",
     "output_type": "stream",
     "text": [
      "epoch 2: trainloss 0.85, testloss 0.86 accuracy=0.77, kappa=0.70, f1_micro=0.77, f1_macro=0.54, f1_weighted=0.76, recall_micro=0.77, recall_macro=0.54, recall_weighted=0.77, precision_micro=0.77, precision_macro=0.55, precision_weighted=0.78\n"
     ]
    },
    {
     "name": "stderr",
     "output_type": "stream",
     "text": [
      "train loss=0.75: 100%|██████████| 14614/14614 [14:42<00:00, 16.57it/s]\n",
      "test loss=0.74: 100%|██████████| 4396/4396 [03:03<00:00, 23.95it/s]\n",
      "/Users/aliyilmaz/anaconda3/envs/pytorch_env/lib/python3.12/site-packages/sklearn/metrics/_classification.py:1509: UndefinedMetricWarning: Precision is ill-defined and being set to 0.0 in labels with no predicted samples. Use `zero_division` parameter to control this behavior.\n",
      "  _warn_prf(average, modifier, f\"{metric.capitalize()} is\", len(result))\n",
      "/Users/aliyilmaz/anaconda3/envs/pytorch_env/lib/python3.12/site-packages/sklearn/metrics/_classification.py:1509: UndefinedMetricWarning: Precision is ill-defined and being set to 0.0 in labels with no predicted samples. Use `zero_division` parameter to control this behavior.\n",
      "  _warn_prf(average, modifier, f\"{metric.capitalize()} is\", len(result))\n"
     ]
    },
    {
     "name": "stdout",
     "output_type": "stream",
     "text": [
      "epoch 3: trainloss 0.52, testloss 0.56 accuracy=0.77, kappa=0.70, f1_micro=0.77, f1_macro=0.54, f1_weighted=0.77, recall_micro=0.77, recall_macro=0.53, recall_weighted=0.77, precision_micro=0.77, precision_macro=0.56, precision_weighted=0.77\n"
     ]
    },
    {
     "name": "stderr",
     "output_type": "stream",
     "text": [
      "train loss=0.13: 100%|██████████| 14614/14614 [14:23<00:00, 16.93it/s]\n",
      "test loss=0.95: 100%|██████████| 4396/4396 [03:02<00:00, 24.15it/s]\n",
      "/Users/aliyilmaz/anaconda3/envs/pytorch_env/lib/python3.12/site-packages/sklearn/metrics/_classification.py:1509: UndefinedMetricWarning: Precision is ill-defined and being set to 0.0 in labels with no predicted samples. Use `zero_division` parameter to control this behavior.\n",
      "  _warn_prf(average, modifier, f\"{metric.capitalize()} is\", len(result))\n",
      "/Users/aliyilmaz/anaconda3/envs/pytorch_env/lib/python3.12/site-packages/sklearn/metrics/_classification.py:1509: UndefinedMetricWarning: Precision is ill-defined and being set to 0.0 in labels with no predicted samples. Use `zero_division` parameter to control this behavior.\n",
      "  _warn_prf(average, modifier, f\"{metric.capitalize()} is\", len(result))\n"
     ]
    },
    {
     "name": "stdout",
     "output_type": "stream",
     "text": [
      "epoch 4: trainloss 0.36, testloss 0.75 accuracy=0.74, kappa=0.66, f1_micro=0.74, f1_macro=0.52, f1_weighted=0.71, recall_micro=0.74, recall_macro=0.53, recall_weighted=0.74, precision_micro=0.74, precision_macro=0.57, precision_weighted=0.79\n"
     ]
    },
    {
     "name": "stderr",
     "output_type": "stream",
     "text": [
      "train loss=0.07: 100%|██████████| 14614/14614 [14:39<00:00, 16.62it/s]\n",
      "test loss=0.68: 100%|██████████| 4396/4396 [02:58<00:00, 24.63it/s]\n",
      "/Users/aliyilmaz/anaconda3/envs/pytorch_env/lib/python3.12/site-packages/sklearn/metrics/_classification.py:1509: UndefinedMetricWarning: Precision is ill-defined and being set to 0.0 in labels with no predicted samples. Use `zero_division` parameter to control this behavior.\n",
      "  _warn_prf(average, modifier, f\"{metric.capitalize()} is\", len(result))\n",
      "/Users/aliyilmaz/anaconda3/envs/pytorch_env/lib/python3.12/site-packages/sklearn/metrics/_classification.py:1509: UndefinedMetricWarning: Precision is ill-defined and being set to 0.0 in labels with no predicted samples. Use `zero_division` parameter to control this behavior.\n",
      "  _warn_prf(average, modifier, f\"{metric.capitalize()} is\", len(result))\n"
     ]
    },
    {
     "name": "stdout",
     "output_type": "stream",
     "text": [
      "epoch 5: trainloss 0.58, testloss 0.64 accuracy=0.78, kappa=0.71, f1_micro=0.78, f1_macro=0.55, f1_weighted=0.77, recall_micro=0.78, recall_macro=0.55, recall_weighted=0.78, precision_micro=0.78, precision_macro=0.56, precision_weighted=0.78\n"
     ]
    },
    {
     "name": "stderr",
     "output_type": "stream",
     "text": [
      "train loss=0.29: 100%|██████████| 14614/14614 [14:33<00:00, 16.73it/s]\n",
      "test loss=0.57: 100%|██████████| 4396/4396 [03:10<00:00, 23.04it/s]\n",
      "/Users/aliyilmaz/anaconda3/envs/pytorch_env/lib/python3.12/site-packages/sklearn/metrics/_classification.py:1509: UndefinedMetricWarning: Precision is ill-defined and being set to 0.0 in labels with no predicted samples. Use `zero_division` parameter to control this behavior.\n",
      "  _warn_prf(average, modifier, f\"{metric.capitalize()} is\", len(result))\n",
      "/Users/aliyilmaz/anaconda3/envs/pytorch_env/lib/python3.12/site-packages/sklearn/metrics/_classification.py:1509: UndefinedMetricWarning: Precision is ill-defined and being set to 0.0 in labels with no predicted samples. Use `zero_division` parameter to control this behavior.\n",
      "  _warn_prf(average, modifier, f\"{metric.capitalize()} is\", len(result))\n"
     ]
    },
    {
     "name": "stdout",
     "output_type": "stream",
     "text": [
      "epoch 6: trainloss 0.48, testloss 0.59 accuracy=0.78, kappa=0.71, f1_micro=0.78, f1_macro=0.55, f1_weighted=0.78, recall_micro=0.78, recall_macro=0.55, recall_weighted=0.78, precision_micro=0.78, precision_macro=0.57, precision_weighted=0.78\n"
     ]
    },
    {
     "name": "stderr",
     "output_type": "stream",
     "text": [
      "train loss=0.51: 100%|██████████| 14614/14614 [15:01<00:00, 16.22it/s]\n",
      "test loss=0.65: 100%|██████████| 4396/4396 [03:06<00:00, 23.51it/s]\n",
      "/Users/aliyilmaz/anaconda3/envs/pytorch_env/lib/python3.12/site-packages/sklearn/metrics/_classification.py:1509: UndefinedMetricWarning: Precision is ill-defined and being set to 0.0 in labels with no predicted samples. Use `zero_division` parameter to control this behavior.\n",
      "  _warn_prf(average, modifier, f\"{metric.capitalize()} is\", len(result))\n",
      "/Users/aliyilmaz/anaconda3/envs/pytorch_env/lib/python3.12/site-packages/sklearn/metrics/_classification.py:1509: UndefinedMetricWarning: Precision is ill-defined and being set to 0.0 in labels with no predicted samples. Use `zero_division` parameter to control this behavior.\n",
      "  _warn_prf(average, modifier, f\"{metric.capitalize()} is\", len(result))\n"
     ]
    },
    {
     "name": "stdout",
     "output_type": "stream",
     "text": [
      "epoch 7: trainloss 0.35, testloss 0.53 accuracy=0.77, kappa=0.70, f1_micro=0.77, f1_macro=0.55, f1_weighted=0.76, recall_micro=0.77, recall_macro=0.54, recall_weighted=0.77, precision_micro=0.77, precision_macro=0.57, precision_weighted=0.79\n"
     ]
    },
    {
     "name": "stderr",
     "output_type": "stream",
     "text": [
      "train loss=0.38: 100%|██████████| 14614/14614 [14:28<00:00, 16.83it/s]\n",
      "test loss=0.72: 100%|██████████| 4396/4396 [03:08<00:00, 23.29it/s]\n",
      "/Users/aliyilmaz/anaconda3/envs/pytorch_env/lib/python3.12/site-packages/sklearn/metrics/_classification.py:1509: UndefinedMetricWarning: Precision is ill-defined and being set to 0.0 in labels with no predicted samples. Use `zero_division` parameter to control this behavior.\n",
      "  _warn_prf(average, modifier, f\"{metric.capitalize()} is\", len(result))\n",
      "/Users/aliyilmaz/anaconda3/envs/pytorch_env/lib/python3.12/site-packages/sklearn/metrics/_classification.py:1509: UndefinedMetricWarning: Precision is ill-defined and being set to 0.0 in labels with no predicted samples. Use `zero_division` parameter to control this behavior.\n",
      "  _warn_prf(average, modifier, f\"{metric.capitalize()} is\", len(result))\n"
     ]
    },
    {
     "name": "stdout",
     "output_type": "stream",
     "text": [
      "epoch 8: trainloss 0.38, testloss 0.65 accuracy=0.77, kappa=0.70, f1_micro=0.77, f1_macro=0.54, f1_weighted=0.76, recall_micro=0.77, recall_macro=0.54, recall_weighted=0.77, precision_micro=0.77, precision_macro=0.57, precision_weighted=0.79\n"
     ]
    },
    {
     "name": "stderr",
     "output_type": "stream",
     "text": [
      "train loss=0.01: 100%|██████████| 14614/14614 [14:53<00:00, 16.35it/s]\n",
      "test loss=0.66: 100%|██████████| 4396/4396 [03:09<00:00, 23.25it/s]\n"
     ]
    },
    {
     "name": "stdout",
     "output_type": "stream",
     "text": [
      "epoch 9: trainloss 0.36, testloss 0.66 accuracy=0.78, kappa=0.72, f1_micro=0.78, f1_macro=0.55, f1_weighted=0.78, recall_micro=0.78, recall_macro=0.54, recall_weighted=0.78, precision_micro=0.78, precision_macro=0.57, precision_weighted=0.78\n"
     ]
    },
    {
     "name": "stderr",
     "output_type": "stream",
     "text": [
      "/Users/aliyilmaz/anaconda3/envs/pytorch_env/lib/python3.12/site-packages/sklearn/metrics/_classification.py:1509: UndefinedMetricWarning: Precision is ill-defined and being set to 0.0 in labels with no predicted samples. Use `zero_division` parameter to control this behavior.\n",
      "  _warn_prf(average, modifier, f\"{metric.capitalize()} is\", len(result))\n",
      "/Users/aliyilmaz/anaconda3/envs/pytorch_env/lib/python3.12/site-packages/sklearn/metrics/_classification.py:1509: UndefinedMetricWarning: Precision is ill-defined and being set to 0.0 in labels with no predicted samples. Use `zero_division` parameter to control this behavior.\n",
      "  _warn_prf(average, modifier, f\"{metric.capitalize()} is\", len(result))\n"
     ]
    }
   ],
   "source": [
    "device = \"mps\" if torch.backends.mps.is_available() else \"cpu\"\n",
    "model = LSTM_Model(input_size=13, hidden_size=64, num_layers=2, output_size=9, bidirectional=False, dropout=0.2, c_norm=True).to(device)\n",
    "train_dataloader, test_dataloader, meta = get_dataloader(\"evaluation3\", batchsize=32, num_workers=0)\n",
    "criterion = torch.nn.CrossEntropyLoss(reduction=\"mean\")\n",
    "optimizer = Adam(model.parameters(), 0.005, weight_decay=1e-6)\n",
    "log = list()\n",
    "for epoch in range(10):\n",
    "    train_loss = train_epoch(model, optimizer, criterion, train_dataloader, device)\n",
    "    test_loss, y_true, y_pred, *_ = test_epoch(model, criterion, test_dataloader, device)\n",
    "    scores3 = metrics(y_true.cpu(), y_pred.cpu())\n",
    "    scores_msg = \", \".join([f\"{k}={v:.2f}\" for (k, v) in scores3.items()])\n",
    "    test_loss = test_loss.cpu().detach().numpy()[0]\n",
    "    train_loss = train_loss.cpu().detach().numpy()[0]\n",
    "    print(f\"epoch {epoch}: trainloss {train_loss:.2f}, testloss {test_loss:.2f} \" + scores_msg)\n",
    "\n",
    "    scores3[\"epoch\"] = epoch\n",
    "    scores3[\"trainloss\"] = train_loss\n",
    "    scores3[\"testloss\"] = test_loss\n",
    "    log.append(scores3)\n",
    "\n",
    "    log_df = pd.DataFrame(log).set_index(\"epoch\")\n",
    "    log_df.to_csv(\"trainlog134.csv\")"
   ]
  },
  {
   "cell_type": "code",
   "execution_count": 76,
   "metadata": {},
   "outputs": [
    {
     "name": "stderr",
     "output_type": "stream",
     "text": [
      "train loss=0.49: 100%|██████████| 13427/13427 [12:47<00:00, 17.49it/s]\n",
      "test loss=0.92: 100%|██████████| 5582/5582 [03:53<00:00, 23.89it/s]\n",
      "/Users/aliyilmaz/anaconda3/envs/pytorch_env/lib/python3.12/site-packages/sklearn/metrics/_classification.py:1509: UndefinedMetricWarning: Precision is ill-defined and being set to 0.0 in labels with no predicted samples. Use `zero_division` parameter to control this behavior.\n",
      "  _warn_prf(average, modifier, f\"{metric.capitalize()} is\", len(result))\n",
      "/Users/aliyilmaz/anaconda3/envs/pytorch_env/lib/python3.12/site-packages/sklearn/metrics/_classification.py:1509: UndefinedMetricWarning: Precision is ill-defined and being set to 0.0 in labels with no predicted samples. Use `zero_division` parameter to control this behavior.\n",
      "  _warn_prf(average, modifier, f\"{metric.capitalize()} is\", len(result))\n"
     ]
    },
    {
     "name": "stdout",
     "output_type": "stream",
     "text": [
      "epoch 0: trainloss 2.77, testloss 0.31 accuracy=0.77, kappa=0.70, f1_micro=0.77, f1_macro=0.53, f1_weighted=0.77, recall_micro=0.77, recall_macro=0.52, recall_weighted=0.77, precision_micro=0.77, precision_macro=0.55, precision_weighted=0.77\n"
     ]
    },
    {
     "name": "stderr",
     "output_type": "stream",
     "text": [
      "train loss=0.48: 100%|██████████| 13427/13427 [13:11<00:00, 16.97it/s]\n",
      "test loss=1.70: 100%|██████████| 5582/5582 [04:10<00:00, 22.25it/s]\n",
      "/Users/aliyilmaz/anaconda3/envs/pytorch_env/lib/python3.12/site-packages/sklearn/metrics/_classification.py:1509: UndefinedMetricWarning: Precision is ill-defined and being set to 0.0 in labels with no predicted samples. Use `zero_division` parameter to control this behavior.\n",
      "  _warn_prf(average, modifier, f\"{metric.capitalize()} is\", len(result))\n",
      "/Users/aliyilmaz/anaconda3/envs/pytorch_env/lib/python3.12/site-packages/sklearn/metrics/_classification.py:1509: UndefinedMetricWarning: Precision is ill-defined and being set to 0.0 in labels with no predicted samples. Use `zero_division` parameter to control this behavior.\n",
      "  _warn_prf(average, modifier, f\"{metric.capitalize()} is\", len(result))\n"
     ]
    },
    {
     "name": "stdout",
     "output_type": "stream",
     "text": [
      "epoch 1: trainloss 0.66, testloss 0.32 accuracy=0.79, kappa=0.73, f1_micro=0.79, f1_macro=0.54, f1_weighted=0.78, recall_micro=0.79, recall_macro=0.53, recall_weighted=0.79, precision_micro=0.79, precision_macro=0.55, precision_weighted=0.78\n"
     ]
    },
    {
     "name": "stderr",
     "output_type": "stream",
     "text": [
      "train loss=1.02: 100%|██████████| 13427/13427 [13:34<00:00, 16.49it/s]\n",
      "test loss=0.98: 100%|██████████| 5582/5582 [04:24<00:00, 21.13it/s]\n",
      "/Users/aliyilmaz/anaconda3/envs/pytorch_env/lib/python3.12/site-packages/sklearn/metrics/_classification.py:1509: UndefinedMetricWarning: Precision is ill-defined and being set to 0.0 in labels with no predicted samples. Use `zero_division` parameter to control this behavior.\n",
      "  _warn_prf(average, modifier, f\"{metric.capitalize()} is\", len(result))\n",
      "/Users/aliyilmaz/anaconda3/envs/pytorch_env/lib/python3.12/site-packages/sklearn/metrics/_classification.py:1509: UndefinedMetricWarning: Precision is ill-defined and being set to 0.0 in labels with no predicted samples. Use `zero_division` parameter to control this behavior.\n",
      "  _warn_prf(average, modifier, f\"{metric.capitalize()} is\", len(result))\n"
     ]
    },
    {
     "name": "stdout",
     "output_type": "stream",
     "text": [
      "epoch 2: trainloss 0.69, testloss 0.32 accuracy=0.79, kappa=0.73, f1_micro=0.79, f1_macro=0.54, f1_weighted=0.79, recall_micro=0.79, recall_macro=0.54, recall_weighted=0.79, precision_micro=0.79, precision_macro=0.55, precision_weighted=0.79\n"
     ]
    },
    {
     "name": "stderr",
     "output_type": "stream",
     "text": [
      "train loss=0.54: 100%|██████████| 13427/13427 [14:17<00:00, 15.65it/s]\n",
      "test loss=0.87: 100%|██████████| 5582/5582 [04:19<00:00, 21.48it/s]\n",
      "/Users/aliyilmaz/anaconda3/envs/pytorch_env/lib/python3.12/site-packages/sklearn/metrics/_classification.py:1509: UndefinedMetricWarning: Precision is ill-defined and being set to 0.0 in labels with no predicted samples. Use `zero_division` parameter to control this behavior.\n",
      "  _warn_prf(average, modifier, f\"{metric.capitalize()} is\", len(result))\n",
      "/Users/aliyilmaz/anaconda3/envs/pytorch_env/lib/python3.12/site-packages/sklearn/metrics/_classification.py:1509: UndefinedMetricWarning: Precision is ill-defined and being set to 0.0 in labels with no predicted samples. Use `zero_division` parameter to control this behavior.\n",
      "  _warn_prf(average, modifier, f\"{metric.capitalize()} is\", len(result))\n"
     ]
    },
    {
     "name": "stdout",
     "output_type": "stream",
     "text": [
      "epoch 3: trainloss 0.57, testloss 0.28 accuracy=0.77, kappa=0.72, f1_micro=0.77, f1_macro=0.55, f1_weighted=0.77, recall_micro=0.77, recall_macro=0.55, recall_weighted=0.77, precision_micro=0.77, precision_macro=0.55, precision_weighted=0.80\n"
     ]
    },
    {
     "name": "stderr",
     "output_type": "stream",
     "text": [
      "train loss=0.51: 100%|██████████| 13427/13427 [13:57<00:00, 16.04it/s]\n",
      "test loss=1.19: 100%|██████████| 5582/5582 [04:20<00:00, 21.46it/s]\n",
      "/Users/aliyilmaz/anaconda3/envs/pytorch_env/lib/python3.12/site-packages/sklearn/metrics/_classification.py:1509: UndefinedMetricWarning: Precision is ill-defined and being set to 0.0 in labels with no predicted samples. Use `zero_division` parameter to control this behavior.\n",
      "  _warn_prf(average, modifier, f\"{metric.capitalize()} is\", len(result))\n",
      "/Users/aliyilmaz/anaconda3/envs/pytorch_env/lib/python3.12/site-packages/sklearn/metrics/_classification.py:1509: UndefinedMetricWarning: Precision is ill-defined and being set to 0.0 in labels with no predicted samples. Use `zero_division` parameter to control this behavior.\n",
      "  _warn_prf(average, modifier, f\"{metric.capitalize()} is\", len(result))\n"
     ]
    },
    {
     "name": "stdout",
     "output_type": "stream",
     "text": [
      "epoch 4: trainloss 0.45, testloss 0.25 accuracy=0.79, kappa=0.73, f1_micro=0.79, f1_macro=0.55, f1_weighted=0.79, recall_micro=0.79, recall_macro=0.55, recall_weighted=0.79, precision_micro=0.79, precision_macro=0.55, precision_weighted=0.79\n"
     ]
    },
    {
     "name": "stderr",
     "output_type": "stream",
     "text": [
      "train loss=0.53: 100%|██████████| 13427/13427 [55:22<00:00,  4.04it/s]    \n",
      "test loss=1.14: 100%|██████████| 5582/5582 [49:53<00:00,  1.86it/s]    \n",
      "/Users/aliyilmaz/anaconda3/envs/pytorch_env/lib/python3.12/site-packages/sklearn/metrics/_classification.py:1509: UndefinedMetricWarning: Precision is ill-defined and being set to 0.0 in labels with no predicted samples. Use `zero_division` parameter to control this behavior.\n",
      "  _warn_prf(average, modifier, f\"{metric.capitalize()} is\", len(result))\n",
      "/Users/aliyilmaz/anaconda3/envs/pytorch_env/lib/python3.12/site-packages/sklearn/metrics/_classification.py:1509: UndefinedMetricWarning: Precision is ill-defined and being set to 0.0 in labels with no predicted samples. Use `zero_division` parameter to control this behavior.\n",
      "  _warn_prf(average, modifier, f\"{metric.capitalize()} is\", len(result))\n"
     ]
    },
    {
     "name": "stdout",
     "output_type": "stream",
     "text": [
      "epoch 5: trainloss 0.60, testloss 0.28 accuracy=0.80, kappa=0.75, f1_micro=0.80, f1_macro=0.56, f1_weighted=0.80, recall_micro=0.80, recall_macro=0.55, recall_weighted=0.80, precision_micro=0.80, precision_macro=0.56, precision_weighted=0.80\n"
     ]
    },
    {
     "name": "stderr",
     "output_type": "stream",
     "text": [
      "train loss=0.34: 100%|██████████| 13427/13427 [12:24<00:00, 18.03it/s]\n",
      "test loss=0.75: 100%|██████████| 5582/5582 [03:42<00:00, 25.12it/s]\n",
      "/Users/aliyilmaz/anaconda3/envs/pytorch_env/lib/python3.12/site-packages/sklearn/metrics/_classification.py:1509: UndefinedMetricWarning: Precision is ill-defined and being set to 0.0 in labels with no predicted samples. Use `zero_division` parameter to control this behavior.\n",
      "  _warn_prf(average, modifier, f\"{metric.capitalize()} is\", len(result))\n",
      "/Users/aliyilmaz/anaconda3/envs/pytorch_env/lib/python3.12/site-packages/sklearn/metrics/_classification.py:1509: UndefinedMetricWarning: Precision is ill-defined and being set to 0.0 in labels with no predicted samples. Use `zero_division` parameter to control this behavior.\n",
      "  _warn_prf(average, modifier, f\"{metric.capitalize()} is\", len(result))\n"
     ]
    },
    {
     "name": "stdout",
     "output_type": "stream",
     "text": [
      "epoch 6: trainloss 0.40, testloss 0.29 accuracy=0.81, kappa=0.75, f1_micro=0.81, f1_macro=0.56, f1_weighted=0.80, recall_micro=0.81, recall_macro=0.55, recall_weighted=0.81, precision_micro=0.81, precision_macro=0.57, precision_weighted=0.80\n"
     ]
    },
    {
     "name": "stderr",
     "output_type": "stream",
     "text": [
      "train loss=0.21: 100%|██████████| 13427/13427 [12:40<00:00, 17.66it/s]\n",
      "test loss=1.01: 100%|██████████| 5582/5582 [03:56<00:00, 23.61it/s]\n",
      "/Users/aliyilmaz/anaconda3/envs/pytorch_env/lib/python3.12/site-packages/sklearn/metrics/_classification.py:1509: UndefinedMetricWarning: Precision is ill-defined and being set to 0.0 in labels with no predicted samples. Use `zero_division` parameter to control this behavior.\n",
      "  _warn_prf(average, modifier, f\"{metric.capitalize()} is\", len(result))\n",
      "/Users/aliyilmaz/anaconda3/envs/pytorch_env/lib/python3.12/site-packages/sklearn/metrics/_classification.py:1509: UndefinedMetricWarning: Precision is ill-defined and being set to 0.0 in labels with no predicted samples. Use `zero_division` parameter to control this behavior.\n",
      "  _warn_prf(average, modifier, f\"{metric.capitalize()} is\", len(result))\n"
     ]
    },
    {
     "name": "stdout",
     "output_type": "stream",
     "text": [
      "epoch 7: trainloss 0.32, testloss 0.31 accuracy=0.80, kappa=0.75, f1_micro=0.80, f1_macro=0.56, f1_weighted=0.80, recall_micro=0.80, recall_macro=0.56, recall_weighted=0.80, precision_micro=0.80, precision_macro=0.56, precision_weighted=0.81\n"
     ]
    },
    {
     "name": "stderr",
     "output_type": "stream",
     "text": [
      "train loss=0.40: 100%|██████████| 13427/13427 [21:11<00:00, 10.56it/s]   \n",
      "test loss=0.90: 100%|██████████| 5582/5582 [04:21<00:00, 21.38it/s]\n",
      "/Users/aliyilmaz/anaconda3/envs/pytorch_env/lib/python3.12/site-packages/sklearn/metrics/_classification.py:1509: UndefinedMetricWarning: Precision is ill-defined and being set to 0.0 in labels with no predicted samples. Use `zero_division` parameter to control this behavior.\n",
      "  _warn_prf(average, modifier, f\"{metric.capitalize()} is\", len(result))\n",
      "/Users/aliyilmaz/anaconda3/envs/pytorch_env/lib/python3.12/site-packages/sklearn/metrics/_classification.py:1509: UndefinedMetricWarning: Precision is ill-defined and being set to 0.0 in labels with no predicted samples. Use `zero_division` parameter to control this behavior.\n",
      "  _warn_prf(average, modifier, f\"{metric.capitalize()} is\", len(result))\n"
     ]
    },
    {
     "name": "stdout",
     "output_type": "stream",
     "text": [
      "epoch 8: trainloss 0.46, testloss 0.33 accuracy=0.79, kappa=0.74, f1_micro=0.79, f1_macro=0.55, f1_weighted=0.79, recall_micro=0.79, recall_macro=0.55, recall_weighted=0.79, precision_micro=0.79, precision_macro=0.55, precision_weighted=0.80\n"
     ]
    },
    {
     "name": "stderr",
     "output_type": "stream",
     "text": [
      "train loss=0.75: 100%|██████████| 13427/13427 [12:46<00:00, 17.51it/s]\n",
      "test loss=1.00: 100%|██████████| 5582/5582 [03:56<00:00, 23.57it/s]\n",
      "/Users/aliyilmaz/anaconda3/envs/pytorch_env/lib/python3.12/site-packages/sklearn/metrics/_classification.py:1509: UndefinedMetricWarning: Precision is ill-defined and being set to 0.0 in labels with no predicted samples. Use `zero_division` parameter to control this behavior.\n",
      "  _warn_prf(average, modifier, f\"{metric.capitalize()} is\", len(result))\n",
      "/Users/aliyilmaz/anaconda3/envs/pytorch_env/lib/python3.12/site-packages/sklearn/metrics/_classification.py:1509: UndefinedMetricWarning: Precision is ill-defined and being set to 0.0 in labels with no predicted samples. Use `zero_division` parameter to control this behavior.\n",
      "  _warn_prf(average, modifier, f\"{metric.capitalize()} is\", len(result))\n"
     ]
    },
    {
     "name": "stdout",
     "output_type": "stream",
     "text": [
      "epoch 9: trainloss 0.53, testloss 0.34 accuracy=0.80, kappa=0.74, f1_micro=0.80, f1_macro=0.56, f1_weighted=0.80, recall_micro=0.80, recall_macro=0.56, recall_weighted=0.80, precision_micro=0.80, precision_macro=0.56, precision_weighted=0.80\n"
     ]
    }
   ],
   "source": [
    "device = \"mps\" if torch.backends.mps.is_available() else \"cpu\"\n",
    "model = LSTM_Model(input_size=13, hidden_size=64, num_layers=2, output_size=9, bidirectional=False, dropout=0.2, c_norm=True).to(device)\n",
    "train_dataloader, test_dataloader, meta = get_dataloader(\"evaluation4\", batchsize=32, num_workers=0)\n",
    "criterion = torch.nn.CrossEntropyLoss(reduction=\"mean\")\n",
    "optimizer = Adam(model.parameters(), 0.005, weight_decay=1e-6)\n",
    "log = list()\n",
    "for epoch in range(10):\n",
    "    train_loss = train_epoch(model, optimizer, criterion, train_dataloader, device)\n",
    "    test_loss, y_true, y_pred, *_ = test_epoch(model, criterion, test_dataloader, device)\n",
    "    scores4 = metrics(y_true.cpu(), y_pred.cpu())\n",
    "    scores_msg = \", \".join([f\"{k}={v:.2f}\" for (k, v) in scores4.items()])\n",
    "    test_loss = test_loss.cpu().detach().numpy()[0]\n",
    "    train_loss = train_loss.cpu().detach().numpy()[0]\n",
    "    print(f\"epoch {epoch}: trainloss {train_loss:.2f}, testloss {test_loss:.2f} \" + scores_msg)\n",
    "\n",
    "    scores4[\"epoch\"] = epoch\n",
    "    scores4[\"trainloss\"] = train_loss\n",
    "    scores4[\"testloss\"] = test_loss\n",
    "    log.append(scores4)\n",
    "\n",
    "    log_df = pd.DataFrame(log).set_index(\"epoch\")\n",
    "    log_df.to_csv(\"trainlog234.csv\")"
   ]
  },
  {
   "cell_type": "markdown",
   "metadata": {},
   "source": [
    "# Dummy Model Training"
   ]
  },
  {
   "cell_type": "code",
   "execution_count": 61,
   "metadata": {},
   "outputs": [],
   "source": [
    "# Take small part of fh01 for training\n",
    "small_frh01 = torch.utils.data.Subset(frh01, range(0, 1000))\n",
    "# Train - test split\n",
    "import sklearn.model_selection\n",
    "train_indices, test_indices = sklearn.model_selection.train_test_split(range(len(small_frh01)), test_size=0.2)\n",
    "train_dataset = torch.utils.data.Subset(small_frh01, train_indices)\n",
    "test_dataset = torch.utils.data.Subset(small_frh01, test_indices)\n",
    "train_dataloader1 = DataLoader(train_dataset, batch_size=8, shuffle=True)\n",
    "test_dataloader1 = DataLoader(test_dataset, batch_size=8, shuffle=False)\n",
    "dummy_model = LSTM_Model(input_size=13, hidden_size=64, num_layers=4, output_size=9, bidirectional=False, dropout=0, c_norm=False).to(device)\n",
    "criterion1 = torch.nn.CrossEntropyLoss(reduction=\"mean\")\n",
    "optimizer1 = Adam(dummy_model.parameters(), 0.005, weight_decay=1e-6)\n"
   ]
  },
  {
   "cell_type": "code",
   "execution_count": 67,
   "metadata": {},
   "outputs": [
    {
     "name": "stderr",
     "output_type": "stream",
     "text": [
      "train loss=1.34: 100%|██████████| 100/100 [00:02<00:00, 38.28it/s]\n",
      "test loss=1.48: 100%|██████████| 25/25 [00:00<00:00, 54.17it/s]\n",
      "/Users/aliyilmaz/anaconda3/envs/pytorch_env/lib/python3.12/site-packages/sklearn/metrics/_classification.py:1509: UndefinedMetricWarning: Precision is ill-defined and being set to 0.0 in labels with no predicted samples. Use `zero_division` parameter to control this behavior.\n",
      "  _warn_prf(average, modifier, f\"{metric.capitalize()} is\", len(result))\n",
      "/Users/aliyilmaz/anaconda3/envs/pytorch_env/lib/python3.12/site-packages/sklearn/metrics/_classification.py:1509: UndefinedMetricWarning: Precision is ill-defined and being set to 0.0 in labels with no predicted samples. Use `zero_division` parameter to control this behavior.\n",
      "  _warn_prf(average, modifier, f\"{metric.capitalize()} is\", len(result))\n"
     ]
    },
    {
     "name": "stdout",
     "output_type": "stream",
     "text": [
      "epoch 0: trainloss 1.44, testloss 1.40 accuracy=0.41, kappa=0.15, f1_micro=0.41, f1_macro=0.15, f1_weighted=0.31, recall_micro=0.41, recall_macro=0.19, recall_weighted=0.41, precision_micro=0.41, precision_macro=0.12, precision_weighted=0.25, epoch=9.00, trainloss=1.68, testloss=1.33\n"
     ]
    },
    {
     "name": "stderr",
     "output_type": "stream",
     "text": [
      "train loss=1.13: 100%|██████████| 100/100 [00:02<00:00, 40.09it/s]\n",
      "test loss=1.57: 100%|██████████| 25/25 [00:00<00:00, 56.76it/s]\n",
      "/Users/aliyilmaz/anaconda3/envs/pytorch_env/lib/python3.12/site-packages/sklearn/metrics/_classification.py:1509: UndefinedMetricWarning: Precision is ill-defined and being set to 0.0 in labels with no predicted samples. Use `zero_division` parameter to control this behavior.\n",
      "  _warn_prf(average, modifier, f\"{metric.capitalize()} is\", len(result))\n",
      "/Users/aliyilmaz/anaconda3/envs/pytorch_env/lib/python3.12/site-packages/sklearn/metrics/_classification.py:1509: UndefinedMetricWarning: Precision is ill-defined and being set to 0.0 in labels with no predicted samples. Use `zero_division` parameter to control this behavior.\n",
      "  _warn_prf(average, modifier, f\"{metric.capitalize()} is\", len(result))\n"
     ]
    },
    {
     "name": "stdout",
     "output_type": "stream",
     "text": [
      "epoch 1: trainloss 1.38, testloss 1.32 accuracy=0.41, kappa=0.15, f1_micro=0.41, f1_macro=0.15, f1_weighted=0.31, recall_micro=0.41, recall_macro=0.19, recall_weighted=0.41, precision_micro=0.41, precision_macro=0.12, precision_weighted=0.25, epoch=0.00, trainloss=1.44, testloss=1.40\n"
     ]
    },
    {
     "name": "stderr",
     "output_type": "stream",
     "text": [
      "train loss=1.62: 100%|██████████| 100/100 [00:02<00:00, 39.35it/s]\n",
      "test loss=1.50: 100%|██████████| 25/25 [00:00<00:00, 54.38it/s]\n",
      "/Users/aliyilmaz/anaconda3/envs/pytorch_env/lib/python3.12/site-packages/sklearn/metrics/_classification.py:1509: UndefinedMetricWarning: Precision is ill-defined and being set to 0.0 in labels with no predicted samples. Use `zero_division` parameter to control this behavior.\n",
      "  _warn_prf(average, modifier, f\"{metric.capitalize()} is\", len(result))\n",
      "/Users/aliyilmaz/anaconda3/envs/pytorch_env/lib/python3.12/site-packages/sklearn/metrics/_classification.py:1509: UndefinedMetricWarning: Precision is ill-defined and being set to 0.0 in labels with no predicted samples. Use `zero_division` parameter to control this behavior.\n",
      "  _warn_prf(average, modifier, f\"{metric.capitalize()} is\", len(result))\n"
     ]
    },
    {
     "name": "stdout",
     "output_type": "stream",
     "text": [
      "epoch 2: trainloss 1.66, testloss 1.47 accuracy=0.41, kappa=0.15, f1_micro=0.41, f1_macro=0.15, f1_weighted=0.31, recall_micro=0.41, recall_macro=0.19, recall_weighted=0.41, precision_micro=0.41, precision_macro=0.12, precision_weighted=0.25, epoch=1.00, trainloss=1.38, testloss=1.32\n"
     ]
    },
    {
     "name": "stderr",
     "output_type": "stream",
     "text": [
      "train loss=1.55: 100%|██████████| 100/100 [00:02<00:00, 41.29it/s]\n",
      "test loss=1.43: 100%|██████████| 25/25 [00:00<00:00, 51.78it/s]\n",
      "/Users/aliyilmaz/anaconda3/envs/pytorch_env/lib/python3.12/site-packages/sklearn/metrics/_classification.py:1509: UndefinedMetricWarning: Precision is ill-defined and being set to 0.0 in labels with no predicted samples. Use `zero_division` parameter to control this behavior.\n",
      "  _warn_prf(average, modifier, f\"{metric.capitalize()} is\", len(result))\n",
      "/Users/aliyilmaz/anaconda3/envs/pytorch_env/lib/python3.12/site-packages/sklearn/metrics/_classification.py:1509: UndefinedMetricWarning: Precision is ill-defined and being set to 0.0 in labels with no predicted samples. Use `zero_division` parameter to control this behavior.\n",
      "  _warn_prf(average, modifier, f\"{metric.capitalize()} is\", len(result))\n"
     ]
    },
    {
     "name": "stdout",
     "output_type": "stream",
     "text": [
      "epoch 3: trainloss 1.86, testloss 1.41 accuracy=0.41, kappa=0.15, f1_micro=0.41, f1_macro=0.15, f1_weighted=0.31, recall_micro=0.41, recall_macro=0.19, recall_weighted=0.41, precision_micro=0.41, precision_macro=0.12, precision_weighted=0.25, epoch=2.00, trainloss=1.66, testloss=1.47\n"
     ]
    },
    {
     "name": "stderr",
     "output_type": "stream",
     "text": [
      "train loss=1.68: 100%|██████████| 100/100 [00:02<00:00, 39.41it/s]\n",
      "test loss=1.52: 100%|██████████| 25/25 [00:00<00:00, 53.62it/s]"
     ]
    },
    {
     "name": "stdout",
     "output_type": "stream",
     "text": [
      "epoch 4: trainloss 1.54, testloss 1.48 accuracy=0.41, kappa=0.15, f1_micro=0.41, f1_macro=0.15, f1_weighted=0.31, recall_micro=0.41, recall_macro=0.19, recall_weighted=0.41, precision_micro=0.41, precision_macro=0.12, precision_weighted=0.25, epoch=3.00, trainloss=1.86, testloss=1.41\n"
     ]
    },
    {
     "name": "stderr",
     "output_type": "stream",
     "text": [
      "\n",
      "/Users/aliyilmaz/anaconda3/envs/pytorch_env/lib/python3.12/site-packages/sklearn/metrics/_classification.py:1509: UndefinedMetricWarning: Precision is ill-defined and being set to 0.0 in labels with no predicted samples. Use `zero_division` parameter to control this behavior.\n",
      "  _warn_prf(average, modifier, f\"{metric.capitalize()} is\", len(result))\n",
      "/Users/aliyilmaz/anaconda3/envs/pytorch_env/lib/python3.12/site-packages/sklearn/metrics/_classification.py:1509: UndefinedMetricWarning: Precision is ill-defined and being set to 0.0 in labels with no predicted samples. Use `zero_division` parameter to control this behavior.\n",
      "  _warn_prf(average, modifier, f\"{metric.capitalize()} is\", len(result))\n"
     ]
    }
   ],
   "source": [
    "log = list()\n",
    "for epoch in range(5):\n",
    "    train_loss = train_epoch(dummy_model, optimizer1, criterion1, train_dataloader1, device)\n",
    "    test_loss, y_true, y_pred, *_ = test_epoch(dummy_model, criterion1, test_dataloader1, device)\n",
    "    scores1 = metrics(y_true.cpu(), y_pred.cpu())\n",
    "    scores_msg = \", \".join([f\"{k}={v:.2f}\" for (k, v) in scores.items()])\n",
    "    test_loss = test_loss.cpu().detach().numpy()[0]\n",
    "    train_loss = train_loss.cpu().detach().numpy()[0]\n",
    "    print(f\"epoch {epoch}: trainloss {train_loss:.2f}, testloss {test_loss:.2f} \" + scores_msg)\n",
    "\n",
    "    scores[\"epoch\"] = epoch\n",
    "    scores[\"trainloss\"] = train_loss\n",
    "    scores[\"testloss\"] = test_loss\n",
    "    log.append(scores)\n",
    "\n",
    "    log_df = pd.DataFrame(log).set_index(\"epoch\")\n",
    "    log_df.to_csv(\"trainlog.csv\")"
   ]
  },
  {
   "cell_type": "code",
   "execution_count": 3,
   "metadata": {},
   "outputs": [],
   "source": [
    "df123 = pd.read_csv(\"csv/A/trainlog123.csv\")\n",
    "df124 = pd.read_csv(\"csv/A/trainlog124.csv\")\n",
    "df134 = pd.read_csv(\"csv/A/trainlog134.csv\")\n",
    "df234 = pd.read_csv(\"csv/A/trainlog234.csv\")\n",
    "df_result = pd.read_csv(\"csv/A/results_A.csv\")"
   ]
  },
  {
   "cell_type": "code",
   "execution_count": 7,
   "metadata": {},
   "outputs": [
    {
     "data": {
      "image/png": "[encoded data removed]",
      "text/plain": [
       "<Figure size 1000x500 with 1 Axes>"
      ]
     },
     "metadata": {},
     "output_type": "display_data"
    }
   ],
   "source": [
    "# Plot trainloss and testloss\n",
    "figura, ax = plt.subplots(1, 1, figsize=(10, 5))\n",
    "df234[[\"trainloss\", \"testloss\"]].plot(ax=ax)\n",
    "ax.set_title(\"Train and test loss\")\n",
    "ax.set_xlabel(\"Epoch\")\n",
    "ax.set_ylabel(\"Loss\")\n",
    "plt.show()\n"
   ]
  },
  {
   "cell_type": "code",
   "execution_count": 9,
   "metadata": {},
   "outputs": [
    {
     "data": {
      "text/html": [
       "<div>\n",
       "<style scoped>\n",
       "    .dataframe tbody tr th:only-of-type {\n",
       "        vertical-align: middle;\n",
       "    }\n",
       "\n",
       "    .dataframe tbody tr th {\n",
       "        vertical-align: top;\n",
       "    }\n",
       "\n",
       "    .dataframe thead th {\n",
       "        text-align: right;\n",
       "    }\n",
       "</style>\n",
       "<table border=\"1\" class=\"dataframe\">\n",
       "  <thead>\n",
       "    <tr style=\"text-align: right;\">\n",
       "      <th></th>\n",
       "      <th>dataset</th>\n",
       "      <th>trainloss</th>\n",
       "      <th>testloss</th>\n",
       "      <th>accuracy</th>\n",
       "      <th>f1_weighted</th>\n",
       "      <th>kappa</th>\n",
       "    </tr>\n",
       "  </thead>\n",
       "  <tbody>\n",
       "    <tr>\n",
       "      <th>0</th>\n",
       "      <td>123</td>\n",
       "      <td>0.404567</td>\n",
       "      <td>0.723069</td>\n",
       "      <td>0.779715</td>\n",
       "      <td>0.775991</td>\n",
       "      <td>0.713967</td>\n",
       "    </tr>\n",
       "    <tr>\n",
       "      <th>1</th>\n",
       "      <td>124</td>\n",
       "      <td>0.578021</td>\n",
       "      <td>0.376704</td>\n",
       "      <td>0.778504</td>\n",
       "      <td>0.763583</td>\n",
       "      <td>0.708118</td>\n",
       "    </tr>\n",
       "    <tr>\n",
       "      <th>2</th>\n",
       "      <td>134</td>\n",
       "      <td>0.364634</td>\n",
       "      <td>0.657537</td>\n",
       "      <td>0.781556</td>\n",
       "      <td>0.779226</td>\n",
       "      <td>0.715002</td>\n",
       "    </tr>\n",
       "    <tr>\n",
       "      <th>3</th>\n",
       "      <td>234</td>\n",
       "      <td>0.531347</td>\n",
       "      <td>0.336519</td>\n",
       "      <td>0.798453</td>\n",
       "      <td>0.797201</td>\n",
       "      <td>0.744449</td>\n",
       "    </tr>\n",
       "  </tbody>\n",
       "</table>\n",
       "</div>"
      ],
      "text/plain": [
       "   dataset  trainloss  testloss  accuracy  f1_weighted     kappa\n",
       "0      123   0.404567  0.723069  0.779715     0.775991  0.713967\n",
       "1      124   0.578021  0.376704  0.778504     0.763583  0.708118\n",
       "2      134   0.364634  0.657537  0.781556     0.779226  0.715002\n",
       "3      234   0.531347  0.336519  0.798453     0.797201  0.744449"
      ]
     },
     "execution_count": 9,
     "metadata": {},
     "output_type": "execute_result"
    }
   ],
   "source": [
    "df_result"
   ]
  },
  {
   "cell_type": "code",
   "execution_count": null,
   "metadata": {},
   "outputs": [],
   "source": []
  }
 ],
 "metadata": {
  "kernelspec": {
   "display_name": "pytorch_env",
   "language": "python",
   "name": "python3"
  },
  "language_info": {
   "codemirror_mode": {
    "name": "ipython",
    "version": 3
   },
   "file_extension": ".py",
   "mimetype": "text/x-python",
   "name": "python",
   "nbconvert_exporter": "python",
   "pygments_lexer": "ipython3",
   "version": "3.12.1"
  }
 },
 "nbformat": 4,
 "nbformat_minor": 2
}
